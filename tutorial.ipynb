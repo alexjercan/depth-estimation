{
  "nbformat": 4,
  "nbformat_minor": 0,
  "metadata": {
    "colab": {
      "name": "Untitled4.ipynb",
      "provenance": [],
      "collapsed_sections": [],
      "authorship_tag": "ABX9TyNr7NiZAnhsaEaE84kn1Jtp",
      "include_colab_link": true
    },
    "kernelspec": {
      "name": "python3",
      "display_name": "Python 3"
    },
    "language_info": {
      "name": "python"
    },
    "accelerator": "GPU"
  },
  "cells": [
    {
      "cell_type": "markdown",
      "metadata": {
        "id": "view-in-github",
        "colab_type": "text"
      },
      "source": [
        "<a href=\"https://colab.research.google.com/github/alexjercan/depth-estimation/blob/master/tutorial.ipynb\" target=\"_parent\"><img src=\"https://colab.research.google.com/assets/colab-badge.svg\" alt=\"Open In Colab\"/></a>"
      ]
    },
    {
      "cell_type": "code",
      "metadata": {
        "id": "siz-VkAr2P8g"
      },
      "source": [
        "!pip install matplotlib==3.3.3"
      ],
      "execution_count": null,
      "outputs": []
    },
    {
      "cell_type": "code",
      "metadata": {
        "id": "Bgiit0eg0glA"
      },
      "source": [
        "!git clone https://github.com/alexjercan/depth-estimation.git\n",
        "%cd depth-estimation\n",
        "\n",
        "import torch\n",
        "from IPython.display import clear_output\n",
        "\n",
        "clear_output()\n",
        "print('Setup complete. Using torch %s %s' % (torch.__version__, torch.cuda.get_device_properties(0) if torch.cuda.is_available() else 'CPU'))"
      ],
      "execution_count": null,
      "outputs": []
    },
    {
      "cell_type": "code",
      "metadata": {
        "id": "kSQMVSwG05lO"
      },
      "source": [
        "# Download bdataset\n",
        "torch.hub.download_url_to_file('https://github.com/alexjercan/depth-estimation/releases/download/v1.0/bdataset_stereo.zip', 'tmp.zip')\n",
        "!unzip -q tmp.zip -d ../ && rm tmp.zip"
      ],
      "execution_count": null,
      "outputs": []
    },
    {
      "cell_type": "code",
      "metadata": {
        "id": "wCPfprXL1KIe"
      },
      "source": [
        "torch.hub.download_url_to_file('https://github.com/alexjercan/mesh-pose-reconstruction/releases/download/v1.0/normal.pth', 'normal.pth')"
      ],
      "execution_count": null,
      "outputs": []
    },
    {
      "cell_type": "code",
      "metadata": {
        "id": "Bn0aaWnu3OfX"
      },
      "source": [
        "from attr_dict import AttrDict\n",
        "\n",
        "config_train = AttrDict()\n",
        "\n",
        "config_train.DATASET_ROOT = \"../bdataset_stereo\"\n",
        "config_train.JSON_PATH = \"train.json\"\n",
        "config_train.BATCH_SIZE = 2\n",
        "config_train.IMAGE_SIZE = 256\n",
        "config_train.WORKERS = 8\n",
        "config_train.PIN_MEMORY = True\n",
        "config_train.SHUFFLE = True\n",
        "\n",
        "config_train.LEARNING_RATE = 1e-3\n",
        "config_train.BETAS = [.9, .999]\n",
        "config_train.MILESTONES = [150]\n",
        "config_train.GAMMA = .5\n",
        "\n",
        "config_train.NUM_EPOCHS = 10\n",
        "config_train.OUT_PATH =\"./runs\"\n",
        "config_train.LOAD_MODEL = False\n",
        "config_train.CHECKPOINT_FILE = \"normal.pth\"\n",
        "\n",
        "config_test = AttrDict()\n",
        "\n",
        "config_test.DATASET_ROOT = \"../bdataset_stereo\"\n",
        "config_test.JSON_PATH = \"test.json\"\n",
        "config_test.BATCH_SIZE = 2\n",
        "config_test.IMAGE_SIZE = 256\n",
        "config_test.WORKERS = 8\n",
        "config_test.PIN_MEMORY = True\n",
        "config_test.SHUFFLE = False\n",
        "\n",
        "config_test.OUT_PATH = \"./runs\"\n",
        "config_test.LOAD_MODEL = True\n",
        "config_test.CHECKPOINT_FILE = \"normal.pth\"\n",
        "\n",
        "config_detect = AttrDict()\n",
        "\n",
        "config_detect.JSON = [{\"imageL\": \"data/left.png\", \"imageR\": \"data/right.png\", \"output\": \"data/depth.exr\"}]\n",
        "config_detect.IMAGE_SIZE = 256\n",
        "config_detect.CHECKPOINT_FILE = \"normal.pth\""
      ],
      "execution_count": null,
      "outputs": []
    },
    {
      "cell_type": "code",
      "metadata": {
        "id": "OqqSLt629xOl"
      },
      "source": [
        "from train import train\n",
        "train(config_train, config_test)"
      ],
      "execution_count": null,
      "outputs": []
    },
    {
      "cell_type": "code",
      "metadata": {
        "id": "N5p16UFd3FpN"
      },
      "source": [
        "from test import test\n",
        "test(config=config_test)"
      ],
      "execution_count": null,
      "outputs": []
    },
    {
      "cell_type": "code",
      "metadata": {
        "id": "_LQXgZbw32a2"
      },
      "source": [
        "from detect import detect\n",
        "detect(config=config_detect)"
      ],
      "execution_count": null,
      "outputs": []
    }
  ]
}