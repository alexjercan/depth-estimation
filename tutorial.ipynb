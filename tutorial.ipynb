{
  "nbformat": 4,
  "nbformat_minor": 0,
  "metadata": {
    "colab": {
      "name": "Untitled4.ipynb",
      "provenance": [],
      "collapsed_sections": [],
      "authorship_tag": "ABX9TyOXzt+h0O8z8jj6PUFS0Bgu",
      "include_colab_link": true
    },
    "kernelspec": {
      "name": "python3",
      "display_name": "Python 3"
    },
    "language_info": {
      "name": "python"
    },
    "accelerator": "GPU",
    "widgets": {
      "application/vnd.jupyter.widget-state+json": {
        "d5709e8bf3044c1d9111b33de4c6f450": {
          "model_module": "@jupyter-widgets/controls",
          "model_name": "HBoxModel",
          "state": {
            "_view_name": "HBoxView",
            "_dom_classes": [],
            "_model_name": "HBoxModel",
            "_view_module": "@jupyter-widgets/controls",
            "_model_module_version": "1.5.0",
            "_view_count": null,
            "_view_module_version": "1.5.0",
            "box_style": "",
            "layout": "IPY_MODEL_6e9bc56360ae4621bc3fe83586f811c7",
            "_model_module": "@jupyter-widgets/controls",
            "children": [
              "IPY_MODEL_3f32ad564e9a4de9945d38559081e0ed",
              "IPY_MODEL_3839f5f13c8d44d7914e8078a0473edb"
            ]
          }
        },
        "6e9bc56360ae4621bc3fe83586f811c7": {
          "model_module": "@jupyter-widgets/base",
          "model_name": "LayoutModel",
          "state": {
            "_view_name": "LayoutView",
            "grid_template_rows": null,
            "right": null,
            "justify_content": null,
            "_view_module": "@jupyter-widgets/base",
            "overflow": null,
            "_model_module_version": "1.2.0",
            "_view_count": null,
            "flex_flow": null,
            "width": null,
            "min_width": null,
            "border": null,
            "align_items": null,
            "bottom": null,
            "_model_module": "@jupyter-widgets/base",
            "top": null,
            "grid_column": null,
            "overflow_y": null,
            "overflow_x": null,
            "grid_auto_flow": null,
            "grid_area": null,
            "grid_template_columns": null,
            "flex": null,
            "_model_name": "LayoutModel",
            "justify_items": null,
            "grid_row": null,
            "max_height": null,
            "align_content": null,
            "visibility": null,
            "align_self": null,
            "height": null,
            "min_height": null,
            "padding": null,
            "grid_auto_rows": null,
            "grid_gap": null,
            "max_width": null,
            "order": null,
            "_view_module_version": "1.2.0",
            "grid_template_areas": null,
            "object_position": null,
            "object_fit": null,
            "grid_auto_columns": null,
            "margin": null,
            "display": null,
            "left": null
          }
        },
        "3f32ad564e9a4de9945d38559081e0ed": {
          "model_module": "@jupyter-widgets/controls",
          "model_name": "FloatProgressModel",
          "state": {
            "_view_name": "ProgressView",
            "style": "IPY_MODEL_d5588fb771c24952a4443ccc457345fb",
            "_dom_classes": [],
            "description": "100%",
            "_model_name": "FloatProgressModel",
            "bar_style": "success",
            "max": 116262275,
            "_view_module": "@jupyter-widgets/controls",
            "_model_module_version": "1.5.0",
            "value": 116262275,
            "_view_count": null,
            "_view_module_version": "1.5.0",
            "orientation": "horizontal",
            "min": 0,
            "description_tooltip": null,
            "_model_module": "@jupyter-widgets/controls",
            "layout": "IPY_MODEL_3035af685a3a43f5a87a836a13b66a41"
          }
        },
        "3839f5f13c8d44d7914e8078a0473edb": {
          "model_module": "@jupyter-widgets/controls",
          "model_name": "HTMLModel",
          "state": {
            "_view_name": "HTMLView",
            "style": "IPY_MODEL_0e5723dbf5834893999d19aee3add281",
            "_dom_classes": [],
            "description": "",
            "_model_name": "HTMLModel",
            "placeholder": "​",
            "_view_module": "@jupyter-widgets/controls",
            "_model_module_version": "1.5.0",
            "value": " 111M/111M [00:05&lt;00:00, 19.8MB/s]",
            "_view_count": null,
            "_view_module_version": "1.5.0",
            "description_tooltip": null,
            "_model_module": "@jupyter-widgets/controls",
            "layout": "IPY_MODEL_02c6ee8411ae43b8a7030b7df44a33d7"
          }
        },
        "d5588fb771c24952a4443ccc457345fb": {
          "model_module": "@jupyter-widgets/controls",
          "model_name": "ProgressStyleModel",
          "state": {
            "_view_name": "StyleView",
            "_model_name": "ProgressStyleModel",
            "description_width": "initial",
            "_view_module": "@jupyter-widgets/base",
            "_model_module_version": "1.5.0",
            "_view_count": null,
            "_view_module_version": "1.2.0",
            "bar_color": null,
            "_model_module": "@jupyter-widgets/controls"
          }
        },
        "3035af685a3a43f5a87a836a13b66a41": {
          "model_module": "@jupyter-widgets/base",
          "model_name": "LayoutModel",
          "state": {
            "_view_name": "LayoutView",
            "grid_template_rows": null,
            "right": null,
            "justify_content": null,
            "_view_module": "@jupyter-widgets/base",
            "overflow": null,
            "_model_module_version": "1.2.0",
            "_view_count": null,
            "flex_flow": null,
            "width": null,
            "min_width": null,
            "border": null,
            "align_items": null,
            "bottom": null,
            "_model_module": "@jupyter-widgets/base",
            "top": null,
            "grid_column": null,
            "overflow_y": null,
            "overflow_x": null,
            "grid_auto_flow": null,
            "grid_area": null,
            "grid_template_columns": null,
            "flex": null,
            "_model_name": "LayoutModel",
            "justify_items": null,
            "grid_row": null,
            "max_height": null,
            "align_content": null,
            "visibility": null,
            "align_self": null,
            "height": null,
            "min_height": null,
            "padding": null,
            "grid_auto_rows": null,
            "grid_gap": null,
            "max_width": null,
            "order": null,
            "_view_module_version": "1.2.0",
            "grid_template_areas": null,
            "object_position": null,
            "object_fit": null,
            "grid_auto_columns": null,
            "margin": null,
            "display": null,
            "left": null
          }
        },
        "0e5723dbf5834893999d19aee3add281": {
          "model_module": "@jupyter-widgets/controls",
          "model_name": "DescriptionStyleModel",
          "state": {
            "_view_name": "StyleView",
            "_model_name": "DescriptionStyleModel",
            "description_width": "",
            "_view_module": "@jupyter-widgets/base",
            "_model_module_version": "1.5.0",
            "_view_count": null,
            "_view_module_version": "1.2.0",
            "_model_module": "@jupyter-widgets/controls"
          }
        },
        "02c6ee8411ae43b8a7030b7df44a33d7": {
          "model_module": "@jupyter-widgets/base",
          "model_name": "LayoutModel",
          "state": {
            "_view_name": "LayoutView",
            "grid_template_rows": null,
            "right": null,
            "justify_content": null,
            "_view_module": "@jupyter-widgets/base",
            "overflow": null,
            "_model_module_version": "1.2.0",
            "_view_count": null,
            "flex_flow": null,
            "width": null,
            "min_width": null,
            "border": null,
            "align_items": null,
            "bottom": null,
            "_model_module": "@jupyter-widgets/base",
            "top": null,
            "grid_column": null,
            "overflow_y": null,
            "overflow_x": null,
            "grid_auto_flow": null,
            "grid_area": null,
            "grid_template_columns": null,
            "flex": null,
            "_model_name": "LayoutModel",
            "justify_items": null,
            "grid_row": null,
            "max_height": null,
            "align_content": null,
            "visibility": null,
            "align_self": null,
            "height": null,
            "min_height": null,
            "padding": null,
            "grid_auto_rows": null,
            "grid_gap": null,
            "max_width": null,
            "order": null,
            "_view_module_version": "1.2.0",
            "grid_template_areas": null,
            "object_position": null,
            "object_fit": null,
            "grid_auto_columns": null,
            "margin": null,
            "display": null,
            "left": null
          }
        }
      }
    }
  },
  "cells": [
    {
      "cell_type": "markdown",
      "metadata": {
        "id": "view-in-github",
        "colab_type": "text"
      },
      "source": [
        "<a href=\"https://colab.research.google.com/github/alexjercan/depth-estimation/blob/master/tutorial.ipynb\" target=\"_parent\"><img src=\"https://colab.research.google.com/assets/colab-badge.svg\" alt=\"Open In Colab\"/></a>"
      ]
    },
    {
      "cell_type": "code",
      "metadata": {
        "colab": {
          "base_uri": "https://localhost:8080/",
          "height": 777
        },
        "id": "siz-VkAr2P8g",
        "outputId": "01fc032f-2767-42e7-c871-8cd4cc414388"
      },
      "source": [
        "!pip install matplotlib==3.3.3 albumentations==0.5.2"
      ],
      "execution_count": 1,
      "outputs": [
        {
          "output_type": "stream",
          "text": [
            "Collecting matplotlib==3.3.3\n",
            "\u001b[?25l  Downloading https://files.pythonhosted.org/packages/30/f2/10c822cb0ca5ebec58bd1892187bc3e3db64a867ac26531c6204663fc218/matplotlib-3.3.3-cp37-cp37m-manylinux1_x86_64.whl (11.6MB)\n",
            "\u001b[K     |████████████████████████████████| 11.6MB 254kB/s \n",
            "\u001b[?25hCollecting albumentations==0.5.2\n",
            "\u001b[?25l  Downloading https://files.pythonhosted.org/packages/03/58/63fb1d742dc42d9ba2800ea741de1f2bc6bb05548d8724aa84794042eaf2/albumentations-0.5.2-py3-none-any.whl (72kB)\n",
            "\u001b[K     |████████████████████████████████| 81kB 7.2MB/s \n",
            "\u001b[?25hRequirement already satisfied: cycler>=0.10 in /usr/local/lib/python3.7/dist-packages (from matplotlib==3.3.3) (0.10.0)\n",
            "Requirement already satisfied: pillow>=6.2.0 in /usr/local/lib/python3.7/dist-packages (from matplotlib==3.3.3) (7.1.2)\n",
            "Requirement already satisfied: pyparsing!=2.0.4,!=2.1.2,!=2.1.6,>=2.0.3 in /usr/local/lib/python3.7/dist-packages (from matplotlib==3.3.3) (2.4.7)\n",
            "Requirement already satisfied: numpy>=1.15 in /usr/local/lib/python3.7/dist-packages (from matplotlib==3.3.3) (1.19.5)\n",
            "Requirement already satisfied: kiwisolver>=1.0.1 in /usr/local/lib/python3.7/dist-packages (from matplotlib==3.3.3) (1.3.1)\n",
            "Requirement already satisfied: python-dateutil>=2.1 in /usr/local/lib/python3.7/dist-packages (from matplotlib==3.3.3) (2.8.1)\n",
            "Requirement already satisfied: scikit-image>=0.16.1 in /usr/local/lib/python3.7/dist-packages (from albumentations==0.5.2) (0.16.2)\n",
            "Collecting opencv-python-headless>=4.1.1\n",
            "\u001b[?25l  Downloading https://files.pythonhosted.org/packages/6d/6d/92f377bece9b0ec9c893081dbe073a65b38d7ac12ef572b8f70554d08760/opencv_python_headless-4.5.1.48-cp37-cp37m-manylinux2014_x86_64.whl (37.6MB)\n",
            "\u001b[K     |████████████████████████████████| 37.6MB 79kB/s \n",
            "\u001b[?25hRequirement already satisfied: PyYAML in /usr/local/lib/python3.7/dist-packages (from albumentations==0.5.2) (3.13)\n",
            "Requirement already satisfied: scipy in /usr/local/lib/python3.7/dist-packages (from albumentations==0.5.2) (1.4.1)\n",
            "Collecting imgaug>=0.4.0\n",
            "\u001b[?25l  Downloading https://files.pythonhosted.org/packages/66/b1/af3142c4a85cba6da9f4ebb5ff4e21e2616309552caca5e8acefe9840622/imgaug-0.4.0-py2.py3-none-any.whl (948kB)\n",
            "\u001b[K     |████████████████████████████████| 952kB 37.4MB/s \n",
            "\u001b[?25hRequirement already satisfied: six in /usr/local/lib/python3.7/dist-packages (from cycler>=0.10->matplotlib==3.3.3) (1.15.0)\n",
            "Requirement already satisfied: imageio>=2.3.0 in /usr/local/lib/python3.7/dist-packages (from scikit-image>=0.16.1->albumentations==0.5.2) (2.4.1)\n",
            "Requirement already satisfied: networkx>=2.0 in /usr/local/lib/python3.7/dist-packages (from scikit-image>=0.16.1->albumentations==0.5.2) (2.5.1)\n",
            "Requirement already satisfied: PyWavelets>=0.4.0 in /usr/local/lib/python3.7/dist-packages (from scikit-image>=0.16.1->albumentations==0.5.2) (1.1.1)\n",
            "Requirement already satisfied: opencv-python in /usr/local/lib/python3.7/dist-packages (from imgaug>=0.4.0->albumentations==0.5.2) (4.1.2.30)\n",
            "Requirement already satisfied: Shapely in /usr/local/lib/python3.7/dist-packages (from imgaug>=0.4.0->albumentations==0.5.2) (1.7.1)\n",
            "Requirement already satisfied: decorator<5,>=4.3 in /usr/local/lib/python3.7/dist-packages (from networkx>=2.0->scikit-image>=0.16.1->albumentations==0.5.2) (4.4.2)\n",
            "Installing collected packages: matplotlib, opencv-python-headless, imgaug, albumentations\n",
            "  Found existing installation: matplotlib 3.2.2\n",
            "    Uninstalling matplotlib-3.2.2:\n",
            "      Successfully uninstalled matplotlib-3.2.2\n",
            "  Found existing installation: imgaug 0.2.9\n",
            "    Uninstalling imgaug-0.2.9:\n",
            "      Successfully uninstalled imgaug-0.2.9\n",
            "  Found existing installation: albumentations 0.1.12\n",
            "    Uninstalling albumentations-0.1.12:\n",
            "      Successfully uninstalled albumentations-0.1.12\n",
            "Successfully installed albumentations-0.5.2 imgaug-0.4.0 matplotlib-3.3.3 opencv-python-headless-4.5.1.48\n"
          ],
          "name": "stdout"
        },
        {
          "output_type": "display_data",
          "data": {
            "application/vnd.colab-display-data+json": {
              "pip_warning": {
                "packages": [
                  "matplotlib",
                  "mpl_toolkits"
                ]
              }
            }
          },
          "metadata": {
            "tags": []
          }
        }
      ]
    },
    {
      "cell_type": "code",
      "metadata": {
        "colab": {
          "base_uri": "https://localhost:8080/"
        },
        "id": "Bgiit0eg0glA",
        "outputId": "dd696e23-3897-4d8d-ae4c-f0d099f3c0c7"
      },
      "source": [
        "!git clone https://github.com/alexjercan/depth-estimation.git\n",
        "%cd depth-estimation\n",
        "\n",
        "import torch\n",
        "from IPython.display import clear_output\n",
        "\n",
        "clear_output()\n",
        "print('Setup complete. Using torch %s %s' % (torch.__version__, torch.cuda.get_device_properties(0) if torch.cuda.is_available() else 'CPU'))"
      ],
      "execution_count": 1,
      "outputs": [
        {
          "output_type": "stream",
          "text": [
            "Setup complete. Using torch 1.8.1+cu101 _CudaDeviceProperties(name='Tesla K80', major=3, minor=7, total_memory=11441MB, multi_processor_count=13)\n"
          ],
          "name": "stdout"
        }
      ]
    },
    {
      "cell_type": "code",
      "metadata": {
        "colab": {
          "base_uri": "https://localhost:8080/",
          "height": 66,
          "referenced_widgets": [
            "d5709e8bf3044c1d9111b33de4c6f450",
            "6e9bc56360ae4621bc3fe83586f811c7",
            "3f32ad564e9a4de9945d38559081e0ed",
            "3839f5f13c8d44d7914e8078a0473edb",
            "d5588fb771c24952a4443ccc457345fb",
            "3035af685a3a43f5a87a836a13b66a41",
            "0e5723dbf5834893999d19aee3add281",
            "02c6ee8411ae43b8a7030b7df44a33d7"
          ]
        },
        "id": "kSQMVSwG05lO",
        "outputId": "6248c293-1a32-43ee-98e7-40bfd42c46f5"
      },
      "source": [
        "# Download bdataset\n",
        "torch.hub.download_url_to_file('https://github.com/alexjercan/depth-estimation/releases/download/v1.0/bdataset_stereo.zip', 'tmp.zip')\n",
        "!unzip -q tmp.zip -d ../ && rm tmp.zip"
      ],
      "execution_count": 2,
      "outputs": [
        {
          "output_type": "display_data",
          "data": {
            "application/vnd.jupyter.widget-view+json": {
              "model_id": "d5709e8bf3044c1d9111b33de4c6f450",
              "version_minor": 0,
              "version_major": 2
            },
            "text/plain": [
              "HBox(children=(FloatProgress(value=0.0, max=116262275.0), HTML(value='')))"
            ]
          },
          "metadata": {
            "tags": []
          }
        },
        {
          "output_type": "stream",
          "text": [
            "\n"
          ],
          "name": "stdout"
        }
      ]
    },
    {
      "cell_type": "code",
      "metadata": {
        "colab": {
          "base_uri": "https://localhost:8080/"
        },
        "id": "kYeXOXtJvhb9",
        "outputId": "e008ce0a-c8cc-43d9-bc0b-8f274d9e6ec3"
      },
      "source": [
        "!git pull\n",
        "!python dataset.py\n",
        "!python model.py"
      ],
      "execution_count": 3,
      "outputs": [
        {
          "output_type": "stream",
          "text": [
            "Already up to date.\n",
            "dataset ok\n",
            "model ok\n"
          ],
          "name": "stdout"
        }
      ]
    },
    {
      "cell_type": "code",
      "metadata": {
        "id": "LaaBznBbV8HN"
      },
      "source": [
        "import os\n",
        "import re\n",
        "import torch\n",
        "import torch.optim\n",
        "import albumentations as A\n",
        "import my_albumentations as M\n",
        "\n",
        "from datetime import datetime as dt\n",
        "from albumentations.pytorch.transforms import ToTensorV2\n",
        "from config import DEVICE\n",
        "from model import Model, LossFunction\n",
        "from general import init_weights, load_checkpoint, save_checkpoint\n",
        "from dataset import create_dataloader\n",
        "from metrics import MetricFunction, print_single_error\n",
        "from detect import generatePredictions\n",
        "from train import train_one_epoch\n",
        "from test import run_test\n",
        "from util import save_predictions, plot_predictions\n",
        "from dataset import LoadImages\n",
        "\n",
        "IMAGE_SIZE = 256\n",
        "DATASET_ROOT = \"../bdataset_stereo\"\n",
        "TRAIN_JSON_PATH = \"train.json\"\n",
        "TEST_JSON_PATH = \"test.json\"\n",
        "IMAGES = [{\"imageL\": \"data/left.png\", \"imageR\": \"data/right.png\", \"output\": \"data/output.exr\"}]\n",
        "BATCH_SIZE = 8\n",
        "WORKERS = 8\n",
        "\n",
        "LEARNING_RATE = 0.01\n",
        "BETAS = [0.9, 0.999]\n",
        "EPS = 0.00000001\n",
        "WEIGHT_DECAY = 0.0001\n",
        "MOMENTUM = 0.9\n",
        "DAMPENING = 0.1\n",
        "\n",
        "MILESTONES = [10,20,30]\n",
        "GAMMA = 0.2\n",
        "\n",
        "NUM_EPOCHS = 40\n",
        "OUT_PATH =\"./runs\"\n",
        "LOAD_TRAIN_MODEL = False\n",
        "LOAD_TEST_MODEL = False\n",
        "CHECKPOINT_TRAIN_FILE = \"normal.pth\"\n",
        "CHECKPOINT_TEST_FILE = \"normal.pth\"\n",
        "\n",
        "torch.backends.cudnn.benchmark = True"
      ],
      "execution_count": 3,
      "outputs": []
    },
    {
      "cell_type": "code",
      "metadata": {
        "id": "zc0ejoy2UWo_"
      },
      "source": [
        "train_transform = A.Compose(\n",
        "    [\n",
        "        M.MyRandomResizedCrop(width=IMAGE_SIZE, height=IMAGE_SIZE),\n",
        "        M.MyHorizontalFlip(p=0.5),\n",
        "        M.MyVerticalFlip(p=0.1),\n",
        "        A.OneOf([\n",
        "            A.MotionBlur(p=0.2),\n",
        "            A.MedianBlur(blur_limit=3, p=0.1),\n",
        "            A.Blur(blur_limit=3, p=0.1),\n",
        "        ], p=0.2),\n",
        "        A.OneOf([\n",
        "            M.MyOpticalDistortion(p=0.3),\n",
        "            M.MyGridDistortion(p=0.1),\n",
        "            M.MyIAAPiecewiseAffine(p=0.3),\n",
        "        ], p=0.2),\n",
        "        A.OneOf([\n",
        "            A.IAASharpen(),\n",
        "            A.IAAEmboss(),\n",
        "            A.RandomBrightnessContrast(),            \n",
        "        ], p=0.3),\n",
        "        A.HueSaturationValue(p=0.3),\n",
        "        M.MyToTensorV2(),\n",
        "    ],\n",
        "    additional_targets={\n",
        "        'right_img': 'image',\n",
        "        'left_depth': 'depth',\n",
        "        'right_depth': 'depth',\n",
        "        'left_normal': 'normal',\n",
        "        'right_normal': 'normal',\n",
        "    }\n",
        ")\n",
        "\n",
        "test_transform = A.Compose(\n",
        "    [\n",
        "        M.MyToTensorV2(),\n",
        "    ],\n",
        "    additional_targets={\n",
        "        'right_img': 'image',\n",
        "        'left_depth': 'depth',\n",
        "        'right_depth': 'depth',\n",
        "        'left_normal': 'normal',\n",
        "        'right_normal': 'normal',\n",
        "    }\n",
        ")\n",
        "\n",
        "detect_transform = A.Compose(\n",
        "    [\n",
        "        A.Resize(height=IMAGE_SIZE, width=IMAGE_SIZE),\n",
        "        ToTensorV2(),\n",
        "    ],\n",
        "    additional_targets={\n",
        "        'right_img': 'image',\n",
        "    }\n",
        ")\n",
        "\n",
        "_, train_dataloader = create_dataloader(DATASET_ROOT, TRAIN_JSON_PATH, \n",
        "                                        batch_size=BATCH_SIZE, transform=train_transform, \n",
        "                                        workers=WORKERS, pin_memory=True, shuffle=True)\n",
        "\n",
        "_, test_dataloader = create_dataloader(DATASET_ROOT, TEST_JSON_PATH,\n",
        "                                       batch_size=BATCH_SIZE, transform=test_transform,\n",
        "                                       workers=WORKERS, pin_memory=True, shuffle=False)\n",
        "\n",
        "images = LoadImages(IMAGES, transform=detect_transform)\n"
      ],
      "execution_count": 4,
      "outputs": []
    },
    {
      "cell_type": "code",
      "metadata": {
        "id": "68DeiDrjVG1b"
      },
      "source": [
        "model = Model()\n",
        "model.apply(init_weights)\n",
        "solver = torch.optim.Adam(filter(lambda p: p.requires_grad, model.parameters()), \n",
        "                          lr=LEARNING_RATE, betas=BETAS, \n",
        "                          eps=EPS, weight_decay=WEIGHT_DECAY)\n",
        "# solver = torch.optim.SGD(filter(lambda p: p.requires_grad, model.parameters()), \n",
        "#                          lr=LEARNING_RATE, momentum=MOMENTUM,\n",
        "#                          dampening = DAMPENING, weight_decay=WEIGHT_DECAY)\n",
        "lr_scheduler = torch.optim.lr_scheduler.MultiStepLR(solver, milestones=MILESTONES, gamma=GAMMA)\n",
        "model = model.to(DEVICE)\n",
        "loss_fn = LossFunction()\n",
        "metric_fn = MetricFunction(BATCH_SIZE)"
      ],
      "execution_count": 5,
      "outputs": []
    },
    {
      "cell_type": "code",
      "metadata": {
        "colab": {
          "base_uri": "https://localhost:8080/"
        },
        "id": "GTJCokSBVQ_9",
        "outputId": "27ff18e6-2bde-4005-9737-83ff702d5085"
      },
      "source": [
        "epoch_idx = 0\n",
        "if LOAD_TRAIN_MODEL:\n",
        "    epoch_idx, model = load_checkpoint(model, CHECKPOINT_FILE, DEVICE)\n",
        "\n",
        "model.train()\n",
        "for epoch_idx in range(epoch_idx, NUM_EPOCHS):\n",
        "    train_one_epoch(model, train_dataloader, loss_fn, solver, epoch_idx)\n",
        "    lr_scheduler.step()"
      ],
      "execution_count": 6,
      "outputs": [
        {
          "output_type": "stream",
          "text": [
            "100%|██████████| 27/27 [00:43<00:00,  1.63s/it, epoch=0, loss=(total:0.2929 depth:0.1754361391067505 normal:0.117442786693573)]\n",
            "100%|██████████| 27/27 [00:33<00:00,  1.25s/it, epoch=1, loss=(total:0.2519 depth:0.15848508477210999 normal:0.0934329628944397)]\n",
            "100%|██████████| 27/27 [00:34<00:00,  1.28s/it, epoch=2, loss=(total:0.2495 depth:0.164067342877388 normal:0.08540834486484528)]\n",
            "100%|██████████| 27/27 [00:33<00:00,  1.26s/it, epoch=3, loss=(total:0.3140 depth:0.1883084774017334 normal:0.125676691532135)]\n",
            "100%|██████████| 27/27 [00:35<00:00,  1.30s/it, epoch=4, loss=(total:0.2240 depth:0.1421070545911789 normal:0.0819423720240593)]\n",
            "100%|██████████| 27/27 [00:34<00:00,  1.28s/it, epoch=5, loss=(total:0.1695 depth:0.08274227380752563 normal:0.0867803543806076)]\n",
            "100%|██████████| 27/27 [00:37<00:00,  1.41s/it, epoch=6, loss=(total:0.2081 depth:0.11094998568296432 normal:0.09715220332145691)]\n",
            "100%|██████████| 27/27 [00:35<00:00,  1.31s/it, epoch=7, loss=(total:0.1497 depth:0.068275086581707 normal:0.08144959807395935)]\n",
            "100%|██████████| 27/27 [00:34<00:00,  1.29s/it, epoch=8, loss=(total:0.1636 depth:0.07890550792217255 normal:0.08467458188533783)]\n",
            "100%|██████████| 27/27 [00:35<00:00,  1.31s/it, epoch=9, loss=(total:0.1849 depth:0.10199640691280365 normal:0.08286658674478531)]\n",
            "100%|██████████| 27/27 [00:33<00:00,  1.25s/it, epoch=10, loss=(total:0.2429 depth:0.14925411343574524 normal:0.0936051458120346)]\n",
            "100%|██████████| 27/27 [00:34<00:00,  1.28s/it, epoch=11, loss=(total:0.1479 depth:0.07604105770587921 normal:0.07188310474157333)]\n",
            "100%|██████████| 27/27 [00:35<00:00,  1.30s/it, epoch=12, loss=(total:0.1864 depth:0.1051521822810173 normal:0.08120059221982956)]\n",
            "100%|██████████| 27/27 [00:34<00:00,  1.29s/it, epoch=13, loss=(total:0.2080 depth:0.10809817910194397 normal:0.0998726412653923)]\n",
            "100%|██████████| 27/27 [00:36<00:00,  1.35s/it, epoch=14, loss=(total:0.1649 depth:0.07463228702545166 normal:0.09030242264270782)]\n",
            "100%|██████████| 27/27 [00:34<00:00,  1.28s/it, epoch=15, loss=(total:0.2476 depth:0.16180703043937683 normal:0.0857686847448349)]\n",
            "100%|██████████| 27/27 [00:35<00:00,  1.30s/it, epoch=16, loss=(total:0.2231 depth:0.12415354698896408 normal:0.09891770780086517)]\n",
            "100%|██████████| 27/27 [00:35<00:00,  1.33s/it, epoch=17, loss=(total:0.1582 depth:0.08789484202861786 normal:0.07031803578138351)]\n",
            "100%|██████████| 27/27 [00:36<00:00,  1.33s/it, epoch=18, loss=(total:0.1720 depth:0.0773886889219284 normal:0.09456315636634827)]\n",
            "100%|██████████| 27/27 [00:35<00:00,  1.30s/it, epoch=19, loss=(total:0.2280 depth:0.13942086696624756 normal:0.08862444013357162)]\n",
            "100%|██████████| 27/27 [00:36<00:00,  1.35s/it, epoch=20, loss=(total:0.1939 depth:0.09658634662628174 normal:0.0972902774810791)]\n",
            "100%|██████████| 27/27 [00:33<00:00,  1.25s/it, epoch=21, loss=(total:0.2673 depth:0.15637388825416565 normal:0.11093714833259583)]\n",
            "100%|██████████| 27/27 [00:35<00:00,  1.30s/it, epoch=22, loss=(total:0.1009 depth:0.062215305864810944 normal:0.03872619569301605)]\n",
            "100%|██████████| 27/27 [00:33<00:00,  1.24s/it, epoch=23, loss=(total:0.1364 depth:0.06609943509101868 normal:0.07033932209014893)]\n",
            "100%|██████████| 27/27 [00:33<00:00,  1.25s/it, epoch=24, loss=(total:0.1521 depth:0.07861299067735672 normal:0.07353010028600693)]\n",
            "100%|██████████| 27/27 [00:35<00:00,  1.32s/it, epoch=25, loss=(total:0.1347 depth:0.0695246160030365 normal:0.065216064453125)]\n",
            "100%|██████████| 27/27 [00:34<00:00,  1.29s/it, epoch=26, loss=(total:0.2640 depth:0.16833752393722534 normal:0.09568136930465698)]\n",
            "100%|██████████| 27/27 [00:35<00:00,  1.30s/it, epoch=27, loss=(total:0.1611 depth:0.06186893582344055 normal:0.09918298572301865)]\n",
            "100%|██████████| 27/27 [00:33<00:00,  1.24s/it, epoch=28, loss=(total:0.2009 depth:0.0908365324139595 normal:0.11005018651485443)]\n",
            "100%|██████████| 27/27 [00:33<00:00,  1.24s/it, epoch=29, loss=(total:0.1221 depth:0.0473317876458168 normal:0.07476255297660828)]\n",
            "100%|██████████| 27/27 [00:35<00:00,  1.31s/it, epoch=30, loss=(total:0.2323 depth:0.12787343561649323 normal:0.10442348569631577)]\n",
            "100%|██████████| 27/27 [00:34<00:00,  1.28s/it, epoch=31, loss=(total:0.1562 depth:0.06783623993396759 normal:0.08837779611349106)]\n",
            "100%|██████████| 27/27 [00:36<00:00,  1.34s/it, epoch=32, loss=(total:0.2418 depth:0.13576069474220276 normal:0.10599929094314575)]\n",
            "100%|██████████| 27/27 [00:33<00:00,  1.26s/it, epoch=33, loss=(total:0.1999 depth:0.1097065657377243 normal:0.09021889418363571)]\n",
            "100%|██████████| 27/27 [00:34<00:00,  1.29s/it, epoch=34, loss=(total:0.1640 depth:0.07283265888690948 normal:0.09119181334972382)]\n",
            "100%|██████████| 27/27 [00:33<00:00,  1.25s/it, epoch=35, loss=(total:0.1383 depth:0.05439813807606697 normal:0.08391396701335907)]\n",
            "100%|██████████| 27/27 [00:34<00:00,  1.29s/it, epoch=36, loss=(total:0.1787 depth:0.09594759345054626 normal:0.08271250873804092)]\n",
            "100%|██████████| 27/27 [00:34<00:00,  1.29s/it, epoch=37, loss=(total:0.1353 depth:0.046203918755054474 normal:0.08914381265640259)]\n",
            "100%|██████████| 27/27 [00:35<00:00,  1.32s/it, epoch=38, loss=(total:0.1204 depth:0.05702165886759758 normal:0.06341182440519333)]\n",
            "100%|██████████| 27/27 [00:34<00:00,  1.26s/it, epoch=39, loss=(total:0.1141 depth:0.04538474977016449 normal:0.06874426454305649)]\n"
          ],
          "name": "stderr"
        }
      ]
    },
    {
      "cell_type": "code",
      "metadata": {
        "colab": {
          "base_uri": "https://localhost:8080/"
        },
        "id": "AkAu2sRnbvDm",
        "outputId": "b08126da-3230-4fab-d258-ba2f10dedaa1"
      },
      "source": [
        "if LOAD_TEST_MODEL:\n",
        "    epoch_idx, model = load_checkpoint(model, CHECKPOINT_FILE, DEVICE)\n",
        "\n",
        "model.eval()\n",
        "run_test(model, test_dataloader, loss_fn, metric_fn)\n",
        "print_single_error(epoch_idx, loss_fn.show(), metric_fn.show())"
      ],
      "execution_count": 7,
      "outputs": [
        {
          "output_type": "stream",
          "text": [
            "100%|██████████| 14/14 [00:08<00:00,  1.57it/s]"
          ],
          "name": "stderr"
        },
        {
          "output_type": "stream",
          "text": [
            "eval_avg_error\n",
            "Epoch: 39, loss=(total:0.1412 depth:0.03655923902988434 normal:0.10464340448379517)\n",
            "======DEPTH=======\n",
            "MSE=0.0077\tRMSE=0.0870\tMAE=0.0355\tABS_REL=0.0794\n",
            "DELTA1.02=0.6734\tDELTA1.05=0.7237\tDELTA1.10=0.7748\n",
            "DELTA1.25=0.8755\tDELTA1.25^2=0.9644\tDELTA1.25^3=0.9890\n",
            "======NORMALS=======\n",
            "MSE=0.5643\tRMSE=0.7505\tMAE=0.7191\tMME=0.7229\n",
            "TANGLE11.25=0.0511\tTANGLE22.5=0.0674\tTANGLE30.0=0.0901\n",
            "\n"
          ],
          "name": "stdout"
        },
        {
          "output_type": "stream",
          "text": [
            "\n"
          ],
          "name": "stderr"
        }
      ]
    },
    {
      "cell_type": "code",
      "metadata": {
        "colab": {
          "base_uri": "https://localhost:8080/",
          "height": 218
        },
        "id": "Q4rZ2bdIauXm",
        "outputId": "661aa9fe-718e-440e-fad2-9600121529a0"
      },
      "source": [
        "if LOAD_TEST_MODEL:\n",
        "    epoch_idx, model = load_checkpoint(model, CHECKPOINT_FILE, DEVICE)\n",
        "\n",
        "model.eval()\n",
        "for images, predictions, path in generatePredictions(model, images):\n",
        "    plot_predictions(images, predictions, [path])"
      ],
      "execution_count": 9,
      "outputs": [
        {
          "output_type": "display_data",
          "data": {
            "image/png": "[encoded data removed]",
            "text/plain": [
              "<Figure size 432x288 with 3 Axes>"
            ]
          },
          "metadata": {
            "tags": [],
            "needs_background": "light"
          }
        }
      ]
    },
    {
      "cell_type": "code",
      "metadata": {
        "id": "OyIyyXIbe-g1"
      },
      "source": [
        "output_dir = os.path.join(OUT_PATH, re.sub(\"[^0-9a-zA-Z]+\", \"-\", dt.now().isoformat()))\n",
        "\n",
        "save_checkpoint(epoch_idx, model, output_dir)"
      ],
      "execution_count": 10,
      "outputs": []
    }
  ]
}