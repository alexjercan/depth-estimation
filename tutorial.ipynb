{
  "nbformat": 4,
  "nbformat_minor": 0,
  "metadata": {
    "colab": {
      "name": "Untitled4.ipynb",
      "provenance": [],
      "collapsed_sections": [],
      "authorship_tag": "ABX9TyMzYdwC6UH3AhnsZIeL5ZeE",
      "include_colab_link": true
    },
    "kernelspec": {
      "name": "python3",
      "display_name": "Python 3"
    },
    "language_info": {
      "name": "python"
    },
    "accelerator": "GPU"
  },
  "cells": [
    {
      "cell_type": "markdown",
      "metadata": {
        "id": "view-in-github",
        "colab_type": "text"
      },
      "source": [
        "<a href=\"https://colab.research.google.com/github/alexjercan/depth-estimation/blob/master/tutorial.ipynb\" target=\"_parent\"><img src=\"https://colab.research.google.com/assets/colab-badge.svg\" alt=\"Open In Colab\"/></a>"
      ]
    },
    {
      "cell_type": "code",
      "metadata": {
        "colab": {
          "base_uri": "https://localhost:8080/"
        },
        "id": "siz-VkAr2P8g",
        "outputId": "b1551a27-8e37-4af5-bf71-3f9549da1a62"
      },
      "source": [
        "!pip install matplotlib==3.3.3 albumentations==0.5.2"
      ],
      "execution_count": 2,
      "outputs": [
        {
          "output_type": "stream",
          "text": [
            "Requirement already satisfied: matplotlib==3.3.3 in /usr/local/lib/python3.7/dist-packages (3.3.3)\n",
            "Requirement already satisfied: albumentations==0.5.2 in /usr/local/lib/python3.7/dist-packages (0.5.2)\n",
            "Requirement already satisfied: pillow>=6.2.0 in /usr/local/lib/python3.7/dist-packages (from matplotlib==3.3.3) (7.1.2)\n",
            "Requirement already satisfied: numpy>=1.15 in /usr/local/lib/python3.7/dist-packages (from matplotlib==3.3.3) (1.19.5)\n",
            "Requirement already satisfied: python-dateutil>=2.1 in /usr/local/lib/python3.7/dist-packages (from matplotlib==3.3.3) (2.8.1)\n",
            "Requirement already satisfied: pyparsing!=2.0.4,!=2.1.2,!=2.1.6,>=2.0.3 in /usr/local/lib/python3.7/dist-packages (from matplotlib==3.3.3) (2.4.7)\n",
            "Requirement already satisfied: kiwisolver>=1.0.1 in /usr/local/lib/python3.7/dist-packages (from matplotlib==3.3.3) (1.3.1)\n",
            "Requirement already satisfied: cycler>=0.10 in /usr/local/lib/python3.7/dist-packages (from matplotlib==3.3.3) (0.10.0)\n",
            "Requirement already satisfied: PyYAML in /usr/local/lib/python3.7/dist-packages (from albumentations==0.5.2) (3.13)\n",
            "Requirement already satisfied: scipy in /usr/local/lib/python3.7/dist-packages (from albumentations==0.5.2) (1.4.1)\n",
            "Requirement already satisfied: imgaug>=0.4.0 in /usr/local/lib/python3.7/dist-packages (from albumentations==0.5.2) (0.4.0)\n",
            "Requirement already satisfied: opencv-python-headless>=4.1.1 in /usr/local/lib/python3.7/dist-packages (from albumentations==0.5.2) (4.5.2.52)\n",
            "Requirement already satisfied: scikit-image>=0.16.1 in /usr/local/lib/python3.7/dist-packages (from albumentations==0.5.2) (0.16.2)\n",
            "Requirement already satisfied: six>=1.5 in /usr/local/lib/python3.7/dist-packages (from python-dateutil>=2.1->matplotlib==3.3.3) (1.15.0)\n",
            "Requirement already satisfied: imageio in /usr/local/lib/python3.7/dist-packages (from imgaug>=0.4.0->albumentations==0.5.2) (2.4.1)\n",
            "Requirement already satisfied: opencv-python in /usr/local/lib/python3.7/dist-packages (from imgaug>=0.4.0->albumentations==0.5.2) (4.1.2.30)\n",
            "Requirement already satisfied: Shapely in /usr/local/lib/python3.7/dist-packages (from imgaug>=0.4.0->albumentations==0.5.2) (1.7.1)\n",
            "Requirement already satisfied: networkx>=2.0 in /usr/local/lib/python3.7/dist-packages (from scikit-image>=0.16.1->albumentations==0.5.2) (2.5.1)\n",
            "Requirement already satisfied: PyWavelets>=0.4.0 in /usr/local/lib/python3.7/dist-packages (from scikit-image>=0.16.1->albumentations==0.5.2) (1.1.1)\n",
            "Requirement already satisfied: decorator<5,>=4.3 in /usr/local/lib/python3.7/dist-packages (from networkx>=2.0->scikit-image>=0.16.1->albumentations==0.5.2) (4.4.2)\n"
          ],
          "name": "stdout"
        }
      ]
    },
    {
      "cell_type": "code",
      "metadata": {
        "colab": {
          "base_uri": "https://localhost:8080/"
        },
        "id": "Bgiit0eg0glA",
        "outputId": "6a2a8ba3-2259-40db-9b1d-7127ca94fbd2"
      },
      "source": [
        "!git clone https://github.com/alexjercan/depth-estimation.git\n",
        "%cd depth-estimation\n",
        "\n",
        "import torch\n",
        "from IPython.display import clear_output\n",
        "\n",
        "clear_output()\n",
        "print('Setup complete. Using torch %s %s' % (torch.__version__, torch.cuda.get_device_properties(0) if torch.cuda.is_available() else 'CPU'))"
      ],
      "execution_count": 1,
      "outputs": [
        {
          "output_type": "stream",
          "text": [
            "Setup complete. Using torch 1.8.1+cu101 _CudaDeviceProperties(name='Tesla T4', major=7, minor=5, total_memory=15109MB, multi_processor_count=40)\n"
          ],
          "name": "stdout"
        }
      ]
    },
    {
      "cell_type": "code",
      "metadata": {
        "id": "kSQMVSwG05lO"
      },
      "source": [
        "# Download model\n",
        "torch.hub.download_url_to_file('https://github.com/alexjercan/depth-estimation/releases/download/v1.0/normal.pth', 'normal.pth')"
      ],
      "execution_count": null,
      "outputs": []
    },
    {
      "cell_type": "code",
      "metadata": {
        "id": "epBfT2kAJQqj",
        "outputId": "2de4e131-e07e-4e69-de16-c8122124385a",
        "colab": {
          "base_uri": "https://localhost:8080/"
        }
      },
      "source": [
        "# Download dataset stereo\n",
        "!bash ./get_bdataset.sh"
      ],
      "execution_count": 9,
      "outputs": [
        {
          "output_type": "stream",
          "text": [
            "Downloading ...\n",
            "  % Total    % Received % Xferd  Average Speed   Time    Time     Time  Current\n",
            "                                 Dload  Upload   Total   Spent    Left  Speed\n",
            "100   408    0   408    0     0   4915      0 --:--:-- --:--:-- --:--:--  4915\n",
            "  0     0    0     0    0     0      0      0 --:--:-- --:--:-- --:--:--     0\n",
            "  0     0    0     0    0     0      0      0 --:--:-- --:--:-- --:--:--     0\n",
            "100 1262M    0 1262M    0     0  92.8M      0 --:--:--  0:00:13 --:--:--  111M\n",
            "Completed in 39 seconds\n"
          ],
          "name": "stdout"
        }
      ]
    },
    {
      "cell_type": "code",
      "metadata": {
        "colab": {
          "base_uri": "https://localhost:8080/"
        },
        "id": "kYeXOXtJvhb9",
        "outputId": "a431a1b0-1ac3-4cb0-912b-f74ed8e24e25"
      },
      "source": [
        "!git pull\n",
        "!python dataset.py\n",
        "!python model.py"
      ],
      "execution_count": 10,
      "outputs": [
        {
          "output_type": "stream",
          "text": [
            "Already up to date.\n",
            "dataset ok\n",
            "model ok\n"
          ],
          "name": "stdout"
        }
      ]
    },
    {
      "cell_type": "code",
      "metadata": {
        "id": "LaaBznBbV8HN"
      },
      "source": [
        "import os\n",
        "import re\n",
        "import torch\n",
        "import torch.optim\n",
        "import albumentations as A\n",
        "import my_albumentations as M\n",
        "\n",
        "from datetime import datetime as dt\n",
        "from albumentations.pytorch.transforms import ToTensorV2\n",
        "from config import DEVICE\n",
        "from model import Model, LossFunction\n",
        "from general import init_weights, load_checkpoint, save_checkpoint\n",
        "from dataset import create_dataloader\n",
        "from metrics import MetricFunction, print_single_error\n",
        "from detect import generatePredictions\n",
        "from train import train_one_epoch\n",
        "from test import run_test\n",
        "from util import save_predictions, plot_predictions\n",
        "from dataset import LoadImages\n",
        "\n",
        "IMAGE_SIZE = 256\n",
        "DATASET_ROOT = \"../bdataset_stereo\"\n",
        "TRAIN_JSON_PATH = \"train.json\"\n",
        "TEST_JSON_PATH = \"test.json\"\n",
        "IMAGES = [{\"imageL\": \"data/left.png\", \"imageR\": \"data/right.png\", \"output\": \"data/output.exr\"}]\n",
        "BATCH_SIZE = 8\n",
        "WORKERS = 8\n",
        "\n",
        "LEARNING_RATE = 0.01\n",
        "BETAS = [0.9, 0.999]\n",
        "EPS = 0.00000001\n",
        "WEIGHT_DECAY = 0.0001\n",
        "MOMENTUM = 0.9\n",
        "DAMPENING = 0.1\n",
        "\n",
        "MILESTONES = [10,20,30]\n",
        "GAMMA = 0.2\n",
        "\n",
        "NUM_EPOCHS = 40\n",
        "OUT_PATH =\"./runs\"\n",
        "LOAD_TRAIN_MODEL = False\n",
        "LOAD_TEST_MODEL = False\n",
        "CHECKPOINT_TRAIN_FILE = \"normal.pth\"\n",
        "CHECKPOINT_TEST_FILE = \"normal.pth\"\n",
        "\n",
        "torch.backends.cudnn.benchmark = True"
      ],
      "execution_count": 16,
      "outputs": []
    },
    {
      "cell_type": "code",
      "metadata": {
        "id": "zc0ejoy2UWo_"
      },
      "source": [
        "train_transform = A.Compose(\n",
        "    [\n",
        "        M.MyRandomResizedCrop(width=IMAGE_SIZE, height=IMAGE_SIZE),\n",
        "        M.MyHorizontalFlip(p=0.5),\n",
        "        M.MyVerticalFlip(p=0.1),\n",
        "        A.OneOf([\n",
        "            A.MotionBlur(p=0.2),\n",
        "            A.MedianBlur(blur_limit=3, p=0.1),\n",
        "            A.Blur(blur_limit=3, p=0.1),\n",
        "        ], p=0.2),\n",
        "        A.OneOf([\n",
        "            M.MyOpticalDistortion(p=0.3),\n",
        "            M.MyGridDistortion(p=0.1),\n",
        "            M.MyIAAPiecewiseAffine(p=0.3),\n",
        "        ], p=0.2),\n",
        "        A.OneOf([\n",
        "            A.IAASharpen(),\n",
        "            A.IAAEmboss(),\n",
        "            A.RandomBrightnessContrast(),            \n",
        "        ], p=0.3),\n",
        "        A.Normalize(),\n",
        "        M.MyToTensorV2(),\n",
        "    ],\n",
        "    additional_targets={\n",
        "        'right_img': 'image',\n",
        "        'left_depth': 'depth',\n",
        "        'right_depth': 'depth',\n",
        "    }\n",
        ")\n",
        "\n",
        "test_transform = A.Compose(\n",
        "    [\n",
        "        A.Normalize(),\n",
        "        M.MyToTensorV2(),\n",
        "    ],\n",
        "    additional_targets={\n",
        "        'right_img': 'image',\n",
        "        'left_depth': 'depth',\n",
        "        'right_depth': 'depth',\n",
        "    }\n",
        ")\n",
        "\n",
        "detect_transform = A.Compose(\n",
        "    [\n",
        "        A.Resize(height=IMAGE_SIZE, width=IMAGE_SIZE),\n",
        "        A.Normalize(),\n",
        "        ToTensorV2(),\n",
        "    ],\n",
        "    additional_targets={\n",
        "        'right_img': 'image',\n",
        "    }\n",
        ")\n",
        "\n",
        "_, train_dataloader = create_dataloader(DATASET_ROOT, TRAIN_JSON_PATH, \n",
        "                                        batch_size=BATCH_SIZE, transform=train_transform, \n",
        "                                        workers=WORKERS, pin_memory=True, shuffle=True)\n",
        "\n",
        "_, test_dataloader = create_dataloader(DATASET_ROOT, TEST_JSON_PATH,\n",
        "                                       batch_size=BATCH_SIZE, transform=test_transform,\n",
        "                                       workers=WORKERS, pin_memory=True, shuffle=False)\n"
      ],
      "execution_count": 17,
      "outputs": []
    },
    {
      "cell_type": "code",
      "metadata": {
        "id": "68DeiDrjVG1b"
      },
      "source": [
        "model = Model()\n",
        "model.apply(init_weights)\n",
        "solver = torch.optim.SGD(filter(lambda p: p.requires_grad, model.parameters()), \n",
        "                         lr=LEARNING_RATE, momentum=MOMENTUM,\n",
        "                         dampening = DAMPENING, weight_decay=WEIGHT_DECAY)\n",
        "lr_scheduler = torch.optim.lr_scheduler.MultiStepLR(solver, milestones=MILESTONES, gamma=GAMMA)\n",
        "model = model.to(DEVICE)\n",
        "loss_fn = LossFunction()"
      ],
      "execution_count": 18,
      "outputs": []
    },
    {
      "cell_type": "code",
      "metadata": {
        "colab": {
          "base_uri": "https://localhost:8080/"
        },
        "id": "GTJCokSBVQ_9",
        "outputId": "34426f66-f11d-4e43-dc18-49c809133ab3"
      },
      "source": [
        "epoch_idx = 0\n",
        "if LOAD_TRAIN_MODEL:\n",
        "    epoch_idx, model = load_checkpoint(model, CHECKPOINT_FILE, DEVICE)\n",
        "\n",
        "model.train()\n",
        "for epoch_idx in range(epoch_idx, NUM_EPOCHS):\n",
        "    metric_fn = MetricFunction(BATCH_SIZE)\n",
        "    train_one_epoch(model, train_dataloader, loss_fn, metric_fn, solver, epoch_idx)\n",
        "    print_single_error(epoch_idx, loss_fn.show(), metric_fn.show())\n",
        "    lr_scheduler.step()"
      ],
      "execution_count": 19,
      "outputs": [
        {
          "output_type": "stream",
          "text": [
            "100%|██████████| 306/306 [02:42<00:00,  1.88it/s, epoch=0, loss=(total:0.0711)]\n",
            "  0%|          | 0/306 [00:00<?, ?it/s]"
          ],
          "name": "stderr"
        },
        {
          "output_type": "stream",
          "text": [
            "eval_avg_error\n",
            "Epoch: 0, loss=(total:0.0711)\n",
            "======DEPTH=======\n",
            "MSE=0.0762\tRMSE=0.2393\tMAE=0.1249\tABS_REL=0.1879\n",
            "DELTA1.02=0.2912\tDELTA1.05=0.5808\tDELTA1.10=0.7573\n",
            "DELTA1.25=0.8899\tDELTA1.25^2=0.9432\tDELTA1.25^3=0.9608\n",
            "\n"
          ],
          "name": "stdout"
        },
        {
          "output_type": "stream",
          "text": [
            "100%|██████████| 306/306 [02:40<00:00,  1.91it/s, epoch=1, loss=(total:0.0521)]\n",
            "  0%|          | 0/306 [00:00<?, ?it/s]"
          ],
          "name": "stderr"
        },
        {
          "output_type": "stream",
          "text": [
            "eval_avg_error\n",
            "Epoch: 1, loss=(total:0.0521)\n",
            "======DEPTH=======\n",
            "MSE=0.0326\tRMSE=0.1710\tMAE=0.0603\tABS_REL=0.1262\n",
            "DELTA1.02=0.4752\tDELTA1.05=0.8097\tDELTA1.10=0.9254\n",
            "DELTA1.25=0.9637\tDELTA1.25^2=0.9790\tDELTA1.25^3=0.9859\n",
            "\n"
          ],
          "name": "stdout"
        },
        {
          "output_type": "stream",
          "text": [
            "100%|██████████| 306/306 [02:45<00:00,  1.84it/s, epoch=2, loss=(total:0.0599)]\n",
            "  0%|          | 0/306 [00:00<?, ?it/s]"
          ],
          "name": "stderr"
        },
        {
          "output_type": "stream",
          "text": [
            "eval_avg_error\n",
            "Epoch: 2, loss=(total:0.0599)\n",
            "======DEPTH=======\n",
            "MSE=0.0405\tRMSE=0.1848\tMAE=0.0620\tABS_REL=0.1330\n",
            "DELTA1.02=0.5143\tDELTA1.05=0.8451\tDELTA1.10=0.9354\n",
            "DELTA1.25=0.9651\tDELTA1.25^2=0.9789\tDELTA1.25^3=0.9852\n",
            "\n"
          ],
          "name": "stdout"
        },
        {
          "output_type": "stream",
          "text": [
            "100%|██████████| 306/306 [02:42<00:00,  1.88it/s, epoch=3, loss=(total:0.0737)]\n",
            "  0%|          | 0/306 [00:00<?, ?it/s]"
          ],
          "name": "stderr"
        },
        {
          "output_type": "stream",
          "text": [
            "eval_avg_error\n",
            "Epoch: 3, loss=(total:0.0737)\n",
            "======DEPTH=======\n",
            "MSE=0.0305\tRMSE=0.1607\tMAE=0.0475\tABS_REL=0.1108\n",
            "DELTA1.02=0.6250\tDELTA1.05=0.9103\tDELTA1.10=0.9605\n",
            "DELTA1.25=0.9752\tDELTA1.25^2=0.9841\tDELTA1.25^3=0.9884\n",
            "\n"
          ],
          "name": "stdout"
        },
        {
          "output_type": "stream",
          "text": [
            "100%|██████████| 306/306 [02:41<00:00,  1.89it/s, epoch=4, loss=(total:0.0404)]\n",
            "  0%|          | 0/306 [00:00<?, ?it/s]"
          ],
          "name": "stderr"
        },
        {
          "output_type": "stream",
          "text": [
            "eval_avg_error\n",
            "Epoch: 4, loss=(total:0.0404)\n",
            "======DEPTH=======\n",
            "MSE=0.0203\tRMSE=0.1290\tMAE=0.0398\tABS_REL=0.1004\n",
            "DELTA1.02=0.5797\tDELTA1.05=0.9298\tDELTA1.10=0.9679\n",
            "DELTA1.25=0.9798\tDELTA1.25^2=0.9870\tDELTA1.25^3=0.9908\n",
            "\n"
          ],
          "name": "stdout"
        },
        {
          "output_type": "stream",
          "text": [
            "100%|██████████| 306/306 [02:44<00:00,  1.86it/s, epoch=5, loss=(total:0.0254)]\n",
            "  0%|          | 0/306 [00:00<?, ?it/s]"
          ],
          "name": "stderr"
        },
        {
          "output_type": "stream",
          "text": [
            "eval_avg_error\n",
            "Epoch: 5, loss=(total:0.0254)\n",
            "======DEPTH=======\n",
            "MSE=0.0230\tRMSE=0.1370\tMAE=0.0409\tABS_REL=0.1034\n",
            "DELTA1.02=0.6044\tDELTA1.05=0.9325\tDELTA1.10=0.9669\n",
            "DELTA1.25=0.9791\tDELTA1.25^2=0.9869\tDELTA1.25^3=0.9908\n",
            "\n"
          ],
          "name": "stdout"
        },
        {
          "output_type": "stream",
          "text": [
            "100%|██████████| 306/306 [02:47<00:00,  1.83it/s, epoch=6, loss=(total:0.0380)]\n",
            "  0%|          | 0/306 [00:00<?, ?it/s]"
          ],
          "name": "stderr"
        },
        {
          "output_type": "stream",
          "text": [
            "eval_avg_error\n",
            "Epoch: 6, loss=(total:0.0380)\n",
            "======DEPTH=======\n",
            "MSE=0.0215\tRMSE=0.1349\tMAE=0.0343\tABS_REL=0.0989\n",
            "DELTA1.02=0.8021\tDELTA1.05=0.9526\tDELTA1.10=0.9709\n",
            "DELTA1.25=0.9802\tDELTA1.25^2=0.9871\tDELTA1.25^3=0.9906\n",
            "\n"
          ],
          "name": "stdout"
        },
        {
          "output_type": "stream",
          "text": [
            "100%|██████████| 306/306 [02:39<00:00,  1.92it/s, epoch=7, loss=(total:0.0270)]\n",
            "  0%|          | 0/306 [00:00<?, ?it/s]"
          ],
          "name": "stderr"
        },
        {
          "output_type": "stream",
          "text": [
            "eval_avg_error\n",
            "Epoch: 7, loss=(total:0.0270)\n",
            "======DEPTH=======\n",
            "MSE=0.0160\tRMSE=0.1184\tMAE=0.0309\tABS_REL=0.0922\n",
            "DELTA1.02=0.7491\tDELTA1.05=0.9601\tDELTA1.10=0.9753\n",
            "DELTA1.25=0.9833\tDELTA1.25^2=0.9893\tDELTA1.25^3=0.9924\n",
            "\n"
          ],
          "name": "stdout"
        },
        {
          "output_type": "stream",
          "text": [
            "100%|██████████| 306/306 [02:45<00:00,  1.85it/s, epoch=8, loss=(total:0.0443)]\n",
            "  0%|          | 0/306 [00:00<?, ?it/s]"
          ],
          "name": "stderr"
        },
        {
          "output_type": "stream",
          "text": [
            "eval_avg_error\n",
            "Epoch: 8, loss=(total:0.0443)\n",
            "======DEPTH=======\n",
            "MSE=0.0145\tRMSE=0.1125\tMAE=0.0301\tABS_REL=0.0900\n",
            "DELTA1.02=0.7130\tDELTA1.05=0.9605\tDELTA1.10=0.9760\n",
            "DELTA1.25=0.9836\tDELTA1.25^2=0.9899\tDELTA1.25^3=0.9929\n",
            "\n"
          ],
          "name": "stdout"
        },
        {
          "output_type": "stream",
          "text": [
            "100%|██████████| 306/306 [02:43<00:00,  1.87it/s, epoch=9, loss=(total:0.0367)]\n",
            "  0%|          | 0/306 [00:00<?, ?it/s]"
          ],
          "name": "stderr"
        },
        {
          "output_type": "stream",
          "text": [
            "eval_avg_error\n",
            "Epoch: 9, loss=(total:0.0367)\n",
            "======DEPTH=======\n",
            "MSE=0.0134\tRMSE=0.1107\tMAE=0.0278\tABS_REL=0.0870\n",
            "DELTA1.02=0.8021\tDELTA1.05=0.9677\tDELTA1.10=0.9767\n",
            "DELTA1.25=0.9838\tDELTA1.25^2=0.9894\tDELTA1.25^3=0.9926\n",
            "\n"
          ],
          "name": "stdout"
        },
        {
          "output_type": "stream",
          "text": [
            "100%|██████████| 306/306 [02:37<00:00,  1.94it/s, epoch=10, loss=(total:0.0193)]\n",
            "  0%|          | 0/306 [00:00<?, ?it/s]"
          ],
          "name": "stderr"
        },
        {
          "output_type": "stream",
          "text": [
            "eval_avg_error\n",
            "Epoch: 10, loss=(total:0.0193)\n",
            "======DEPTH=======\n",
            "MSE=0.0105\tRMSE=0.1005\tMAE=0.0163\tABS_REL=0.0762\n",
            "DELTA1.02=0.9626\tDELTA1.05=0.9734\tDELTA1.10=0.9789\n",
            "DELTA1.25=0.9854\tDELTA1.25^2=0.9904\tDELTA1.25^3=0.9932\n",
            "\n"
          ],
          "name": "stdout"
        },
        {
          "output_type": "stream",
          "text": [
            "100%|██████████| 306/306 [02:40<00:00,  1.91it/s, epoch=11, loss=(total:0.0223)]\n",
            "  0%|          | 0/306 [00:00<?, ?it/s]"
          ],
          "name": "stderr"
        },
        {
          "output_type": "stream",
          "text": [
            "eval_avg_error\n",
            "Epoch: 11, loss=(total:0.0223)\n",
            "======DEPTH=======\n",
            "MSE=0.0102\tRMSE=0.0997\tMAE=0.0161\tABS_REL=0.0755\n",
            "DELTA1.02=0.9627\tDELTA1.05=0.9731\tDELTA1.10=0.9789\n",
            "DELTA1.25=0.9856\tDELTA1.25^2=0.9906\tDELTA1.25^3=0.9933\n",
            "\n"
          ],
          "name": "stdout"
        },
        {
          "output_type": "stream",
          "text": [
            "100%|██████████| 306/306 [02:38<00:00,  1.93it/s, epoch=12, loss=(total:0.0249)]\n",
            "  0%|          | 0/306 [00:00<?, ?it/s]"
          ],
          "name": "stderr"
        },
        {
          "output_type": "stream",
          "text": [
            "eval_avg_error\n",
            "Epoch: 12, loss=(total:0.0249)\n",
            "======DEPTH=======\n",
            "MSE=0.0097\tRMSE=0.0971\tMAE=0.0156\tABS_REL=0.0717\n",
            "DELTA1.02=0.9642\tDELTA1.05=0.9745\tDELTA1.10=0.9800\n",
            "DELTA1.25=0.9863\tDELTA1.25^2=0.9911\tDELTA1.25^3=0.9937\n",
            "\n"
          ],
          "name": "stdout"
        },
        {
          "output_type": "stream",
          "text": [
            "100%|██████████| 306/306 [02:40<00:00,  1.91it/s, epoch=13, loss=(total:0.0225)]\n",
            "  0%|          | 0/306 [00:00<?, ?it/s]"
          ],
          "name": "stderr"
        },
        {
          "output_type": "stream",
          "text": [
            "eval_avg_error\n",
            "Epoch: 13, loss=(total:0.0225)\n",
            "======DEPTH=======\n",
            "MSE=0.0101\tRMSE=0.0991\tMAE=0.0161\tABS_REL=0.0723\n",
            "DELTA1.02=0.9622\tDELTA1.05=0.9737\tDELTA1.10=0.9796\n",
            "DELTA1.25=0.9859\tDELTA1.25^2=0.9909\tDELTA1.25^3=0.9935\n",
            "\n"
          ],
          "name": "stdout"
        },
        {
          "output_type": "stream",
          "text": [
            "100%|██████████| 306/306 [02:40<00:00,  1.91it/s, epoch=14, loss=(total:0.0187)]\n",
            "  0%|          | 0/306 [00:00<?, ?it/s]"
          ],
          "name": "stderr"
        },
        {
          "output_type": "stream",
          "text": [
            "eval_avg_error\n",
            "Epoch: 14, loss=(total:0.0187)\n",
            "======DEPTH=======\n",
            "MSE=0.0109\tRMSE=0.0988\tMAE=0.0158\tABS_REL=0.0745\n",
            "DELTA1.02=0.9641\tDELTA1.05=0.9742\tDELTA1.10=0.9798\n",
            "DELTA1.25=0.9860\tDELTA1.25^2=0.9911\tDELTA1.25^3=0.9937\n",
            "\n"
          ],
          "name": "stdout"
        },
        {
          "output_type": "stream",
          "text": [
            "100%|██████████| 306/306 [02:51<00:00,  1.79it/s, epoch=15, loss=(total:0.0151)]\n",
            "  0%|          | 0/306 [00:00<?, ?it/s]"
          ],
          "name": "stderr"
        },
        {
          "output_type": "stream",
          "text": [
            "eval_avg_error\n",
            "Epoch: 15, loss=(total:0.0151)\n",
            "======DEPTH=======\n",
            "MSE=0.0094\tRMSE=0.0957\tMAE=0.0149\tABS_REL=0.0721\n",
            "DELTA1.02=0.9644\tDELTA1.05=0.9743\tDELTA1.10=0.9797\n",
            "DELTA1.25=0.9860\tDELTA1.25^2=0.9909\tDELTA1.25^3=0.9936\n",
            "\n"
          ],
          "name": "stdout"
        },
        {
          "output_type": "stream",
          "text": [
            "100%|██████████| 306/306 [02:42<00:00,  1.89it/s, epoch=16, loss=(total:0.0174)]\n",
            "  0%|          | 0/306 [00:00<?, ?it/s]"
          ],
          "name": "stderr"
        },
        {
          "output_type": "stream",
          "text": [
            "eval_avg_error\n",
            "Epoch: 16, loss=(total:0.0174)\n",
            "======DEPTH=======\n",
            "MSE=0.0091\tRMSE=0.0941\tMAE=0.0146\tABS_REL=0.0732\n",
            "DELTA1.02=0.9658\tDELTA1.05=0.9750\tDELTA1.10=0.9802\n",
            "DELTA1.25=0.9864\tDELTA1.25^2=0.9911\tDELTA1.25^3=0.9937\n",
            "\n"
          ],
          "name": "stdout"
        },
        {
          "output_type": "stream",
          "text": [
            "100%|██████████| 306/306 [02:42<00:00,  1.89it/s, epoch=17, loss=(total:0.0204)]\n",
            "  0%|          | 0/306 [00:00<?, ?it/s]"
          ],
          "name": "stderr"
        },
        {
          "output_type": "stream",
          "text": [
            "eval_avg_error\n",
            "Epoch: 17, loss=(total:0.0204)\n",
            "======DEPTH=======\n",
            "MSE=0.0093\tRMSE=0.0950\tMAE=0.0149\tABS_REL=0.0705\n",
            "DELTA1.02=0.9656\tDELTA1.05=0.9754\tDELTA1.10=0.9806\n",
            "DELTA1.25=0.9865\tDELTA1.25^2=0.9911\tDELTA1.25^3=0.9937\n",
            "\n"
          ],
          "name": "stdout"
        },
        {
          "output_type": "stream",
          "text": [
            "100%|██████████| 306/306 [02:42<00:00,  1.88it/s, epoch=18, loss=(total:0.0220)]\n",
            "  0%|          | 0/306 [00:00<?, ?it/s]"
          ],
          "name": "stderr"
        },
        {
          "output_type": "stream",
          "text": [
            "eval_avg_error\n",
            "Epoch: 18, loss=(total:0.0220)\n",
            "======DEPTH=======\n",
            "MSE=0.0100\tRMSE=0.0962\tMAE=0.0155\tABS_REL=0.0729\n",
            "DELTA1.02=0.9645\tDELTA1.05=0.9745\tDELTA1.10=0.9801\n",
            "DELTA1.25=0.9864\tDELTA1.25^2=0.9911\tDELTA1.25^3=0.9937\n",
            "\n"
          ],
          "name": "stdout"
        },
        {
          "output_type": "stream",
          "text": [
            "100%|██████████| 306/306 [02:44<00:00,  1.86it/s, epoch=19, loss=(total:0.0164)]\n",
            "  0%|          | 0/306 [00:00<?, ?it/s]"
          ],
          "name": "stderr"
        },
        {
          "output_type": "stream",
          "text": [
            "eval_avg_error\n",
            "Epoch: 19, loss=(total:0.0164)\n",
            "======DEPTH=======\n",
            "MSE=0.0101\tRMSE=0.0960\tMAE=0.0156\tABS_REL=0.0739\n",
            "DELTA1.02=0.9657\tDELTA1.05=0.9751\tDELTA1.10=0.9805\n",
            "DELTA1.25=0.9866\tDELTA1.25^2=0.9912\tDELTA1.25^3=0.9938\n",
            "\n"
          ],
          "name": "stdout"
        },
        {
          "output_type": "stream",
          "text": [
            "100%|██████████| 306/306 [02:45<00:00,  1.85it/s, epoch=20, loss=(total:0.0262)]\n",
            "  0%|          | 0/306 [00:00<?, ?it/s]"
          ],
          "name": "stderr"
        },
        {
          "output_type": "stream",
          "text": [
            "eval_avg_error\n",
            "Epoch: 20, loss=(total:0.0262)\n",
            "======DEPTH=======\n",
            "MSE=0.0090\tRMSE=0.0936\tMAE=0.0136\tABS_REL=0.0734\n",
            "DELTA1.02=0.9659\tDELTA1.05=0.9753\tDELTA1.10=0.9804\n",
            "DELTA1.25=0.9865\tDELTA1.25^2=0.9912\tDELTA1.25^3=0.9938\n",
            "\n"
          ],
          "name": "stdout"
        },
        {
          "output_type": "stream",
          "text": [
            "100%|██████████| 306/306 [02:47<00:00,  1.83it/s, epoch=21, loss=(total:0.0115)]\n",
            "  0%|          | 0/306 [00:00<?, ?it/s]"
          ],
          "name": "stderr"
        },
        {
          "output_type": "stream",
          "text": [
            "eval_avg_error\n",
            "Epoch: 21, loss=(total:0.0115)\n",
            "======DEPTH=======\n",
            "MSE=0.0111\tRMSE=0.0960\tMAE=0.0145\tABS_REL=0.0726\n",
            "DELTA1.02=0.9674\tDELTA1.05=0.9759\tDELTA1.10=0.9809\n",
            "DELTA1.25=0.9868\tDELTA1.25^2=0.9914\tDELTA1.25^3=0.9939\n",
            "\n"
          ],
          "name": "stdout"
        },
        {
          "output_type": "stream",
          "text": [
            "100%|██████████| 306/306 [02:41<00:00,  1.89it/s, epoch=22, loss=(total:0.0265)]\n",
            "  0%|          | 0/306 [00:00<?, ?it/s]"
          ],
          "name": "stderr"
        },
        {
          "output_type": "stream",
          "text": [
            "eval_avg_error\n",
            "Epoch: 22, loss=(total:0.0265)\n",
            "======DEPTH=======\n",
            "MSE=0.0090\tRMSE=0.0928\tMAE=0.0134\tABS_REL=0.0718\n",
            "DELTA1.02=0.9667\tDELTA1.05=0.9753\tDELTA1.10=0.9806\n",
            "DELTA1.25=0.9866\tDELTA1.25^2=0.9913\tDELTA1.25^3=0.9939\n",
            "\n"
          ],
          "name": "stdout"
        },
        {
          "output_type": "stream",
          "text": [
            "100%|██████████| 306/306 [02:45<00:00,  1.85it/s, epoch=23, loss=(total:0.0143)]\n",
            "  0%|          | 0/306 [00:00<?, ?it/s]"
          ],
          "name": "stderr"
        },
        {
          "output_type": "stream",
          "text": [
            "eval_avg_error\n",
            "Epoch: 23, loss=(total:0.0143)\n",
            "======DEPTH=======\n",
            "MSE=0.0102\tRMSE=0.0950\tMAE=0.0139\tABS_REL=0.0707\n",
            "DELTA1.02=0.9669\tDELTA1.05=0.9762\tDELTA1.10=0.9812\n",
            "DELTA1.25=0.9870\tDELTA1.25^2=0.9915\tDELTA1.25^3=0.9940\n",
            "\n"
          ],
          "name": "stdout"
        },
        {
          "output_type": "stream",
          "text": [
            "100%|██████████| 306/306 [02:42<00:00,  1.88it/s, epoch=24, loss=(total:0.0135)]\n",
            "  0%|          | 0/306 [00:00<?, ?it/s]"
          ],
          "name": "stderr"
        },
        {
          "output_type": "stream",
          "text": [
            "eval_avg_error\n",
            "Epoch: 24, loss=(total:0.0135)\n",
            "======DEPTH=======\n",
            "MSE=0.0090\tRMSE=0.0935\tMAE=0.0133\tABS_REL=0.0717\n",
            "DELTA1.02=0.9667\tDELTA1.05=0.9758\tDELTA1.10=0.9808\n",
            "DELTA1.25=0.9868\tDELTA1.25^2=0.9914\tDELTA1.25^3=0.9939\n",
            "\n"
          ],
          "name": "stdout"
        },
        {
          "output_type": "stream",
          "text": [
            "100%|██████████| 306/306 [02:48<00:00,  1.82it/s, epoch=25, loss=(total:0.0419)]\n",
            "  0%|          | 0/306 [00:00<?, ?it/s]"
          ],
          "name": "stderr"
        },
        {
          "output_type": "stream",
          "text": [
            "eval_avg_error\n",
            "Epoch: 25, loss=(total:0.0419)\n",
            "======DEPTH=======\n",
            "MSE=0.0088\tRMSE=0.0928\tMAE=0.0132\tABS_REL=0.0714\n",
            "DELTA1.02=0.9660\tDELTA1.05=0.9755\tDELTA1.10=0.9807\n",
            "DELTA1.25=0.9867\tDELTA1.25^2=0.9914\tDELTA1.25^3=0.9939\n",
            "\n"
          ],
          "name": "stdout"
        },
        {
          "output_type": "stream",
          "text": [
            "100%|██████████| 306/306 [02:42<00:00,  1.89it/s, epoch=26, loss=(total:0.0152)]\n",
            "  0%|          | 0/306 [00:00<?, ?it/s]"
          ],
          "name": "stderr"
        },
        {
          "output_type": "stream",
          "text": [
            "eval_avg_error\n",
            "Epoch: 26, loss=(total:0.0152)\n",
            "======DEPTH=======\n",
            "MSE=0.0087\tRMSE=0.0919\tMAE=0.0131\tABS_REL=0.0691\n",
            "DELTA1.02=0.9674\tDELTA1.05=0.9761\tDELTA1.10=0.9810\n",
            "DELTA1.25=0.9869\tDELTA1.25^2=0.9915\tDELTA1.25^3=0.9940\n",
            "\n"
          ],
          "name": "stdout"
        },
        {
          "output_type": "stream",
          "text": [
            "100%|██████████| 306/306 [02:37<00:00,  1.95it/s, epoch=27, loss=(total:0.0280)]\n",
            "  0%|          | 0/306 [00:00<?, ?it/s]"
          ],
          "name": "stderr"
        },
        {
          "output_type": "stream",
          "text": [
            "eval_avg_error\n",
            "Epoch: 27, loss=(total:0.0280)\n",
            "======DEPTH=======\n",
            "MSE=0.0119\tRMSE=0.0957\tMAE=0.0148\tABS_REL=0.0709\n",
            "DELTA1.02=0.9674\tDELTA1.05=0.9761\tDELTA1.10=0.9812\n",
            "DELTA1.25=0.9870\tDELTA1.25^2=0.9915\tDELTA1.25^3=0.9940\n",
            "\n"
          ],
          "name": "stdout"
        },
        {
          "output_type": "stream",
          "text": [
            "100%|██████████| 306/306 [02:48<00:00,  1.82it/s, epoch=28, loss=(total:0.0174)]\n",
            "  0%|          | 0/306 [00:00<?, ?it/s]"
          ],
          "name": "stderr"
        },
        {
          "output_type": "stream",
          "text": [
            "eval_avg_error\n",
            "Epoch: 28, loss=(total:0.0174)\n",
            "======DEPTH=======\n",
            "MSE=0.0089\tRMSE=0.0929\tMAE=0.0132\tABS_REL=0.0692\n",
            "DELTA1.02=0.9673\tDELTA1.05=0.9760\tDELTA1.10=0.9810\n",
            "DELTA1.25=0.9869\tDELTA1.25^2=0.9915\tDELTA1.25^3=0.9940\n",
            "\n"
          ],
          "name": "stdout"
        },
        {
          "output_type": "stream",
          "text": [
            "100%|██████████| 306/306 [02:36<00:00,  1.95it/s, epoch=29, loss=(total:0.0182)]\n",
            "  0%|          | 0/306 [00:00<?, ?it/s]"
          ],
          "name": "stderr"
        },
        {
          "output_type": "stream",
          "text": [
            "eval_avg_error\n",
            "Epoch: 29, loss=(total:0.0182)\n",
            "======DEPTH=======\n",
            "MSE=0.0088\tRMSE=0.0926\tMAE=0.0131\tABS_REL=0.0710\n",
            "DELTA1.02=0.9679\tDELTA1.05=0.9762\tDELTA1.10=0.9811\n",
            "DELTA1.25=0.9869\tDELTA1.25^2=0.9915\tDELTA1.25^3=0.9940\n",
            "\n"
          ],
          "name": "stdout"
        },
        {
          "output_type": "stream",
          "text": [
            "100%|██████████| 306/306 [02:44<00:00,  1.86it/s, epoch=30, loss=(total:0.0247)]\n",
            "  0%|          | 0/306 [00:00<?, ?it/s]"
          ],
          "name": "stderr"
        },
        {
          "output_type": "stream",
          "text": [
            "eval_avg_error\n",
            "Epoch: 30, loss=(total:0.0247)\n",
            "======DEPTH=======\n",
            "MSE=0.0090\tRMSE=0.0932\tMAE=0.0131\tABS_REL=0.0701\n",
            "DELTA1.02=0.9679\tDELTA1.05=0.9759\tDELTA1.10=0.9811\n",
            "DELTA1.25=0.9869\tDELTA1.25^2=0.9915\tDELTA1.25^3=0.9940\n",
            "\n"
          ],
          "name": "stdout"
        },
        {
          "output_type": "stream",
          "text": [
            "100%|██████████| 306/306 [02:38<00:00,  1.93it/s, epoch=31, loss=(total:0.0135)]\n",
            "  0%|          | 0/306 [00:00<?, ?it/s]"
          ],
          "name": "stderr"
        },
        {
          "output_type": "stream",
          "text": [
            "eval_avg_error\n",
            "Epoch: 31, loss=(total:0.0135)\n",
            "======DEPTH=======\n",
            "MSE=0.0095\tRMSE=0.0934\tMAE=0.0136\tABS_REL=0.0722\n",
            "DELTA1.02=0.9672\tDELTA1.05=0.9761\tDELTA1.10=0.9811\n",
            "DELTA1.25=0.9868\tDELTA1.25^2=0.9914\tDELTA1.25^3=0.9939\n",
            "\n"
          ],
          "name": "stdout"
        },
        {
          "output_type": "stream",
          "text": [
            "100%|██████████| 306/306 [02:41<00:00,  1.90it/s, epoch=32, loss=(total:0.0163)]\n",
            "  0%|          | 0/306 [00:00<?, ?it/s]"
          ],
          "name": "stderr"
        },
        {
          "output_type": "stream",
          "text": [
            "eval_avg_error\n",
            "Epoch: 32, loss=(total:0.0163)\n",
            "======DEPTH=======\n",
            "MSE=0.0088\tRMSE=0.0924\tMAE=0.0130\tABS_REL=0.0703\n",
            "DELTA1.02=0.9675\tDELTA1.05=0.9760\tDELTA1.10=0.9810\n",
            "DELTA1.25=0.9869\tDELTA1.25^2=0.9914\tDELTA1.25^3=0.9940\n",
            "\n"
          ],
          "name": "stdout"
        },
        {
          "output_type": "stream",
          "text": [
            "100%|██████████| 306/306 [02:39<00:00,  1.91it/s, epoch=33, loss=(total:0.0109)]\n",
            "  0%|          | 0/306 [00:00<?, ?it/s]"
          ],
          "name": "stderr"
        },
        {
          "output_type": "stream",
          "text": [
            "eval_avg_error\n",
            "Epoch: 33, loss=(total:0.0109)\n",
            "======DEPTH=======\n",
            "MSE=0.0105\tRMSE=0.0940\tMAE=0.0139\tABS_REL=0.0720\n",
            "DELTA1.02=0.9679\tDELTA1.05=0.9758\tDELTA1.10=0.9808\n",
            "DELTA1.25=0.9867\tDELTA1.25^2=0.9913\tDELTA1.25^3=0.9938\n",
            "\n"
          ],
          "name": "stdout"
        },
        {
          "output_type": "stream",
          "text": [
            "100%|██████████| 306/306 [02:37<00:00,  1.94it/s, epoch=34, loss=(total:0.0148)]\n",
            "  0%|          | 0/306 [00:00<?, ?it/s]"
          ],
          "name": "stderr"
        },
        {
          "output_type": "stream",
          "text": [
            "eval_avg_error\n",
            "Epoch: 34, loss=(total:0.0148)\n",
            "======DEPTH=======\n",
            "MSE=0.0087\tRMSE=0.0920\tMAE=0.0130\tABS_REL=0.0722\n",
            "DELTA1.02=0.9669\tDELTA1.05=0.9757\tDELTA1.10=0.9808\n",
            "DELTA1.25=0.9868\tDELTA1.25^2=0.9914\tDELTA1.25^3=0.9939\n",
            "\n"
          ],
          "name": "stdout"
        },
        {
          "output_type": "stream",
          "text": [
            "100%|██████████| 306/306 [02:37<00:00,  1.94it/s, epoch=35, loss=(total:0.0142)]\n",
            "  0%|          | 0/306 [00:00<?, ?it/s]"
          ],
          "name": "stderr"
        },
        {
          "output_type": "stream",
          "text": [
            "eval_avg_error\n",
            "Epoch: 35, loss=(total:0.0142)\n",
            "======DEPTH=======\n",
            "MSE=0.0089\tRMSE=0.0930\tMAE=0.0131\tABS_REL=0.0696\n",
            "DELTA1.02=0.9676\tDELTA1.05=0.9761\tDELTA1.10=0.9810\n",
            "DELTA1.25=0.9868\tDELTA1.25^2=0.9914\tDELTA1.25^3=0.9939\n",
            "\n"
          ],
          "name": "stdout"
        },
        {
          "output_type": "stream",
          "text": [
            "100%|██████████| 306/306 [02:39<00:00,  1.92it/s, epoch=36, loss=(total:0.0180)]\n",
            "  0%|          | 0/306 [00:00<?, ?it/s]"
          ],
          "name": "stderr"
        },
        {
          "output_type": "stream",
          "text": [
            "eval_avg_error\n",
            "Epoch: 36, loss=(total:0.0180)\n",
            "======DEPTH=======\n",
            "MSE=0.0086\tRMSE=0.0915\tMAE=0.0128\tABS_REL=0.0712\n",
            "DELTA1.02=0.9676\tDELTA1.05=0.9761\tDELTA1.10=0.9811\n",
            "DELTA1.25=0.9869\tDELTA1.25^2=0.9915\tDELTA1.25^3=0.9940\n",
            "\n"
          ],
          "name": "stdout"
        },
        {
          "output_type": "stream",
          "text": [
            "100%|██████████| 306/306 [02:41<00:00,  1.90it/s, epoch=37, loss=(total:0.0153)]\n",
            "  0%|          | 0/306 [00:00<?, ?it/s]"
          ],
          "name": "stderr"
        },
        {
          "output_type": "stream",
          "text": [
            "eval_avg_error\n",
            "Epoch: 37, loss=(total:0.0153)\n",
            "======DEPTH=======\n",
            "MSE=0.0106\tRMSE=0.0943\tMAE=0.0138\tABS_REL=0.0706\n",
            "DELTA1.02=0.9685\tDELTA1.05=0.9764\tDELTA1.10=0.9812\n",
            "DELTA1.25=0.9870\tDELTA1.25^2=0.9915\tDELTA1.25^3=0.9940\n",
            "\n"
          ],
          "name": "stdout"
        },
        {
          "output_type": "stream",
          "text": [
            "100%|██████████| 306/306 [02:46<00:00,  1.84it/s, epoch=38, loss=(total:0.0154)]\n",
            "  0%|          | 0/306 [00:00<?, ?it/s]"
          ],
          "name": "stderr"
        },
        {
          "output_type": "stream",
          "text": [
            "eval_avg_error\n",
            "Epoch: 38, loss=(total:0.0154)\n",
            "======DEPTH=======\n",
            "MSE=0.0092\tRMSE=0.0930\tMAE=0.0133\tABS_REL=0.0724\n",
            "DELTA1.02=0.9666\tDELTA1.05=0.9756\tDELTA1.10=0.9808\n",
            "DELTA1.25=0.9868\tDELTA1.25^2=0.9914\tDELTA1.25^3=0.9939\n",
            "\n"
          ],
          "name": "stdout"
        },
        {
          "output_type": "stream",
          "text": [
            "100%|██████████| 306/306 [02:44<00:00,  1.86it/s, epoch=39, loss=(total:0.0153)]"
          ],
          "name": "stderr"
        },
        {
          "output_type": "stream",
          "text": [
            "eval_avg_error\n",
            "Epoch: 39, loss=(total:0.0153)\n",
            "======DEPTH=======\n",
            "MSE=0.0088\tRMSE=0.0918\tMAE=0.0129\tABS_REL=0.0703\n",
            "DELTA1.02=0.9679\tDELTA1.05=0.9764\tDELTA1.10=0.9813\n",
            "DELTA1.25=0.9871\tDELTA1.25^2=0.9916\tDELTA1.25^3=0.9940\n",
            "\n"
          ],
          "name": "stdout"
        },
        {
          "output_type": "stream",
          "text": [
            "\n"
          ],
          "name": "stderr"
        }
      ]
    },
    {
      "cell_type": "code",
      "metadata": {
        "colab": {
          "base_uri": "https://localhost:8080/"
        },
        "id": "AkAu2sRnbvDm",
        "outputId": "4e53f4e6-7bfe-4cde-da0d-17e6ff1e544b"
      },
      "source": [
        "if LOAD_TEST_MODEL:\n",
        "    epoch_idx, model = load_checkpoint(model, CHECKPOINT_FILE, DEVICE)\n",
        "\n",
        "model.eval()\n",
        "run_test(model, test_dataloader, loss_fn, metric_fn)\n",
        "print_single_error(epoch_idx, loss_fn.show(), metric_fn.show())"
      ],
      "execution_count": 20,
      "outputs": [
        {
          "output_type": "stream",
          "text": [
            "100%|██████████| 153/153 [00:25<00:00,  5.95it/s]"
          ],
          "name": "stderr"
        },
        {
          "output_type": "stream",
          "text": [
            "eval_avg_error\n",
            "Epoch: 39, loss=(total:0.0218)\n",
            "======DEPTH=======\n",
            "MSE=0.0097\tRMSE=0.0964\tMAE=0.0134\tABS_REL=0.0517\n",
            "DELTA1.02=0.9680\tDELTA1.05=0.9758\tDELTA1.10=0.9807\n",
            "DELTA1.25=0.9866\tDELTA1.25^2=0.9911\tDELTA1.25^3=0.9937\n",
            "\n"
          ],
          "name": "stdout"
        },
        {
          "output_type": "stream",
          "text": [
            "\n"
          ],
          "name": "stderr"
        }
      ]
    },
    {
      "cell_type": "code",
      "metadata": {
        "colab": {
          "base_uri": "https://localhost:8080/",
          "height": 476
        },
        "id": "Q4rZ2bdIauXm",
        "outputId": "6dda25e4-b78f-42e0-a06e-f47bcc9ef8b7"
      },
      "source": [
        "if LOAD_TEST_MODEL:\n",
        "    epoch_idx, model = load_checkpoint(model, CHECKPOINT_FILE, DEVICE)\n",
        "\n",
        "model.eval()\n",
        "metric_fn = MetricFunction(BATCH_SIZE)\n",
        "images = LoadImages(IMAGES, transform=detect_transform)\n",
        "for img, predictions, path in generatePredictions(model, images):\n",
        "    plot_predictions([img], predictions, [path])\n",
        "    save_predictions(predictions, [path])"
      ],
      "execution_count": 21,
      "outputs": [
        {
          "output_type": "display_data",
          "data": {
            "image/png": "[encoded data removed]",
            "text/plain": [
              "<Figure size 432x288 with 2 Axes>"
            ]
          },
          "metadata": {
            "tags": [],
            "needs_background": "light"
          }
        },
        {
          "output_type": "display_data",
          "data": {
            "image/png": "[encoded data removed]",
            "text/plain": [
              "<Figure size 432x288 with 1 Axes>"
            ]
          },
          "metadata": {
            "tags": [],
            "needs_background": "light"
          }
        }
      ]
    },
    {
      "cell_type": "code",
      "metadata": {
        "id": "OyIyyXIbe-g1"
      },
      "source": [
        "output_dir = os.path.join(OUT_PATH, re.sub(\"[^0-9a-zA-Z]+\", \"-\", dt.now().isoformat()))\n",
        "\n",
        "save_checkpoint(epoch_idx, model, output_dir)"
      ],
      "execution_count": 22,
      "outputs": []
    }
  ]
}