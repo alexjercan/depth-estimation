{
  "nbformat": 4,
  "nbformat_minor": 0,
  "metadata": {
    "colab": {
      "name": "Untitled4.ipynb",
      "provenance": [],
      "collapsed_sections": [],
      "authorship_tag": "ABX9TyOjmilEFgPKF3QUysMRjc45",
      "include_colab_link": true
    },
    "kernelspec": {
      "name": "python3",
      "display_name": "Python 3"
    },
    "language_info": {
      "name": "python"
    },
    "accelerator": "GPU",
    "widgets": {
      "application/vnd.jupyter.widget-state+json": {
        "38db7f4d2785402f8314d6bb62579022": {
          "model_module": "@jupyter-widgets/controls",
          "model_name": "HBoxModel",
          "state": {
            "_view_name": "HBoxView",
            "_dom_classes": [],
            "_model_name": "HBoxModel",
            "_view_module": "@jupyter-widgets/controls",
            "_model_module_version": "1.5.0",
            "_view_count": null,
            "_view_module_version": "1.5.0",
            "box_style": "",
            "layout": "IPY_MODEL_5ed9fe992db84edd92c1226e5d98d5a0",
            "_model_module": "@jupyter-widgets/controls",
            "children": [
              "IPY_MODEL_eabb1cefcb7c4a8395ff94e72ec153d5",
              "IPY_MODEL_20a61f39d8d845229bfa5b3eab8bc29b"
            ]
          }
        },
        "5ed9fe992db84edd92c1226e5d98d5a0": {
          "model_module": "@jupyter-widgets/base",
          "model_name": "LayoutModel",
          "state": {
            "_view_name": "LayoutView",
            "grid_template_rows": null,
            "right": null,
            "justify_content": null,
            "_view_module": "@jupyter-widgets/base",
            "overflow": null,
            "_model_module_version": "1.2.0",
            "_view_count": null,
            "flex_flow": null,
            "width": null,
            "min_width": null,
            "border": null,
            "align_items": null,
            "bottom": null,
            "_model_module": "@jupyter-widgets/base",
            "top": null,
            "grid_column": null,
            "overflow_y": null,
            "overflow_x": null,
            "grid_auto_flow": null,
            "grid_area": null,
            "grid_template_columns": null,
            "flex": null,
            "_model_name": "LayoutModel",
            "justify_items": null,
            "grid_row": null,
            "max_height": null,
            "align_content": null,
            "visibility": null,
            "align_self": null,
            "height": null,
            "min_height": null,
            "padding": null,
            "grid_auto_rows": null,
            "grid_gap": null,
            "max_width": null,
            "order": null,
            "_view_module_version": "1.2.0",
            "grid_template_areas": null,
            "object_position": null,
            "object_fit": null,
            "grid_auto_columns": null,
            "margin": null,
            "display": null,
            "left": null
          }
        },
        "eabb1cefcb7c4a8395ff94e72ec153d5": {
          "model_module": "@jupyter-widgets/controls",
          "model_name": "FloatProgressModel",
          "state": {
            "_view_name": "ProgressView",
            "style": "IPY_MODEL_c0e58c2173454d8794c32d7ff524dddb",
            "_dom_classes": [],
            "description": "100%",
            "_model_name": "FloatProgressModel",
            "bar_style": "success",
            "max": 116262275,
            "_view_module": "@jupyter-widgets/controls",
            "_model_module_version": "1.5.0",
            "value": 116262275,
            "_view_count": null,
            "_view_module_version": "1.5.0",
            "orientation": "horizontal",
            "min": 0,
            "description_tooltip": null,
            "_model_module": "@jupyter-widgets/controls",
            "layout": "IPY_MODEL_1a04601d99c14140b48088d9f55252ce"
          }
        },
        "20a61f39d8d845229bfa5b3eab8bc29b": {
          "model_module": "@jupyter-widgets/controls",
          "model_name": "HTMLModel",
          "state": {
            "_view_name": "HTMLView",
            "style": "IPY_MODEL_3569fe5c762e481b89665cf8af401991",
            "_dom_classes": [],
            "description": "",
            "_model_name": "HTMLModel",
            "placeholder": "​",
            "_view_module": "@jupyter-widgets/controls",
            "_model_module_version": "1.5.0",
            "value": " 111M/111M [00:27&lt;00:00, 4.20MB/s]",
            "_view_count": null,
            "_view_module_version": "1.5.0",
            "description_tooltip": null,
            "_model_module": "@jupyter-widgets/controls",
            "layout": "IPY_MODEL_53060dbd09a64ed7b921e34972605f45"
          }
        },
        "c0e58c2173454d8794c32d7ff524dddb": {
          "model_module": "@jupyter-widgets/controls",
          "model_name": "ProgressStyleModel",
          "state": {
            "_view_name": "StyleView",
            "_model_name": "ProgressStyleModel",
            "description_width": "initial",
            "_view_module": "@jupyter-widgets/base",
            "_model_module_version": "1.5.0",
            "_view_count": null,
            "_view_module_version": "1.2.0",
            "bar_color": null,
            "_model_module": "@jupyter-widgets/controls"
          }
        },
        "1a04601d99c14140b48088d9f55252ce": {
          "model_module": "@jupyter-widgets/base",
          "model_name": "LayoutModel",
          "state": {
            "_view_name": "LayoutView",
            "grid_template_rows": null,
            "right": null,
            "justify_content": null,
            "_view_module": "@jupyter-widgets/base",
            "overflow": null,
            "_model_module_version": "1.2.0",
            "_view_count": null,
            "flex_flow": null,
            "width": null,
            "min_width": null,
            "border": null,
            "align_items": null,
            "bottom": null,
            "_model_module": "@jupyter-widgets/base",
            "top": null,
            "grid_column": null,
            "overflow_y": null,
            "overflow_x": null,
            "grid_auto_flow": null,
            "grid_area": null,
            "grid_template_columns": null,
            "flex": null,
            "_model_name": "LayoutModel",
            "justify_items": null,
            "grid_row": null,
            "max_height": null,
            "align_content": null,
            "visibility": null,
            "align_self": null,
            "height": null,
            "min_height": null,
            "padding": null,
            "grid_auto_rows": null,
            "grid_gap": null,
            "max_width": null,
            "order": null,
            "_view_module_version": "1.2.0",
            "grid_template_areas": null,
            "object_position": null,
            "object_fit": null,
            "grid_auto_columns": null,
            "margin": null,
            "display": null,
            "left": null
          }
        },
        "3569fe5c762e481b89665cf8af401991": {
          "model_module": "@jupyter-widgets/controls",
          "model_name": "DescriptionStyleModel",
          "state": {
            "_view_name": "StyleView",
            "_model_name": "DescriptionStyleModel",
            "description_width": "",
            "_view_module": "@jupyter-widgets/base",
            "_model_module_version": "1.5.0",
            "_view_count": null,
            "_view_module_version": "1.2.0",
            "_model_module": "@jupyter-widgets/controls"
          }
        },
        "53060dbd09a64ed7b921e34972605f45": {
          "model_module": "@jupyter-widgets/base",
          "model_name": "LayoutModel",
          "state": {
            "_view_name": "LayoutView",
            "grid_template_rows": null,
            "right": null,
            "justify_content": null,
            "_view_module": "@jupyter-widgets/base",
            "overflow": null,
            "_model_module_version": "1.2.0",
            "_view_count": null,
            "flex_flow": null,
            "width": null,
            "min_width": null,
            "border": null,
            "align_items": null,
            "bottom": null,
            "_model_module": "@jupyter-widgets/base",
            "top": null,
            "grid_column": null,
            "overflow_y": null,
            "overflow_x": null,
            "grid_auto_flow": null,
            "grid_area": null,
            "grid_template_columns": null,
            "flex": null,
            "_model_name": "LayoutModel",
            "justify_items": null,
            "grid_row": null,
            "max_height": null,
            "align_content": null,
            "visibility": null,
            "align_self": null,
            "height": null,
            "min_height": null,
            "padding": null,
            "grid_auto_rows": null,
            "grid_gap": null,
            "max_width": null,
            "order": null,
            "_view_module_version": "1.2.0",
            "grid_template_areas": null,
            "object_position": null,
            "object_fit": null,
            "grid_auto_columns": null,
            "margin": null,
            "display": null,
            "left": null
          }
        }
      }
    }
  },
  "cells": [
    {
      "cell_type": "markdown",
      "metadata": {
        "id": "view-in-github",
        "colab_type": "text"
      },
      "source": [
        "<a href=\"https://colab.research.google.com/github/alexjercan/depth-estimation/blob/master/tutorial.ipynb\" target=\"_parent\"><img src=\"https://colab.research.google.com/assets/colab-badge.svg\" alt=\"Open In Colab\"/></a>"
      ]
    },
    {
      "cell_type": "code",
      "metadata": {
        "colab": {
          "base_uri": "https://localhost:8080/",
          "height": 777
        },
        "id": "siz-VkAr2P8g",
        "outputId": "6449f03f-5845-411d-88c1-49bc416a12ff"
      },
      "source": [
        "!pip install matplotlib==3.3.3 albumentations==0.5.2"
      ],
      "execution_count": 1,
      "outputs": [
        {
          "output_type": "stream",
          "text": [
            "Collecting matplotlib==3.3.3\n",
            "\u001b[?25l  Downloading https://files.pythonhosted.org/packages/30/f2/10c822cb0ca5ebec58bd1892187bc3e3db64a867ac26531c6204663fc218/matplotlib-3.3.3-cp37-cp37m-manylinux1_x86_64.whl (11.6MB)\n",
            "\u001b[K     |████████████████████████████████| 11.6MB 256kB/s \n",
            "\u001b[?25hCollecting albumentations==0.5.2\n",
            "\u001b[?25l  Downloading https://files.pythonhosted.org/packages/03/58/63fb1d742dc42d9ba2800ea741de1f2bc6bb05548d8724aa84794042eaf2/albumentations-0.5.2-py3-none-any.whl (72kB)\n",
            "\u001b[K     |████████████████████████████████| 81kB 8.7MB/s \n",
            "\u001b[?25hRequirement already satisfied: numpy>=1.15 in /usr/local/lib/python3.7/dist-packages (from matplotlib==3.3.3) (1.19.5)\n",
            "Requirement already satisfied: kiwisolver>=1.0.1 in /usr/local/lib/python3.7/dist-packages (from matplotlib==3.3.3) (1.3.1)\n",
            "Requirement already satisfied: python-dateutil>=2.1 in /usr/local/lib/python3.7/dist-packages (from matplotlib==3.3.3) (2.8.1)\n",
            "Requirement already satisfied: pyparsing!=2.0.4,!=2.1.2,!=2.1.6,>=2.0.3 in /usr/local/lib/python3.7/dist-packages (from matplotlib==3.3.3) (2.4.7)\n",
            "Requirement already satisfied: cycler>=0.10 in /usr/local/lib/python3.7/dist-packages (from matplotlib==3.3.3) (0.10.0)\n",
            "Requirement already satisfied: pillow>=6.2.0 in /usr/local/lib/python3.7/dist-packages (from matplotlib==3.3.3) (7.1.2)\n",
            "Collecting imgaug>=0.4.0\n",
            "\u001b[?25l  Downloading https://files.pythonhosted.org/packages/66/b1/af3142c4a85cba6da9f4ebb5ff4e21e2616309552caca5e8acefe9840622/imgaug-0.4.0-py2.py3-none-any.whl (948kB)\n",
            "\u001b[K     |████████████████████████████████| 952kB 38.2MB/s \n",
            "\u001b[?25hRequirement already satisfied: scipy in /usr/local/lib/python3.7/dist-packages (from albumentations==0.5.2) (1.4.1)\n",
            "Requirement already satisfied: scikit-image>=0.16.1 in /usr/local/lib/python3.7/dist-packages (from albumentations==0.5.2) (0.16.2)\n",
            "Requirement already satisfied: PyYAML in /usr/local/lib/python3.7/dist-packages (from albumentations==0.5.2) (3.13)\n",
            "Collecting opencv-python-headless>=4.1.1\n",
            "\u001b[?25l  Downloading https://files.pythonhosted.org/packages/6d/6d/92f377bece9b0ec9c893081dbe073a65b38d7ac12ef572b8f70554d08760/opencv_python_headless-4.5.1.48-cp37-cp37m-manylinux2014_x86_64.whl (37.6MB)\n",
            "\u001b[K     |████████████████████████████████| 37.6MB 75kB/s \n",
            "\u001b[?25hRequirement already satisfied: six>=1.5 in /usr/local/lib/python3.7/dist-packages (from python-dateutil>=2.1->matplotlib==3.3.3) (1.15.0)\n",
            "Requirement already satisfied: imageio in /usr/local/lib/python3.7/dist-packages (from imgaug>=0.4.0->albumentations==0.5.2) (2.4.1)\n",
            "Requirement already satisfied: Shapely in /usr/local/lib/python3.7/dist-packages (from imgaug>=0.4.0->albumentations==0.5.2) (1.7.1)\n",
            "Requirement already satisfied: opencv-python in /usr/local/lib/python3.7/dist-packages (from imgaug>=0.4.0->albumentations==0.5.2) (4.1.2.30)\n",
            "Requirement already satisfied: networkx>=2.0 in /usr/local/lib/python3.7/dist-packages (from scikit-image>=0.16.1->albumentations==0.5.2) (2.5.1)\n",
            "Requirement already satisfied: PyWavelets>=0.4.0 in /usr/local/lib/python3.7/dist-packages (from scikit-image>=0.16.1->albumentations==0.5.2) (1.1.1)\n",
            "Requirement already satisfied: decorator<5,>=4.3 in /usr/local/lib/python3.7/dist-packages (from networkx>=2.0->scikit-image>=0.16.1->albumentations==0.5.2) (4.4.2)\n",
            "Installing collected packages: matplotlib, imgaug, opencv-python-headless, albumentations\n",
            "  Found existing installation: matplotlib 3.2.2\n",
            "    Uninstalling matplotlib-3.2.2:\n",
            "      Successfully uninstalled matplotlib-3.2.2\n",
            "  Found existing installation: imgaug 0.2.9\n",
            "    Uninstalling imgaug-0.2.9:\n",
            "      Successfully uninstalled imgaug-0.2.9\n",
            "  Found existing installation: albumentations 0.1.12\n",
            "    Uninstalling albumentations-0.1.12:\n",
            "      Successfully uninstalled albumentations-0.1.12\n",
            "Successfully installed albumentations-0.5.2 imgaug-0.4.0 matplotlib-3.3.3 opencv-python-headless-4.5.1.48\n"
          ],
          "name": "stdout"
        },
        {
          "output_type": "display_data",
          "data": {
            "application/vnd.colab-display-data+json": {
              "pip_warning": {
                "packages": [
                  "matplotlib",
                  "mpl_toolkits"
                ]
              }
            }
          },
          "metadata": {
            "tags": []
          }
        }
      ]
    },
    {
      "cell_type": "code",
      "metadata": {
        "colab": {
          "base_uri": "https://localhost:8080/"
        },
        "id": "Bgiit0eg0glA",
        "outputId": "e6a492b9-c285-483c-f7a1-0b487ee908cd"
      },
      "source": [
        "!git clone https://github.com/alexjercan/depth-estimation.git\n",
        "%cd depth-estimation\n",
        "\n",
        "import torch\n",
        "from IPython.display import clear_output\n",
        "\n",
        "clear_output()\n",
        "print('Setup complete. Using torch %s %s' % (torch.__version__, torch.cuda.get_device_properties(0) if torch.cuda.is_available() else 'CPU'))"
      ],
      "execution_count": 1,
      "outputs": [
        {
          "output_type": "stream",
          "text": [
            "Setup complete. Using torch 1.8.1+cu101 _CudaDeviceProperties(name='Tesla K80', major=3, minor=7, total_memory=11441MB, multi_processor_count=13)\n"
          ],
          "name": "stdout"
        }
      ]
    },
    {
      "cell_type": "code",
      "metadata": {
        "colab": {
          "base_uri": "https://localhost:8080/",
          "height": 66,
          "referenced_widgets": [
            "38db7f4d2785402f8314d6bb62579022",
            "5ed9fe992db84edd92c1226e5d98d5a0",
            "eabb1cefcb7c4a8395ff94e72ec153d5",
            "20a61f39d8d845229bfa5b3eab8bc29b",
            "c0e58c2173454d8794c32d7ff524dddb",
            "1a04601d99c14140b48088d9f55252ce",
            "3569fe5c762e481b89665cf8af401991",
            "53060dbd09a64ed7b921e34972605f45"
          ]
        },
        "id": "kSQMVSwG05lO",
        "outputId": "1eddd470-29ec-4943-b247-d23ef40cd9ef"
      },
      "source": [
        "# Download bdataset\n",
        "torch.hub.download_url_to_file('https://github.com/alexjercan/depth-estimation/releases/download/v1.0/bdataset_stereo.zip', 'tmp.zip')\n",
        "!unzip -q tmp.zip -d ../ && rm tmp.zip"
      ],
      "execution_count": 2,
      "outputs": [
        {
          "output_type": "display_data",
          "data": {
            "application/vnd.jupyter.widget-view+json": {
              "model_id": "38db7f4d2785402f8314d6bb62579022",
              "version_minor": 0,
              "version_major": 2
            },
            "text/plain": [
              "HBox(children=(FloatProgress(value=0.0, max=116262275.0), HTML(value='')))"
            ]
          },
          "metadata": {
            "tags": []
          }
        },
        {
          "output_type": "stream",
          "text": [
            "\n"
          ],
          "name": "stdout"
        }
      ]
    },
    {
      "cell_type": "code",
      "metadata": {
        "colab": {
          "base_uri": "https://localhost:8080/"
        },
        "id": "kYeXOXtJvhb9",
        "outputId": "983b3346-e704-4963-efed-2a6fdeeaa07d"
      },
      "source": [
        "!git pull\n",
        "!python dataset.py\n",
        "!python model.py"
      ],
      "execution_count": 3,
      "outputs": [
        {
          "output_type": "stream",
          "text": [
            "Already up to date.\n",
            "dataset ok\n",
            "model ok\n"
          ],
          "name": "stdout"
        }
      ]
    },
    {
      "cell_type": "code",
      "metadata": {
        "id": "LaaBznBbV8HN"
      },
      "source": [
        "import os\n",
        "import re\n",
        "import torch\n",
        "import torch.optim\n",
        "import albumentations as A\n",
        "import my_albumentations as M\n",
        "\n",
        "from datetime import datetime as dt\n",
        "from albumentations.pytorch.transforms import ToTensorV2\n",
        "from config import DEVICE\n",
        "from model import Model, LossFunction\n",
        "from general import init_weights, load_checkpoint, save_checkpoint\n",
        "from dataset import create_dataloader\n",
        "from metrics import MetricFunction, print_single_error\n",
        "from detect import generatePredictions\n",
        "from train import train_one_epoch\n",
        "from test import run_test\n",
        "from util import save_predictions, plot_predictions\n",
        "from dataset import LoadImages\n",
        "\n",
        "IMAGE_SIZE = 256\n",
        "DATASET_ROOT = \"../bdataset_stereo\"\n",
        "TRAIN_JSON_PATH = \"train.json\"\n",
        "TEST_JSON_PATH = \"test.json\"\n",
        "IMAGES = [{\"imageL\": \"data/left.png\", \"imageR\": \"data/right.png\", \"output\": \"data/output.exr\"}]\n",
        "BATCH_SIZE = 8\n",
        "WORKERS = 8\n",
        "\n",
        "LEARNING_RATE = 0.01\n",
        "BETAS = [0.9, 0.999]\n",
        "EPS = 0.00000001\n",
        "WEIGHT_DECAY = 0.0001\n",
        "MOMENTUM = 0.9\n",
        "DAMPENING = 0.1\n",
        "\n",
        "MILESTONES = [10,20,30]\n",
        "GAMMA = 0.2\n",
        "\n",
        "NUM_EPOCHS = 40\n",
        "OUT_PATH =\"./runs\"\n",
        "LOAD_TRAIN_MODEL = False\n",
        "LOAD_TEST_MODEL = False\n",
        "CHECKPOINT_TRAIN_FILE = \"normal.pth\"\n",
        "CHECKPOINT_TEST_FILE = \"normal.pth\"\n",
        "\n",
        "torch.backends.cudnn.benchmark = True"
      ],
      "execution_count": 4,
      "outputs": []
    },
    {
      "cell_type": "code",
      "metadata": {
        "id": "zc0ejoy2UWo_"
      },
      "source": [
        "train_transform = A.Compose(\n",
        "    [\n",
        "        M.MyRandomResizedCrop(width=IMAGE_SIZE, height=IMAGE_SIZE),\n",
        "        M.MyHorizontalFlip(p=0.5),\n",
        "        M.MyVerticalFlip(p=0.1),\n",
        "        A.OneOf([\n",
        "            A.MotionBlur(p=0.2),\n",
        "            A.MedianBlur(blur_limit=3, p=0.1),\n",
        "            A.Blur(blur_limit=3, p=0.1),\n",
        "        ], p=0.2),\n",
        "        A.OneOf([\n",
        "            M.MyOpticalDistortion(p=0.3),\n",
        "            M.MyGridDistortion(p=0.1),\n",
        "            M.MyIAAPiecewiseAffine(p=0.3),\n",
        "        ], p=0.2),\n",
        "        A.OneOf([\n",
        "            A.IAASharpen(),\n",
        "            A.IAAEmboss(),\n",
        "            A.RandomBrightnessContrast(),            \n",
        "        ], p=0.3),\n",
        "        A.Normalize(),\n",
        "        M.MyToTensorV2(),\n",
        "    ],\n",
        "    additional_targets={\n",
        "        'right_img': 'image',\n",
        "        'left_depth': 'depth',\n",
        "        'right_depth': 'depth',\n",
        "    }\n",
        ")\n",
        "\n",
        "test_transform = A.Compose(\n",
        "    [\n",
        "        A.Normalize(),\n",
        "        M.MyToTensorV2(),\n",
        "    ],\n",
        "    additional_targets={\n",
        "        'right_img': 'image',\n",
        "        'left_depth': 'depth',\n",
        "        'right_depth': 'depth',\n",
        "    }\n",
        ")\n",
        "\n",
        "detect_transform = A.Compose(\n",
        "    [\n",
        "        A.Resize(height=IMAGE_SIZE, width=IMAGE_SIZE),\n",
        "        A.Normalize(),\n",
        "        ToTensorV2(),\n",
        "    ],\n",
        "    additional_targets={\n",
        "        'right_img': 'image',\n",
        "    }\n",
        ")\n",
        "\n",
        "_, train_dataloader = create_dataloader(DATASET_ROOT, TRAIN_JSON_PATH, \n",
        "                                        batch_size=BATCH_SIZE, transform=train_transform, \n",
        "                                        workers=WORKERS, pin_memory=True, shuffle=True)\n",
        "\n",
        "_, test_dataloader = create_dataloader(DATASET_ROOT, TEST_JSON_PATH,\n",
        "                                       batch_size=BATCH_SIZE, transform=test_transform,\n",
        "                                       workers=WORKERS, pin_memory=True, shuffle=False)\n"
      ],
      "execution_count": 5,
      "outputs": []
    },
    {
      "cell_type": "code",
      "metadata": {
        "id": "68DeiDrjVG1b"
      },
      "source": [
        "model = Model()\n",
        "model.apply(init_weights)\n",
        "# solver = torch.optim.Adam(filter(lambda p: p.requires_grad, model.parameters()), \n",
        "#                           lr=LEARNING_RATE, betas=BETAS, \n",
        "#                           eps=EPS, weight_decay=WEIGHT_DECAY)\n",
        "solver = torch.optim.SGD(filter(lambda p: p.requires_grad, model.parameters()), \n",
        "                         lr=LEARNING_RATE, momentum=MOMENTUM,\n",
        "                         dampening = DAMPENING, weight_decay=WEIGHT_DECAY)\n",
        "lr_scheduler = torch.optim.lr_scheduler.MultiStepLR(solver, milestones=MILESTONES, gamma=GAMMA)\n",
        "model = model.to(DEVICE)\n",
        "loss_fn = LossFunction()"
      ],
      "execution_count": 6,
      "outputs": []
    },
    {
      "cell_type": "code",
      "metadata": {
        "colab": {
          "base_uri": "https://localhost:8080/"
        },
        "id": "GTJCokSBVQ_9",
        "outputId": "1ce5f997-1169-468b-a17d-873da8b08c6f"
      },
      "source": [
        "epoch_idx = 0\n",
        "if LOAD_TRAIN_MODEL:\n",
        "    epoch_idx, model = load_checkpoint(model, CHECKPOINT_FILE, DEVICE)\n",
        "\n",
        "model.train()\n",
        "for epoch_idx in range(epoch_idx, NUM_EPOCHS):\n",
        "    metric_fn = MetricFunction(BATCH_SIZE)\n",
        "    train_one_epoch(model, train_dataloader, loss_fn, metric_fn, solver, epoch_idx)\n",
        "    print_single_error(epoch_idx, loss_fn.show(), metric_fn.show())\n",
        "    lr_scheduler.step()"
      ],
      "execution_count": 7,
      "outputs": [
        {
          "output_type": "stream",
          "text": [
            "100%|██████████| 27/27 [00:35<00:00,  1.30s/it, epoch=0, loss=(total:0.1532)]\n",
            "  0%|          | 0/27 [00:00<?, ?it/s]"
          ],
          "name": "stderr"
        },
        {
          "output_type": "stream",
          "text": [
            "eval_avg_error\n",
            "Epoch: 0, loss=(total:0.1532)\n",
            "======DEPTH=======\n",
            "MSE=0.2599\tRMSE=0.3838\tMAE=0.2794\tABS_REL=1.7086\n",
            "DELTA1.02=0.2206\tDELTA1.05=0.3772\tDELTA1.10=0.5673\n",
            "DELTA1.25=0.8140\tDELTA1.25^2=0.8766\tDELTA1.25^3=0.9053\n",
            "\n"
          ],
          "name": "stdout"
        },
        {
          "output_type": "stream",
          "text": [
            "100%|██████████| 27/27 [00:28<00:00,  1.07s/it, epoch=1, loss=(total:0.1087)]\n",
            "  0%|          | 0/27 [00:00<?, ?it/s]"
          ],
          "name": "stderr"
        },
        {
          "output_type": "stream",
          "text": [
            "eval_avg_error\n",
            "Epoch: 1, loss=(total:0.1087)\n",
            "======DEPTH=======\n",
            "MSE=0.0601\tRMSE=0.2421\tMAE=0.1328\tABS_REL=1.0400\n",
            "DELTA1.02=0.2150\tDELTA1.05=0.4604\tDELTA1.10=0.7056\n",
            "DELTA1.25=0.8719\tDELTA1.25^2=0.9203\tDELTA1.25^3=0.9396\n",
            "\n"
          ],
          "name": "stdout"
        },
        {
          "output_type": "stream",
          "text": [
            "100%|██████████| 27/27 [00:27<00:00,  1.04s/it, epoch=2, loss=(total:0.1758)]\n",
            "  0%|          | 0/27 [00:00<?, ?it/s]"
          ],
          "name": "stderr"
        },
        {
          "output_type": "stream",
          "text": [
            "eval_avg_error\n",
            "Epoch: 2, loss=(total:0.1758)\n",
            "======DEPTH=======\n",
            "MSE=0.0451\tRMSE=0.2102\tMAE=0.1139\tABS_REL=0.9106\n",
            "DELTA1.02=0.2262\tDELTA1.05=0.4922\tDELTA1.10=0.7709\n",
            "DELTA1.25=0.8997\tDELTA1.25^2=0.9420\tDELTA1.25^3=0.9610\n",
            "\n"
          ],
          "name": "stdout"
        },
        {
          "output_type": "stream",
          "text": [
            "100%|██████████| 27/27 [00:27<00:00,  1.01s/it, epoch=3, loss=(total:0.1333)]\n",
            "  0%|          | 0/27 [00:00<?, ?it/s]"
          ],
          "name": "stderr"
        },
        {
          "output_type": "stream",
          "text": [
            "eval_avg_error\n",
            "Epoch: 3, loss=(total:0.1333)\n",
            "======DEPTH=======\n",
            "MSE=0.0441\tRMSE=0.2073\tMAE=0.1148\tABS_REL=0.8500\n",
            "DELTA1.02=0.2254\tDELTA1.05=0.4611\tDELTA1.10=0.7295\n",
            "DELTA1.25=0.9065\tDELTA1.25^2=0.9444\tDELTA1.25^3=0.9615\n",
            "\n"
          ],
          "name": "stdout"
        },
        {
          "output_type": "stream",
          "text": [
            "100%|██████████| 27/27 [00:28<00:00,  1.07s/it, epoch=4, loss=(total:0.2223)]\n",
            "  0%|          | 0/27 [00:00<?, ?it/s]"
          ],
          "name": "stderr"
        },
        {
          "output_type": "stream",
          "text": [
            "eval_avg_error\n",
            "Epoch: 4, loss=(total:0.2223)\n",
            "======DEPTH=======\n",
            "MSE=0.0393\tRMSE=0.1938\tMAE=0.1057\tABS_REL=1.0401\n",
            "DELTA1.02=0.1922\tDELTA1.05=0.4909\tDELTA1.10=0.8011\n",
            "DELTA1.25=0.9247\tDELTA1.25^2=0.9542\tDELTA1.25^3=0.9671\n",
            "\n"
          ],
          "name": "stdout"
        },
        {
          "output_type": "stream",
          "text": [
            "100%|██████████| 27/27 [00:29<00:00,  1.08s/it, epoch=5, loss=(total:0.0762)]\n",
            "  0%|          | 0/27 [00:00<?, ?it/s]"
          ],
          "name": "stderr"
        },
        {
          "output_type": "stream",
          "text": [
            "eval_avg_error\n",
            "Epoch: 5, loss=(total:0.0762)\n",
            "======DEPTH=======\n",
            "MSE=0.0326\tRMSE=0.1778\tMAE=0.0894\tABS_REL=0.9105\n",
            "DELTA1.02=0.2842\tDELTA1.05=0.6543\tDELTA1.10=0.8562\n",
            "DELTA1.25=0.9302\tDELTA1.25^2=0.9561\tDELTA1.25^3=0.9668\n",
            "\n"
          ],
          "name": "stdout"
        },
        {
          "output_type": "stream",
          "text": [
            "100%|██████████| 27/27 [00:27<00:00,  1.04s/it, epoch=6, loss=(total:0.0864)]\n",
            "  0%|          | 0/27 [00:00<?, ?it/s]"
          ],
          "name": "stderr"
        },
        {
          "output_type": "stream",
          "text": [
            "eval_avg_error\n",
            "Epoch: 6, loss=(total:0.0864)\n",
            "======DEPTH=======\n",
            "MSE=0.0235\tRMSE=0.1497\tMAE=0.0639\tABS_REL=0.8849\n",
            "DELTA1.02=0.5627\tDELTA1.05=0.8249\tDELTA1.10=0.9010\n",
            "DELTA1.25=0.9459\tDELTA1.25^2=0.9675\tDELTA1.25^3=0.9755\n",
            "\n"
          ],
          "name": "stdout"
        },
        {
          "output_type": "stream",
          "text": [
            "100%|██████████| 27/27 [00:28<00:00,  1.04s/it, epoch=7, loss=(total:0.1054)]\n",
            "  0%|          | 0/27 [00:00<?, ?it/s]"
          ],
          "name": "stderr"
        },
        {
          "output_type": "stream",
          "text": [
            "eval_avg_error\n",
            "Epoch: 7, loss=(total:0.1054)\n",
            "======DEPTH=======\n",
            "MSE=0.0266\tRMSE=0.1588\tMAE=0.0781\tABS_REL=0.8515\n",
            "DELTA1.02=0.3607\tDELTA1.05=0.6669\tDELTA1.10=0.8875\n",
            "DELTA1.25=0.9397\tDELTA1.25^2=0.9601\tDELTA1.25^3=0.9686\n",
            "\n"
          ],
          "name": "stdout"
        },
        {
          "output_type": "stream",
          "text": [
            "100%|██████████| 27/27 [00:28<00:00,  1.04s/it, epoch=8, loss=(total:0.0735)]\n",
            "  0%|          | 0/27 [00:00<?, ?it/s]"
          ],
          "name": "stderr"
        },
        {
          "output_type": "stream",
          "text": [
            "eval_avg_error\n",
            "Epoch: 8, loss=(total:0.0735)\n",
            "======DEPTH=======\n",
            "MSE=0.0270\tRMSE=0.1608\tMAE=0.0927\tABS_REL=0.9754\n",
            "DELTA1.02=0.2105\tDELTA1.05=0.4713\tDELTA1.10=0.7797\n",
            "DELTA1.25=0.9466\tDELTA1.25^2=0.9668\tDELTA1.25^3=0.9745\n",
            "\n"
          ],
          "name": "stdout"
        },
        {
          "output_type": "stream",
          "text": [
            "100%|██████████| 27/27 [00:27<00:00,  1.04s/it, epoch=9, loss=(total:0.0639)]\n",
            "  0%|          | 0/27 [00:00<?, ?it/s]"
          ],
          "name": "stderr"
        },
        {
          "output_type": "stream",
          "text": [
            "eval_avg_error\n",
            "Epoch: 9, loss=(total:0.0639)\n",
            "======DEPTH=======\n",
            "MSE=0.0270\tRMSE=0.1556\tMAE=0.0704\tABS_REL=0.9519\n",
            "DELTA1.02=0.4818\tDELTA1.05=0.8082\tDELTA1.10=0.8984\n",
            "DELTA1.25=0.9471\tDELTA1.25^2=0.9628\tDELTA1.25^3=0.9713\n",
            "\n"
          ],
          "name": "stdout"
        },
        {
          "output_type": "stream",
          "text": [
            "100%|██████████| 27/27 [00:28<00:00,  1.07s/it, epoch=10, loss=(total:0.0522)]\n",
            "  0%|          | 0/27 [00:00<?, ?it/s]"
          ],
          "name": "stderr"
        },
        {
          "output_type": "stream",
          "text": [
            "eval_avg_error\n",
            "Epoch: 10, loss=(total:0.0522)\n",
            "======DEPTH=======\n",
            "MSE=0.0199\tRMSE=0.1382\tMAE=0.0538\tABS_REL=0.8372\n",
            "DELTA1.02=0.7523\tDELTA1.05=0.8601\tDELTA1.10=0.9043\n",
            "DELTA1.25=0.9455\tDELTA1.25^2=0.9654\tDELTA1.25^3=0.9752\n",
            "\n"
          ],
          "name": "stdout"
        },
        {
          "output_type": "stream",
          "text": [
            "100%|██████████| 27/27 [00:27<00:00,  1.03s/it, epoch=11, loss=(total:0.0947)]\n",
            "  0%|          | 0/27 [00:00<?, ?it/s]"
          ],
          "name": "stderr"
        },
        {
          "output_type": "stream",
          "text": [
            "eval_avg_error\n",
            "Epoch: 11, loss=(total:0.0947)\n",
            "======DEPTH=======\n",
            "MSE=0.0197\tRMSE=0.1377\tMAE=0.0497\tABS_REL=0.7844\n",
            "DELTA1.02=0.7847\tDELTA1.05=0.8686\tDELTA1.10=0.9164\n",
            "DELTA1.25=0.9506\tDELTA1.25^2=0.9673\tDELTA1.25^3=0.9765\n",
            "\n"
          ],
          "name": "stdout"
        },
        {
          "output_type": "stream",
          "text": [
            "100%|██████████| 27/27 [00:27<00:00,  1.01s/it, epoch=12, loss=(total:0.0597)]\n",
            "  0%|          | 0/27 [00:00<?, ?it/s]"
          ],
          "name": "stderr"
        },
        {
          "output_type": "stream",
          "text": [
            "eval_avg_error\n",
            "Epoch: 12, loss=(total:0.0597)\n",
            "======DEPTH=======\n",
            "MSE=0.0175\tRMSE=0.1304\tMAE=0.0478\tABS_REL=0.7910\n",
            "DELTA1.02=0.7838\tDELTA1.05=0.8797\tDELTA1.10=0.9218\n",
            "DELTA1.25=0.9557\tDELTA1.25^2=0.9731\tDELTA1.25^3=0.9797\n",
            "\n"
          ],
          "name": "stdout"
        },
        {
          "output_type": "stream",
          "text": [
            "100%|██████████| 27/27 [00:27<00:00,  1.00s/it, epoch=13, loss=(total:0.0509)]\n",
            "  0%|          | 0/27 [00:00<?, ?it/s]"
          ],
          "name": "stderr"
        },
        {
          "output_type": "stream",
          "text": [
            "eval_avg_error\n",
            "Epoch: 13, loss=(total:0.0509)\n",
            "======DEPTH=======\n",
            "MSE=0.0212\tRMSE=0.1405\tMAE=0.0486\tABS_REL=0.8307\n",
            "DELTA1.02=0.7987\tDELTA1.05=0.8828\tDELTA1.10=0.9256\n",
            "DELTA1.25=0.9537\tDELTA1.25^2=0.9691\tDELTA1.25^3=0.9761\n",
            "\n"
          ],
          "name": "stdout"
        },
        {
          "output_type": "stream",
          "text": [
            "100%|██████████| 27/27 [00:27<00:00,  1.00s/it, epoch=14, loss=(total:0.0470)]\n",
            "  0%|          | 0/27 [00:00<?, ?it/s]"
          ],
          "name": "stderr"
        },
        {
          "output_type": "stream",
          "text": [
            "eval_avg_error\n",
            "Epoch: 14, loss=(total:0.0470)\n",
            "======DEPTH=======\n",
            "MSE=0.0180\tRMSE=0.1316\tMAE=0.0461\tABS_REL=0.7437\n",
            "DELTA1.02=0.7888\tDELTA1.05=0.8856\tDELTA1.10=0.9281\n",
            "DELTA1.25=0.9596\tDELTA1.25^2=0.9737\tDELTA1.25^3=0.9804\n",
            "\n"
          ],
          "name": "stdout"
        },
        {
          "output_type": "stream",
          "text": [
            "100%|██████████| 27/27 [00:27<00:00,  1.03s/it, epoch=15, loss=(total:0.0543)]\n",
            "  0%|          | 0/27 [00:00<?, ?it/s]"
          ],
          "name": "stderr"
        },
        {
          "output_type": "stream",
          "text": [
            "eval_avg_error\n",
            "Epoch: 15, loss=(total:0.0543)\n",
            "======DEPTH=======\n",
            "MSE=0.0207\tRMSE=0.1399\tMAE=0.0497\tABS_REL=0.9608\n",
            "DELTA1.02=0.8051\tDELTA1.05=0.8863\tDELTA1.10=0.9244\n",
            "DELTA1.25=0.9524\tDELTA1.25^2=0.9664\tDELTA1.25^3=0.9741\n",
            "\n"
          ],
          "name": "stdout"
        },
        {
          "output_type": "stream",
          "text": [
            "100%|██████████| 27/27 [00:28<00:00,  1.06s/it, epoch=16, loss=(total:0.1156)]\n",
            "  0%|          | 0/27 [00:00<?, ?it/s]"
          ],
          "name": "stderr"
        },
        {
          "output_type": "stream",
          "text": [
            "eval_avg_error\n",
            "Epoch: 16, loss=(total:0.1156)\n",
            "======DEPTH=======\n",
            "MSE=0.0152\tRMSE=0.1228\tMAE=0.0432\tABS_REL=0.8663\n",
            "DELTA1.02=0.8053\tDELTA1.05=0.8953\tDELTA1.10=0.9343\n",
            "DELTA1.25=0.9601\tDELTA1.25^2=0.9733\tDELTA1.25^3=0.9799\n",
            "\n"
          ],
          "name": "stdout"
        },
        {
          "output_type": "stream",
          "text": [
            "100%|██████████| 27/27 [00:28<00:00,  1.04s/it, epoch=17, loss=(total:0.0736)]\n",
            "  0%|          | 0/27 [00:00<?, ?it/s]"
          ],
          "name": "stderr"
        },
        {
          "output_type": "stream",
          "text": [
            "eval_avg_error\n",
            "Epoch: 17, loss=(total:0.0736)\n",
            "======DEPTH=======\n",
            "MSE=0.0160\tRMSE=0.1244\tMAE=0.0426\tABS_REL=0.8064\n",
            "DELTA1.02=0.8140\tDELTA1.05=0.8948\tDELTA1.10=0.9352\n",
            "DELTA1.25=0.9595\tDELTA1.25^2=0.9740\tDELTA1.25^3=0.9802\n",
            "\n"
          ],
          "name": "stdout"
        },
        {
          "output_type": "stream",
          "text": [
            "100%|██████████| 27/27 [00:28<00:00,  1.04s/it, epoch=18, loss=(total:0.1556)]\n",
            "  0%|          | 0/27 [00:00<?, ?it/s]"
          ],
          "name": "stderr"
        },
        {
          "output_type": "stream",
          "text": [
            "eval_avg_error\n",
            "Epoch: 18, loss=(total:0.1556)\n",
            "======DEPTH=======\n",
            "MSE=0.0215\tRMSE=0.1407\tMAE=0.0503\tABS_REL=0.8018\n",
            "DELTA1.02=0.7969\tDELTA1.05=0.8830\tDELTA1.10=0.9208\n",
            "DELTA1.25=0.9520\tDELTA1.25^2=0.9701\tDELTA1.25^3=0.9774\n",
            "\n"
          ],
          "name": "stdout"
        },
        {
          "output_type": "stream",
          "text": [
            "100%|██████████| 27/27 [00:27<00:00,  1.03s/it, epoch=19, loss=(total:0.0442)]\n",
            "  0%|          | 0/27 [00:00<?, ?it/s]"
          ],
          "name": "stderr"
        },
        {
          "output_type": "stream",
          "text": [
            "eval_avg_error\n",
            "Epoch: 19, loss=(total:0.0442)\n",
            "======DEPTH=======\n",
            "MSE=0.0174\tRMSE=0.1297\tMAE=0.0466\tABS_REL=0.9070\n",
            "DELTA1.02=0.8035\tDELTA1.05=0.8966\tDELTA1.10=0.9319\n",
            "DELTA1.25=0.9572\tDELTA1.25^2=0.9705\tDELTA1.25^3=0.9777\n",
            "\n"
          ],
          "name": "stdout"
        },
        {
          "output_type": "stream",
          "text": [
            "100%|██████████| 27/27 [00:27<00:00,  1.01s/it, epoch=20, loss=(total:0.0750)]\n",
            "  0%|          | 0/27 [00:00<?, ?it/s]"
          ],
          "name": "stderr"
        },
        {
          "output_type": "stream",
          "text": [
            "eval_avg_error\n",
            "Epoch: 20, loss=(total:0.0750)\n",
            "======DEPTH=======\n",
            "MSE=0.0154\tRMSE=0.1234\tMAE=0.0409\tABS_REL=0.7830\n",
            "DELTA1.02=0.8343\tDELTA1.05=0.9106\tDELTA1.10=0.9431\n",
            "DELTA1.25=0.9638\tDELTA1.25^2=0.9751\tDELTA1.25^3=0.9810\n",
            "\n"
          ],
          "name": "stdout"
        },
        {
          "output_type": "stream",
          "text": [
            "100%|██████████| 27/27 [00:27<00:00,  1.04s/it, epoch=21, loss=(total:0.0637)]\n",
            "  0%|          | 0/27 [00:00<?, ?it/s]"
          ],
          "name": "stderr"
        },
        {
          "output_type": "stream",
          "text": [
            "eval_avg_error\n",
            "Epoch: 21, loss=(total:0.0637)\n",
            "======DEPTH=======\n",
            "MSE=0.0157\tRMSE=0.1238\tMAE=0.0427\tABS_REL=0.9549\n",
            "DELTA1.02=0.8237\tDELTA1.05=0.9030\tDELTA1.10=0.9368\n",
            "DELTA1.25=0.9613\tDELTA1.25^2=0.9734\tDELTA1.25^3=0.9797\n",
            "\n"
          ],
          "name": "stdout"
        },
        {
          "output_type": "stream",
          "text": [
            "100%|██████████| 27/27 [00:29<00:00,  1.09s/it, epoch=22, loss=(total:0.0677)]\n",
            "  0%|          | 0/27 [00:00<?, ?it/s]"
          ],
          "name": "stderr"
        },
        {
          "output_type": "stream",
          "text": [
            "eval_avg_error\n",
            "Epoch: 22, loss=(total:0.0677)\n",
            "======DEPTH=======\n",
            "MSE=0.0178\tRMSE=0.1300\tMAE=0.0456\tABS_REL=0.8916\n",
            "DELTA1.02=0.8139\tDELTA1.05=0.8950\tDELTA1.10=0.9259\n",
            "DELTA1.25=0.9564\tDELTA1.25^2=0.9695\tDELTA1.25^3=0.9761\n",
            "\n"
          ],
          "name": "stdout"
        },
        {
          "output_type": "stream",
          "text": [
            "100%|██████████| 27/27 [00:27<00:00,  1.01s/it, epoch=23, loss=(total:0.0570)]\n",
            "  0%|          | 0/27 [00:00<?, ?it/s]"
          ],
          "name": "stderr"
        },
        {
          "output_type": "stream",
          "text": [
            "eval_avg_error\n",
            "Epoch: 23, loss=(total:0.0570)\n",
            "======DEPTH=======\n",
            "MSE=0.0159\tRMSE=0.1250\tMAE=0.0416\tABS_REL=0.9231\n",
            "DELTA1.02=0.8297\tDELTA1.05=0.9038\tDELTA1.10=0.9375\n",
            "DELTA1.25=0.9592\tDELTA1.25^2=0.9728\tDELTA1.25^3=0.9792\n",
            "\n"
          ],
          "name": "stdout"
        },
        {
          "output_type": "stream",
          "text": [
            "100%|██████████| 27/27 [00:27<00:00,  1.01s/it, epoch=24, loss=(total:0.0613)]\n",
            "  0%|          | 0/27 [00:00<?, ?it/s]"
          ],
          "name": "stderr"
        },
        {
          "output_type": "stream",
          "text": [
            "eval_avg_error\n",
            "Epoch: 24, loss=(total:0.0613)\n",
            "======DEPTH=======\n",
            "MSE=0.0168\tRMSE=0.1285\tMAE=0.0435\tABS_REL=0.8777\n",
            "DELTA1.02=0.8302\tDELTA1.05=0.9028\tDELTA1.10=0.9366\n",
            "DELTA1.25=0.9590\tDELTA1.25^2=0.9740\tDELTA1.25^3=0.9800\n",
            "\n"
          ],
          "name": "stdout"
        },
        {
          "output_type": "stream",
          "text": [
            "100%|██████████| 27/27 [00:28<00:00,  1.04s/it, epoch=25, loss=(total:0.0767)]\n",
            "  0%|          | 0/27 [00:00<?, ?it/s]"
          ],
          "name": "stderr"
        },
        {
          "output_type": "stream",
          "text": [
            "eval_avg_error\n",
            "Epoch: 25, loss=(total:0.0767)\n",
            "======DEPTH=======\n",
            "MSE=0.0186\tRMSE=0.1306\tMAE=0.0439\tABS_REL=0.8778\n",
            "DELTA1.02=0.8352\tDELTA1.05=0.9076\tDELTA1.10=0.9389\n",
            "DELTA1.25=0.9614\tDELTA1.25^2=0.9734\tDELTA1.25^3=0.9795\n",
            "\n"
          ],
          "name": "stdout"
        },
        {
          "output_type": "stream",
          "text": [
            "100%|██████████| 27/27 [00:27<00:00,  1.03s/it, epoch=26, loss=(total:0.0563)]\n",
            "  0%|          | 0/27 [00:00<?, ?it/s]"
          ],
          "name": "stderr"
        },
        {
          "output_type": "stream",
          "text": [
            "eval_avg_error\n",
            "Epoch: 26, loss=(total:0.0563)\n",
            "======DEPTH=======\n",
            "MSE=0.0174\tRMSE=0.1295\tMAE=0.0431\tABS_REL=0.9071\n",
            "DELTA1.02=0.8397\tDELTA1.05=0.9129\tDELTA1.10=0.9424\n",
            "DELTA1.25=0.9620\tDELTA1.25^2=0.9730\tDELTA1.25^3=0.9790\n",
            "\n"
          ],
          "name": "stdout"
        },
        {
          "output_type": "stream",
          "text": [
            "100%|██████████| 27/27 [00:28<00:00,  1.07s/it, epoch=27, loss=(total:0.0761)]\n",
            "  0%|          | 0/27 [00:00<?, ?it/s]"
          ],
          "name": "stderr"
        },
        {
          "output_type": "stream",
          "text": [
            "eval_avg_error\n",
            "Epoch: 27, loss=(total:0.0761)\n",
            "======DEPTH=======\n",
            "MSE=0.0159\tRMSE=0.1229\tMAE=0.0410\tABS_REL=0.8017\n",
            "DELTA1.02=0.8246\tDELTA1.05=0.9085\tDELTA1.10=0.9420\n",
            "DELTA1.25=0.9613\tDELTA1.25^2=0.9724\tDELTA1.25^3=0.9786\n",
            "\n"
          ],
          "name": "stdout"
        },
        {
          "output_type": "stream",
          "text": [
            "100%|██████████| 27/27 [00:28<00:00,  1.04s/it, epoch=28, loss=(total:0.0453)]\n",
            "  0%|          | 0/27 [00:00<?, ?it/s]"
          ],
          "name": "stderr"
        },
        {
          "output_type": "stream",
          "text": [
            "eval_avg_error\n",
            "Epoch: 28, loss=(total:0.0453)\n",
            "======DEPTH=======\n",
            "MSE=0.0154\tRMSE=0.1225\tMAE=0.0407\tABS_REL=1.0998\n",
            "DELTA1.02=0.8382\tDELTA1.05=0.9121\tDELTA1.10=0.9431\n",
            "DELTA1.25=0.9624\tDELTA1.25^2=0.9733\tDELTA1.25^3=0.9793\n",
            "\n"
          ],
          "name": "stdout"
        },
        {
          "output_type": "stream",
          "text": [
            "100%|██████████| 27/27 [00:27<00:00,  1.03s/it, epoch=29, loss=(total:0.0812)]\n",
            "  0%|          | 0/27 [00:00<?, ?it/s]"
          ],
          "name": "stderr"
        },
        {
          "output_type": "stream",
          "text": [
            "eval_avg_error\n",
            "Epoch: 29, loss=(total:0.0812)\n",
            "======DEPTH=======\n",
            "MSE=0.0159\tRMSE=0.1219\tMAE=0.0407\tABS_REL=0.7330\n",
            "DELTA1.02=0.8412\tDELTA1.05=0.9101\tDELTA1.10=0.9400\n",
            "DELTA1.25=0.9593\tDELTA1.25^2=0.9724\tDELTA1.25^3=0.9787\n",
            "\n"
          ],
          "name": "stdout"
        },
        {
          "output_type": "stream",
          "text": [
            "100%|██████████| 27/27 [00:28<00:00,  1.07s/it, epoch=30, loss=(total:0.0623)]\n",
            "  0%|          | 0/27 [00:00<?, ?it/s]"
          ],
          "name": "stderr"
        },
        {
          "output_type": "stream",
          "text": [
            "eval_avg_error\n",
            "Epoch: 30, loss=(total:0.0623)\n",
            "======DEPTH=======\n",
            "MSE=0.0148\tRMSE=0.1192\tMAE=0.0384\tABS_REL=0.7248\n",
            "DELTA1.02=0.8470\tDELTA1.05=0.9153\tDELTA1.10=0.9452\n",
            "DELTA1.25=0.9642\tDELTA1.25^2=0.9751\tDELTA1.25^3=0.9810\n",
            "\n"
          ],
          "name": "stdout"
        },
        {
          "output_type": "stream",
          "text": [
            "100%|██████████| 27/27 [00:28<00:00,  1.04s/it, epoch=31, loss=(total:0.0509)]\n",
            "  0%|          | 0/27 [00:00<?, ?it/s]"
          ],
          "name": "stderr"
        },
        {
          "output_type": "stream",
          "text": [
            "eval_avg_error\n",
            "Epoch: 31, loss=(total:0.0509)\n",
            "======DEPTH=======\n",
            "MSE=0.0147\tRMSE=0.1204\tMAE=0.0395\tABS_REL=0.8295\n",
            "DELTA1.02=0.8357\tDELTA1.05=0.9126\tDELTA1.10=0.9431\n",
            "DELTA1.25=0.9617\tDELTA1.25^2=0.9739\tDELTA1.25^3=0.9803\n",
            "\n"
          ],
          "name": "stdout"
        },
        {
          "output_type": "stream",
          "text": [
            "100%|██████████| 27/27 [00:28<00:00,  1.04s/it, epoch=32, loss=(total:0.0625)]\n",
            "  0%|          | 0/27 [00:00<?, ?it/s]"
          ],
          "name": "stderr"
        },
        {
          "output_type": "stream",
          "text": [
            "eval_avg_error\n",
            "Epoch: 32, loss=(total:0.0625)\n",
            "======DEPTH=======\n",
            "MSE=0.0150\tRMSE=0.1213\tMAE=0.0401\tABS_REL=0.8574\n",
            "DELTA1.02=0.8390\tDELTA1.05=0.9090\tDELTA1.10=0.9428\n",
            "DELTA1.25=0.9625\tDELTA1.25^2=0.9739\tDELTA1.25^3=0.9801\n",
            "\n"
          ],
          "name": "stdout"
        },
        {
          "output_type": "stream",
          "text": [
            "100%|██████████| 27/27 [00:27<00:00,  1.03s/it, epoch=33, loss=(total:0.0597)]\n",
            "  0%|          | 0/27 [00:00<?, ?it/s]"
          ],
          "name": "stderr"
        },
        {
          "output_type": "stream",
          "text": [
            "eval_avg_error\n",
            "Epoch: 33, loss=(total:0.0597)\n",
            "======DEPTH=======\n",
            "MSE=0.0149\tRMSE=0.1211\tMAE=0.0408\tABS_REL=0.9513\n",
            "DELTA1.02=0.8321\tDELTA1.05=0.9060\tDELTA1.10=0.9378\n",
            "DELTA1.25=0.9592\tDELTA1.25^2=0.9708\tDELTA1.25^3=0.9775\n",
            "\n"
          ],
          "name": "stdout"
        },
        {
          "output_type": "stream",
          "text": [
            "100%|██████████| 27/27 [00:27<00:00,  1.02s/it, epoch=34, loss=(total:0.0477)]\n",
            "  0%|          | 0/27 [00:00<?, ?it/s]"
          ],
          "name": "stderr"
        },
        {
          "output_type": "stream",
          "text": [
            "eval_avg_error\n",
            "Epoch: 34, loss=(total:0.0477)\n",
            "======DEPTH=======\n",
            "MSE=0.0161\tRMSE=0.1248\tMAE=0.0418\tABS_REL=0.8283\n",
            "DELTA1.02=0.8319\tDELTA1.05=0.9093\tDELTA1.10=0.9401\n",
            "DELTA1.25=0.9606\tDELTA1.25^2=0.9747\tDELTA1.25^3=0.9808\n",
            "\n"
          ],
          "name": "stdout"
        },
        {
          "output_type": "stream",
          "text": [
            "100%|██████████| 27/27 [00:28<00:00,  1.06s/it, epoch=35, loss=(total:0.0590)]\n",
            "  0%|          | 0/27 [00:00<?, ?it/s]"
          ],
          "name": "stderr"
        },
        {
          "output_type": "stream",
          "text": [
            "eval_avg_error\n",
            "Epoch: 35, loss=(total:0.0590)\n",
            "======DEPTH=======\n",
            "MSE=0.0156\tRMSE=0.1216\tMAE=0.0400\tABS_REL=0.8418\n",
            "DELTA1.02=0.8470\tDELTA1.05=0.9130\tDELTA1.10=0.9425\n",
            "DELTA1.25=0.9623\tDELTA1.25^2=0.9744\tDELTA1.25^3=0.9806\n",
            "\n"
          ],
          "name": "stdout"
        },
        {
          "output_type": "stream",
          "text": [
            "100%|██████████| 27/27 [00:28<00:00,  1.04s/it, epoch=36, loss=(total:0.0596)]\n",
            "  0%|          | 0/27 [00:00<?, ?it/s]"
          ],
          "name": "stderr"
        },
        {
          "output_type": "stream",
          "text": [
            "eval_avg_error\n",
            "Epoch: 36, loss=(total:0.0596)\n",
            "======DEPTH=======\n",
            "MSE=0.0167\tRMSE=0.1269\tMAE=0.0419\tABS_REL=0.8926\n",
            "DELTA1.02=0.8336\tDELTA1.05=0.9128\tDELTA1.10=0.9432\n",
            "DELTA1.25=0.9611\tDELTA1.25^2=0.9724\tDELTA1.25^3=0.9785\n",
            "\n"
          ],
          "name": "stdout"
        },
        {
          "output_type": "stream",
          "text": [
            "100%|██████████| 27/27 [00:30<00:00,  1.11s/it, epoch=37, loss=(total:0.0548)]\n",
            "  0%|          | 0/27 [00:00<?, ?it/s]"
          ],
          "name": "stderr"
        },
        {
          "output_type": "stream",
          "text": [
            "eval_avg_error\n",
            "Epoch: 37, loss=(total:0.0548)\n",
            "======DEPTH=======\n",
            "MSE=0.0186\tRMSE=0.1321\tMAE=0.0446\tABS_REL=0.9050\n",
            "DELTA1.02=0.8450\tDELTA1.05=0.9083\tDELTA1.10=0.9378\n",
            "DELTA1.25=0.9589\tDELTA1.25^2=0.9709\tDELTA1.25^3=0.9773\n",
            "\n"
          ],
          "name": "stdout"
        },
        {
          "output_type": "stream",
          "text": [
            "100%|██████████| 27/27 [00:28<00:00,  1.06s/it, epoch=38, loss=(total:0.0450)]\n",
            "  0%|          | 0/27 [00:00<?, ?it/s]"
          ],
          "name": "stderr"
        },
        {
          "output_type": "stream",
          "text": [
            "eval_avg_error\n",
            "Epoch: 38, loss=(total:0.0450)\n",
            "======DEPTH=======\n",
            "MSE=0.0168\tRMSE=0.1271\tMAE=0.0424\tABS_REL=0.7632\n",
            "DELTA1.02=0.8216\tDELTA1.05=0.8998\tDELTA1.10=0.9370\n",
            "DELTA1.25=0.9574\tDELTA1.25^2=0.9734\tDELTA1.25^3=0.9798\n",
            "\n"
          ],
          "name": "stdout"
        },
        {
          "output_type": "stream",
          "text": [
            "100%|██████████| 27/27 [00:27<00:00,  1.00s/it, epoch=39, loss=(total:0.0511)]"
          ],
          "name": "stderr"
        },
        {
          "output_type": "stream",
          "text": [
            "eval_avg_error\n",
            "Epoch: 39, loss=(total:0.0511)\n",
            "======DEPTH=======\n",
            "MSE=0.0176\tRMSE=0.1260\tMAE=0.0414\tABS_REL=0.8464\n",
            "DELTA1.02=0.8442\tDELTA1.05=0.9165\tDELTA1.10=0.9454\n",
            "DELTA1.25=0.9637\tDELTA1.25^2=0.9746\tDELTA1.25^3=0.9805\n",
            "\n"
          ],
          "name": "stdout"
        },
        {
          "output_type": "stream",
          "text": [
            "\n"
          ],
          "name": "stderr"
        }
      ]
    },
    {
      "cell_type": "code",
      "metadata": {
        "colab": {
          "base_uri": "https://localhost:8080/"
        },
        "id": "AkAu2sRnbvDm",
        "outputId": "3eb01cee-b693-4780-bdbe-eb3dfbd43ef4"
      },
      "source": [
        "if LOAD_TEST_MODEL:\n",
        "    epoch_idx, model = load_checkpoint(model, CHECKPOINT_FILE, DEVICE)\n",
        "\n",
        "model.eval()\n",
        "run_test(model, test_dataloader, loss_fn, metric_fn)\n",
        "print_single_error(epoch_idx, loss_fn.show(), metric_fn.show())"
      ],
      "execution_count": 8,
      "outputs": [
        {
          "output_type": "stream",
          "text": [
            "100%|██████████| 14/14 [00:07<00:00,  1.82it/s]"
          ],
          "name": "stderr"
        },
        {
          "output_type": "stream",
          "text": [
            "eval_avg_error\n",
            "Epoch: 39, loss=(total:0.0614)\n",
            "======DEPTH=======\n",
            "MSE=0.0174\tRMSE=0.1272\tMAE=0.0397\tABS_REL=0.6965\n",
            "DELTA1.02=0.8482\tDELTA1.05=0.9187\tDELTA1.10=0.9469\n",
            "DELTA1.25=0.9644\tDELTA1.25^2=0.9751\tDELTA1.25^3=0.9811\n",
            "\n"
          ],
          "name": "stdout"
        },
        {
          "output_type": "stream",
          "text": [
            "\n"
          ],
          "name": "stderr"
        }
      ]
    },
    {
      "cell_type": "code",
      "metadata": {
        "colab": {
          "base_uri": "https://localhost:8080/",
          "height": 476
        },
        "id": "Q4rZ2bdIauXm",
        "outputId": "9c4fbadc-8bc0-4969-83d3-97b82a74fafb"
      },
      "source": [
        "if LOAD_TEST_MODEL:\n",
        "    epoch_idx, model = load_checkpoint(model, CHECKPOINT_FILE, DEVICE)\n",
        "\n",
        "model.eval()\n",
        "metric_fn = MetricFunction(BATCH_SIZE)\n",
        "images = LoadImages(IMAGES, transform=detect_transform)\n",
        "for img, predictions, path in generatePredictions(model, images):\n",
        "    plot_predictions([img], predictions, [path])\n",
        "    save_predictions(predictions, [path])"
      ],
      "execution_count": 9,
      "outputs": [
        {
          "output_type": "display_data",
          "data": {
            "image/png": "[encoded data removed]",
            "text/plain": [
              "<Figure size 432x288 with 2 Axes>"
            ]
          },
          "metadata": {
            "tags": [],
            "needs_background": "light"
          }
        },
        {
          "output_type": "display_data",
          "data": {
            "image/png": "[encoded data removed]",
            "text/plain": [
              "<Figure size 432x288 with 1 Axes>"
            ]
          },
          "metadata": {
            "tags": [],
            "needs_background": "light"
          }
        }
      ]
    },
    {
      "cell_type": "code",
      "metadata": {
        "id": "OyIyyXIbe-g1"
      },
      "source": [
        "output_dir = os.path.join(OUT_PATH, re.sub(\"[^0-9a-zA-Z]+\", \"-\", dt.now().isoformat()))\n",
        "\n",
        "save_checkpoint(epoch_idx, model, output_dir)"
      ],
      "execution_count": 10,
      "outputs": []
    }
  ]
}