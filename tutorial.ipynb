{
  "nbformat": 4,
  "nbformat_minor": 0,
  "metadata": {
    "colab": {
      "name": "Untitled4.ipynb",
      "provenance": [],
      "collapsed_sections": [],
      "authorship_tag": "ABX9TyPuieaNBF8c8oEpniACZkyH",
      "include_colab_link": true
    },
    "kernelspec": {
      "name": "python3",
      "display_name": "Python 3"
    },
    "language_info": {
      "name": "python"
    },
    "accelerator": "GPU",
    "widgets": {
      "application/vnd.jupyter.widget-state+json": {
        "3b26fac0c3b541f68446b9275618ed8f": {
          "model_module": "@jupyter-widgets/controls",
          "model_name": "HBoxModel",
          "state": {
            "_view_name": "HBoxView",
            "_dom_classes": [],
            "_model_name": "HBoxModel",
            "_view_module": "@jupyter-widgets/controls",
            "_model_module_version": "1.5.0",
            "_view_count": null,
            "_view_module_version": "1.5.0",
            "box_style": "",
            "layout": "IPY_MODEL_629974e65a0d4cc0bcaebf3cbc7c83b7",
            "_model_module": "@jupyter-widgets/controls",
            "children": [
              "IPY_MODEL_4946f9d150aa46209ac75967abd1080b",
              "IPY_MODEL_dc188c83af00463d91e797271096331f"
            ]
          }
        },
        "629974e65a0d4cc0bcaebf3cbc7c83b7": {
          "model_module": "@jupyter-widgets/base",
          "model_name": "LayoutModel",
          "state": {
            "_view_name": "LayoutView",
            "grid_template_rows": null,
            "right": null,
            "justify_content": null,
            "_view_module": "@jupyter-widgets/base",
            "overflow": null,
            "_model_module_version": "1.2.0",
            "_view_count": null,
            "flex_flow": null,
            "width": null,
            "min_width": null,
            "border": null,
            "align_items": null,
            "bottom": null,
            "_model_module": "@jupyter-widgets/base",
            "top": null,
            "grid_column": null,
            "overflow_y": null,
            "overflow_x": null,
            "grid_auto_flow": null,
            "grid_area": null,
            "grid_template_columns": null,
            "flex": null,
            "_model_name": "LayoutModel",
            "justify_items": null,
            "grid_row": null,
            "max_height": null,
            "align_content": null,
            "visibility": null,
            "align_self": null,
            "height": null,
            "min_height": null,
            "padding": null,
            "grid_auto_rows": null,
            "grid_gap": null,
            "max_width": null,
            "order": null,
            "_view_module_version": "1.2.0",
            "grid_template_areas": null,
            "object_position": null,
            "object_fit": null,
            "grid_auto_columns": null,
            "margin": null,
            "display": null,
            "left": null
          }
        },
        "4946f9d150aa46209ac75967abd1080b": {
          "model_module": "@jupyter-widgets/controls",
          "model_name": "FloatProgressModel",
          "state": {
            "_view_name": "ProgressView",
            "style": "IPY_MODEL_650738e3ed684d7784744033970e9e9f",
            "_dom_classes": [],
            "description": "100%",
            "_model_name": "FloatProgressModel",
            "bar_style": "success",
            "max": 87402532,
            "_view_module": "@jupyter-widgets/controls",
            "_model_module_version": "1.5.0",
            "value": 87402532,
            "_view_count": null,
            "_view_module_version": "1.5.0",
            "orientation": "horizontal",
            "min": 0,
            "description_tooltip": null,
            "_model_module": "@jupyter-widgets/controls",
            "layout": "IPY_MODEL_ba9fa0e8ab5b46fe9226ddf8ccbef516"
          }
        },
        "dc188c83af00463d91e797271096331f": {
          "model_module": "@jupyter-widgets/controls",
          "model_name": "HTMLModel",
          "state": {
            "_view_name": "HTMLView",
            "style": "IPY_MODEL_36d1c8ec7843481eb4b7547f4b43967f",
            "_dom_classes": [],
            "description": "",
            "_model_name": "HTMLModel",
            "placeholder": "​",
            "_view_module": "@jupyter-widgets/controls",
            "_model_module_version": "1.5.0",
            "value": " 83.4M/83.4M [00:01&lt;00:00, 67.7MB/s]",
            "_view_count": null,
            "_view_module_version": "1.5.0",
            "description_tooltip": null,
            "_model_module": "@jupyter-widgets/controls",
            "layout": "IPY_MODEL_8ca68afe10824751be17dae0e2d1f699"
          }
        },
        "650738e3ed684d7784744033970e9e9f": {
          "model_module": "@jupyter-widgets/controls",
          "model_name": "ProgressStyleModel",
          "state": {
            "_view_name": "StyleView",
            "_model_name": "ProgressStyleModel",
            "description_width": "initial",
            "_view_module": "@jupyter-widgets/base",
            "_model_module_version": "1.5.0",
            "_view_count": null,
            "_view_module_version": "1.2.0",
            "bar_color": null,
            "_model_module": "@jupyter-widgets/controls"
          }
        },
        "ba9fa0e8ab5b46fe9226ddf8ccbef516": {
          "model_module": "@jupyter-widgets/base",
          "model_name": "LayoutModel",
          "state": {
            "_view_name": "LayoutView",
            "grid_template_rows": null,
            "right": null,
            "justify_content": null,
            "_view_module": "@jupyter-widgets/base",
            "overflow": null,
            "_model_module_version": "1.2.0",
            "_view_count": null,
            "flex_flow": null,
            "width": null,
            "min_width": null,
            "border": null,
            "align_items": null,
            "bottom": null,
            "_model_module": "@jupyter-widgets/base",
            "top": null,
            "grid_column": null,
            "overflow_y": null,
            "overflow_x": null,
            "grid_auto_flow": null,
            "grid_area": null,
            "grid_template_columns": null,
            "flex": null,
            "_model_name": "LayoutModel",
            "justify_items": null,
            "grid_row": null,
            "max_height": null,
            "align_content": null,
            "visibility": null,
            "align_self": null,
            "height": null,
            "min_height": null,
            "padding": null,
            "grid_auto_rows": null,
            "grid_gap": null,
            "max_width": null,
            "order": null,
            "_view_module_version": "1.2.0",
            "grid_template_areas": null,
            "object_position": null,
            "object_fit": null,
            "grid_auto_columns": null,
            "margin": null,
            "display": null,
            "left": null
          }
        },
        "36d1c8ec7843481eb4b7547f4b43967f": {
          "model_module": "@jupyter-widgets/controls",
          "model_name": "DescriptionStyleModel",
          "state": {
            "_view_name": "StyleView",
            "_model_name": "DescriptionStyleModel",
            "description_width": "",
            "_view_module": "@jupyter-widgets/base",
            "_model_module_version": "1.5.0",
            "_view_count": null,
            "_view_module_version": "1.2.0",
            "_model_module": "@jupyter-widgets/controls"
          }
        },
        "8ca68afe10824751be17dae0e2d1f699": {
          "model_module": "@jupyter-widgets/base",
          "model_name": "LayoutModel",
          "state": {
            "_view_name": "LayoutView",
            "grid_template_rows": null,
            "right": null,
            "justify_content": null,
            "_view_module": "@jupyter-widgets/base",
            "overflow": null,
            "_model_module_version": "1.2.0",
            "_view_count": null,
            "flex_flow": null,
            "width": null,
            "min_width": null,
            "border": null,
            "align_items": null,
            "bottom": null,
            "_model_module": "@jupyter-widgets/base",
            "top": null,
            "grid_column": null,
            "overflow_y": null,
            "overflow_x": null,
            "grid_auto_flow": null,
            "grid_area": null,
            "grid_template_columns": null,
            "flex": null,
            "_model_name": "LayoutModel",
            "justify_items": null,
            "grid_row": null,
            "max_height": null,
            "align_content": null,
            "visibility": null,
            "align_self": null,
            "height": null,
            "min_height": null,
            "padding": null,
            "grid_auto_rows": null,
            "grid_gap": null,
            "max_width": null,
            "order": null,
            "_view_module_version": "1.2.0",
            "grid_template_areas": null,
            "object_position": null,
            "object_fit": null,
            "grid_auto_columns": null,
            "margin": null,
            "display": null,
            "left": null
          }
        }
      }
    }
  },
  "cells": [
    {
      "cell_type": "markdown",
      "metadata": {
        "id": "view-in-github",
        "colab_type": "text"
      },
      "source": [
        "<a href=\"https://colab.research.google.com/github/alexjercan/depth-estimation/blob/master/tutorial.ipynb\" target=\"_parent\"><img src=\"https://colab.research.google.com/assets/colab-badge.svg\" alt=\"Open In Colab\"/></a>"
      ]
    },
    {
      "cell_type": "code",
      "metadata": {
        "colab": {
          "base_uri": "https://localhost:8080/"
        },
        "id": "siz-VkAr2P8g",
        "outputId": "28dc865c-58a7-458c-bd97-8f504992a50f"
      },
      "source": [
        "!pip install matplotlib==3.3.3"
      ],
      "execution_count": 11,
      "outputs": [
        {
          "output_type": "stream",
          "text": [
            "Requirement already satisfied: matplotlib==3.3.3 in /usr/local/lib/python3.7/dist-packages (3.3.3)\n",
            "Requirement already satisfied: cycler>=0.10 in /usr/local/lib/python3.7/dist-packages (from matplotlib==3.3.3) (0.10.0)\n",
            "Requirement already satisfied: pyparsing!=2.0.4,!=2.1.2,!=2.1.6,>=2.0.3 in /usr/local/lib/python3.7/dist-packages (from matplotlib==3.3.3) (2.4.7)\n",
            "Requirement already satisfied: kiwisolver>=1.0.1 in /usr/local/lib/python3.7/dist-packages (from matplotlib==3.3.3) (1.3.1)\n",
            "Requirement already satisfied: python-dateutil>=2.1 in /usr/local/lib/python3.7/dist-packages (from matplotlib==3.3.3) (2.8.1)\n",
            "Requirement already satisfied: pillow>=6.2.0 in /usr/local/lib/python3.7/dist-packages (from matplotlib==3.3.3) (7.1.2)\n",
            "Requirement already satisfied: numpy>=1.15 in /usr/local/lib/python3.7/dist-packages (from matplotlib==3.3.3) (1.19.5)\n",
            "Requirement already satisfied: six in /usr/local/lib/python3.7/dist-packages (from cycler>=0.10->matplotlib==3.3.3) (1.15.0)\n"
          ],
          "name": "stdout"
        }
      ]
    },
    {
      "cell_type": "code",
      "metadata": {
        "colab": {
          "base_uri": "https://localhost:8080/"
        },
        "id": "Bgiit0eg0glA",
        "outputId": "ed0b7942-6421-4470-db36-7d82dbe02a9a"
      },
      "source": [
        "!git clone https://github.com/alexjercan/depth-estimation.git\n",
        "%cd depth-estimation\n",
        "\n",
        "import torch\n",
        "from IPython.display import clear_output\n",
        "\n",
        "clear_output()\n",
        "print('Setup complete. Using torch %s %s' % (torch.__version__, torch.cuda.get_device_properties(0) if torch.cuda.is_available() else 'CPU'))"
      ],
      "execution_count": null,
      "outputs": [
        {
          "output_type": "stream",
          "text": [
            "Setup complete. Using torch 1.8.1+cu101 _CudaDeviceProperties(name='Tesla T4', major=7, minor=5, total_memory=15109MB, multi_processor_count=40)\n"
          ],
          "name": "stdout"
        }
      ]
    },
    {
      "cell_type": "code",
      "metadata": {
        "colab": {
          "base_uri": "https://localhost:8080/",
          "height": 66,
          "referenced_widgets": [
            "3b26fac0c3b541f68446b9275618ed8f",
            "629974e65a0d4cc0bcaebf3cbc7c83b7",
            "4946f9d150aa46209ac75967abd1080b",
            "dc188c83af00463d91e797271096331f",
            "650738e3ed684d7784744033970e9e9f",
            "ba9fa0e8ab5b46fe9226ddf8ccbef516",
            "36d1c8ec7843481eb4b7547f4b43967f",
            "8ca68afe10824751be17dae0e2d1f699"
          ]
        },
        "id": "kSQMVSwG05lO",
        "outputId": "c4f9a3b8-5f02-4a58-cda9-399516865e76"
      },
      "source": [
        "# Download bdataset\n",
        "torch.hub.download_url_to_file('https://github.com/alexjercan/depth-estimation/releases/download/v1.0/bdataset_stereo.zip', 'tmp.zip')\n",
        "!unzip -q tmp.zip -d ../ && rm tmp.zip"
      ],
      "execution_count": null,
      "outputs": [
        {
          "output_type": "display_data",
          "data": {
            "application/vnd.jupyter.widget-view+json": {
              "model_id": "3b26fac0c3b541f68446b9275618ed8f",
              "version_minor": 0,
              "version_major": 2
            },
            "text/plain": [
              "HBox(children=(FloatProgress(value=0.0, max=87402532.0), HTML(value='')))"
            ]
          },
          "metadata": {
            "tags": []
          }
        },
        {
          "output_type": "stream",
          "text": [
            "\n"
          ],
          "name": "stdout"
        }
      ]
    },
    {
      "cell_type": "code",
      "metadata": {
        "id": "wCPfprXL1KIe"
      },
      "source": [
        "torch.hub.download_url_to_file('https://github.com/alexjercan/mesh-pose-reconstruction/releases/download/v1.0/normal.pth', 'normal.pth')"
      ],
      "execution_count": null,
      "outputs": []
    },
    {
      "cell_type": "code",
      "metadata": {
        "id": "Bn0aaWnu3OfX"
      },
      "source": [
        "from attr_dict import AttrDict\n",
        "\n",
        "config_train = AttrDict()\n",
        "\n",
        "config_train.DATASET_ROOT = \"../bdataset_stereo\"\n",
        "config_train.JSON_PATH = \"train.json\"\n",
        "config_train.BATCH_SIZE = 8\n",
        "config_train.IMAGE_SIZE = 256\n",
        "config_train.WORKERS = 8\n",
        "config_train.PIN_MEMORY = True\n",
        "config_train.SHUFFLE = True\n",
        "\n",
        "config_train.LEARNING_RATE = 0.01\n",
        "config_train.BETAS = [0.9, 0.999]\n",
        "config_train.EPS = 0.00000001\n",
        "config_train.WEIGHT_DECAY = 0.0001\n",
        "\n",
        "config_train.MILESTONES = [10,20,30]\n",
        "config_train.GAMMA = 0.2\n",
        "\n",
        "config_train.NUM_EPOCHS = 40\n",
        "config_train.TEST = False\n",
        "config_train.OUT_PATH =\"./runs\"\n",
        "config_train.LOAD_MODEL = False\n",
        "config_train.SAVE_MODEL = False\n",
        "config_train.CHECKPOINT_FILE = \"normal.pth\"\n",
        "\n",
        "config_test = AttrDict()\n",
        "\n",
        "config_test.DATASET_ROOT = \"../bdataset_stereo\"\n",
        "config_test.JSON_PATH = \"test.json\"\n",
        "config_test.BATCH_SIZE = 8\n",
        "config_test.IMAGE_SIZE = 256\n",
        "config_test.WORKERS = 8\n",
        "config_test.PIN_MEMORY = True\n",
        "config_test.SHUFFLE = False\n",
        "\n",
        "config_test.OUT_PATH = \"./runs\"\n",
        "config_test.LOAD_MODEL = True\n",
        "config_test.CHECKPOINT_FILE = \"normal.pth\"\n",
        "\n",
        "config_detect = AttrDict()\n",
        "\n",
        "config_detect.JSON = [{\"imageL\": \"data/left.png\", \"imageR\": \"data/right.png\", \"output\": \"data/output.exr\"}]\n",
        "config_detect.IMAGE_SIZE = 256\n",
        "config_detect.CHECKPOINT_FILE = \"normal.pth\""
      ],
      "execution_count": 17,
      "outputs": []
    },
    {
      "cell_type": "code",
      "metadata": {
        "id": "OqqSLt629xOl",
        "outputId": "133a2fb8-e85f-4638-836d-91d7366ba857",
        "colab": {
          "base_uri": "https://localhost:8080/"
        }
      },
      "source": [
        "from train import train\n",
        "train(config_train, config_test)"
      ],
      "execution_count": 18,
      "outputs": [
        {
          "output_type": "stream",
          "text": [
            "100%|██████████| 90/90 [01:17<00:00,  1.16it/s, epoch=0, item_losses=[0.35500026634997794, 0.18180585847132735], loss=0.537]\n",
            "100%|██████████| 90/90 [01:17<00:00,  1.17it/s, epoch=1, item_losses=[0.15078277612725893, 0.07775065878199207], loss=0.229]\n",
            "100%|██████████| 90/90 [01:16<00:00,  1.17it/s, epoch=2, item_losses=[0.09257847927510739, 0.039844555428458585], loss=0.132]\n",
            "100%|██████████| 90/90 [01:16<00:00,  1.18it/s, epoch=3, item_losses=[0.07402884566949473, 0.02680870696074433], loss=0.101]\n",
            "100%|██████████| 90/90 [01:16<00:00,  1.18it/s, epoch=4, item_losses=[0.06295442548063067, 0.02767604792283641], loss=0.0906]\n",
            "100%|██████████| 90/90 [01:16<00:00,  1.18it/s, epoch=5, item_losses=[0.04626250858936045, 0.02512174720565478], loss=0.0714]\n",
            "100%|██████████| 90/90 [01:16<00:00,  1.18it/s, epoch=6, item_losses=[0.04281666452685992, 0.026696911661161317], loss=0.0695]\n",
            "100%|██████████| 90/90 [01:15<00:00,  1.19it/s, epoch=7, item_losses=[0.0381622061961227, 0.0272405409357614], loss=0.0654]\n",
            "100%|██████████| 90/90 [01:15<00:00,  1.19it/s, epoch=8, item_losses=[0.032725460744566386, 0.025812540534469817], loss=0.0585]\n",
            "100%|██████████| 90/90 [01:15<00:00,  1.20it/s, epoch=9, item_losses=[0.036340173561539915, 0.0263811941155129], loss=0.0627]\n",
            "100%|██████████| 90/90 [01:15<00:00,  1.20it/s, epoch=10, item_losses=[0.02216201024129987, 0.020179200410428973], loss=0.0423]\n",
            "100%|██████████| 90/90 [01:15<00:00,  1.20it/s, epoch=11, item_losses=[0.01861855185901125, 0.01828854639704029], loss=0.0369]\n",
            "100%|██████████| 90/90 [01:15<00:00,  1.19it/s, epoch=12, item_losses=[0.016667682739595572, 0.018210104697694383], loss=0.0349]\n",
            "100%|██████████| 90/90 [01:15<00:00,  1.20it/s, epoch=13, item_losses=[0.016490384170578586, 0.018251445868776903], loss=0.0347]\n",
            "100%|██████████| 90/90 [01:15<00:00,  1.20it/s, epoch=14, item_losses=[0.015372790758394532, 0.018138078693300485], loss=0.0335]\n",
            "100%|██████████| 90/90 [01:15<00:00,  1.20it/s, epoch=15, item_losses=[0.014698105491697788, 0.018447948350674575], loss=0.0331]\n",
            "100%|██████████| 90/90 [01:15<00:00,  1.19it/s, epoch=16, item_losses=[0.014129639675633774, 0.018181634911646444], loss=0.0323]\n",
            "100%|██████████| 90/90 [01:15<00:00,  1.19it/s, epoch=17, item_losses=[0.01359981158748269, 0.017825425333446925], loss=0.0314]\n",
            "100%|██████████| 90/90 [01:15<00:00,  1.19it/s, epoch=18, item_losses=[0.013564529559678502, 0.017775515570408768], loss=0.0313]\n",
            "100%|██████████| 90/90 [01:15<00:00,  1.19it/s, epoch=19, item_losses=[0.014255947681764762, 0.01804580455645919], loss=0.0323]\n",
            "100%|██████████| 90/90 [01:15<00:00,  1.19it/s, epoch=20, item_losses=[0.011852444625563091, 0.01794963353830907], loss=0.0298]\n",
            "100%|██████████| 90/90 [01:15<00:00,  1.19it/s, epoch=21, item_losses=[0.011166651588347223, 0.017484749739782677], loss=0.0287]\n",
            "100%|██████████| 90/90 [01:15<00:00,  1.19it/s, epoch=22, item_losses=[0.010720533774130875, 0.016865778621286152], loss=0.0276]\n",
            "100%|██████████| 90/90 [01:15<00:00,  1.19it/s, epoch=23, item_losses=[0.0103627300200363, 0.016384498961269856], loss=0.0267]\n",
            "100%|██████████| 90/90 [01:14<00:00,  1.20it/s, epoch=24, item_losses=[0.010021459394031101, 0.015926798650374014], loss=0.0259]\n",
            "100%|██████████| 90/90 [01:14<00:00,  1.20it/s, epoch=25, item_losses=[0.009976816311892536, 0.015989296200374762], loss=0.026]\n",
            "100%|██████████| 90/90 [01:15<00:00,  1.20it/s, epoch=26, item_losses=[0.0098619161070221, 0.01588873928412795], loss=0.0258]\n",
            "100%|██████████| 90/90 [01:14<00:00,  1.20it/s, epoch=27, item_losses=[0.009586269108371601, 0.015907873761736684], loss=0.0255]\n",
            "100%|██████████| 90/90 [01:14<00:00,  1.20it/s, epoch=28, item_losses=[0.009503073359115256, 0.015904059892313346], loss=0.0254]\n",
            "100%|██████████| 90/90 [01:14<00:00,  1.20it/s, epoch=29, item_losses=[0.009762763697654008, 0.01579338089666433], loss=0.0256]\n",
            "100%|██████████| 90/90 [01:14<00:00,  1.20it/s, epoch=30, item_losses=[0.008682388289728098, 0.015397526603192092], loss=0.0241]\n",
            "100%|██████████| 90/90 [01:14<00:00,  1.20it/s, epoch=31, item_losses=[0.008701877285622888, 0.015335436134288708], loss=0.024]\n",
            "100%|██████████| 90/90 [01:15<00:00,  1.20it/s, epoch=32, item_losses=[0.008563229638255305, 0.015332366567518976], loss=0.0239]\n",
            "100%|██████████| 90/90 [01:15<00:00,  1.20it/s, epoch=33, item_losses=[0.008674469171091914, 0.015163107257750299], loss=0.0238]\n",
            "100%|██████████| 90/90 [01:15<00:00,  1.20it/s, epoch=34, item_losses=[0.008586149781735407, 0.015152891021635797], loss=0.0237]\n",
            "100%|██████████| 90/90 [01:15<00:00,  1.20it/s, epoch=35, item_losses=[0.00832123498742779, 0.015214040740910503], loss=0.0235]\n",
            "100%|██████████| 90/90 [01:15<00:00,  1.20it/s, epoch=36, item_losses=[0.008366989908326003, 0.01515179049844543], loss=0.0235]\n",
            "100%|██████████| 90/90 [01:15<00:00,  1.20it/s, epoch=37, item_losses=[0.0083073900339918, 0.01515043302335673], loss=0.0235]\n",
            "100%|██████████| 90/90 [01:15<00:00,  1.20it/s, epoch=38, item_losses=[0.008417893159720633, 0.015167225172950162], loss=0.0236]\n",
            "100%|██████████| 90/90 [01:15<00:00,  1.20it/s, epoch=39, item_losses=[0.00832506403223508, 0.015097146708932188], loss=0.0234]\n",
            "100%|██████████| 45/45 [00:12<00:00,  3.59it/s, item_losses=[0.008220328400946325, 0.015698300757341913], loss=0.0239]\n"
          ],
          "name": "stderr"
        }
      ]
    },
    {
      "cell_type": "code",
      "metadata": {
        "id": "N5p16UFd3FpN",
        "outputId": "a3cb9079-8f0e-4a97-bba7-c6a8a15154d9",
        "colab": {
          "base_uri": "https://localhost:8080/"
        }
      },
      "source": [
        "from test import test\n",
        "test(config=config_test)"
      ],
      "execution_count": 14,
      "outputs": [
        {
          "output_type": "stream",
          "text": [
            "100%|██████████| 45/45 [00:12<00:00,  3.58it/s, item_losses=[0.006106264123486148, 0.013292967652281126], loss=0.0194]\n"
          ],
          "name": "stderr"
        }
      ]
    },
    {
      "cell_type": "code",
      "metadata": {
        "id": "_LQXgZbw32a2",
        "outputId": "296756a2-9f2c-4eee-d85b-f8e29035596d",
        "colab": {
          "base_uri": "https://localhost:8080/",
          "height": 269
        }
      },
      "source": [
        "from detect import detect\n",
        "detect(config=config_detect)"
      ],
      "execution_count": 19,
      "outputs": [
        {
          "output_type": "display_data",
          "data": {
            "image/png": "[encoded data removed]",
            "text/plain": [
              "<Figure size 432x288 with 1 Axes>"
            ]
          },
          "metadata": {
            "tags": [],
            "needs_background": "light"
          }
        }
      ]
    },
    {
      "cell_type": "code",
      "metadata": {
        "id": "kYeXOXtJvhb9",
        "outputId": "3f377e62-49d1-43f3-b54e-7e6e37d3eeaa",
        "colab": {
          "base_uri": "https://localhost:8080/"
        }
      },
      "source": [
        "!git pull\n",
        "!python model.py"
      ],
      "execution_count": 20,
      "outputs": [
        {
          "output_type": "stream",
          "text": [
            "remote: Enumerating objects: 7, done.\u001b[K\n",
            "remote: Counting objects:  14% (1/7)\u001b[K\rremote: Counting objects:  28% (2/7)\u001b[K\rremote: Counting objects:  42% (3/7)\u001b[K\rremote: Counting objects:  57% (4/7)\u001b[K\rremote: Counting objects:  71% (5/7)\u001b[K\rremote: Counting objects:  85% (6/7)\u001b[K\rremote: Counting objects: 100% (7/7)\u001b[K\rremote: Counting objects: 100% (7/7), done.\u001b[K\n",
            "remote: Compressing objects: 100% (1/1)\u001b[K\rremote: Compressing objects: 100% (1/1), done.\u001b[K\n",
            "remote: Total 4 (delta 3), reused 4 (delta 3), pack-reused 0\u001b[K\n",
            "Unpacking objects:  25% (1/4)   \rUnpacking objects:  50% (2/4)   \rUnpacking objects:  75% (3/4)   \rUnpacking objects: 100% (4/4)   \rUnpacking objects: 100% (4/4), done.\n",
            "From https://github.com/alexjercan/depth-estimation\n",
            "   07600c4..6d79e44  master     -> origin/master\n",
            "Updating 07600c4..6d79e44\n",
            "Fast-forward\n",
            " model.py   | 36 \u001b[32m+++++++++++++++++\u001b[m\u001b[31m-------------------\u001b[m\n",
            " train.yaml |  2 \u001b[32m+\u001b[m\u001b[31m-\u001b[m\n",
            " 2 files changed, 18 insertions(+), 20 deletions(-)\n",
            "model ok\n"
          ],
          "name": "stdout"
        }
      ]
    }
  ]
}