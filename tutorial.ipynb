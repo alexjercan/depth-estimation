{
  "nbformat": 4,
  "nbformat_minor": 0,
  "metadata": {
    "colab": {
      "name": "Untitled4.ipynb",
      "provenance": [],
      "collapsed_sections": [],
      "authorship_tag": "ABX9TyNUr2OsfqoNIA505gTvYa1I",
      "include_colab_link": true
    },
    "kernelspec": {
      "name": "python3",
      "display_name": "Python 3"
    },
    "language_info": {
      "name": "python"
    },
    "accelerator": "GPU",
    "widgets": {
      "application/vnd.jupyter.widget-state+json": {
        "1dac3e278d8048f3a3df8ebb7212006b": {
          "model_module": "@jupyter-widgets/controls",
          "model_name": "HBoxModel",
          "state": {
            "_view_name": "HBoxView",
            "_dom_classes": [],
            "_model_name": "HBoxModel",
            "_view_module": "@jupyter-widgets/controls",
            "_model_module_version": "1.5.0",
            "_view_count": null,
            "_view_module_version": "1.5.0",
            "box_style": "",
            "layout": "IPY_MODEL_66791f0331d8472da0a924757e801053",
            "_model_module": "@jupyter-widgets/controls",
            "children": [
              "IPY_MODEL_fe509e0da274497da3a0e49819754f24",
              "IPY_MODEL_d511ea9e7c3343939d0c375227dfad69"
            ]
          }
        },
        "66791f0331d8472da0a924757e801053": {
          "model_module": "@jupyter-widgets/base",
          "model_name": "LayoutModel",
          "state": {
            "_view_name": "LayoutView",
            "grid_template_rows": null,
            "right": null,
            "justify_content": null,
            "_view_module": "@jupyter-widgets/base",
            "overflow": null,
            "_model_module_version": "1.2.0",
            "_view_count": null,
            "flex_flow": null,
            "width": null,
            "min_width": null,
            "border": null,
            "align_items": null,
            "bottom": null,
            "_model_module": "@jupyter-widgets/base",
            "top": null,
            "grid_column": null,
            "overflow_y": null,
            "overflow_x": null,
            "grid_auto_flow": null,
            "grid_area": null,
            "grid_template_columns": null,
            "flex": null,
            "_model_name": "LayoutModel",
            "justify_items": null,
            "grid_row": null,
            "max_height": null,
            "align_content": null,
            "visibility": null,
            "align_self": null,
            "height": null,
            "min_height": null,
            "padding": null,
            "grid_auto_rows": null,
            "grid_gap": null,
            "max_width": null,
            "order": null,
            "_view_module_version": "1.2.0",
            "grid_template_areas": null,
            "object_position": null,
            "object_fit": null,
            "grid_auto_columns": null,
            "margin": null,
            "display": null,
            "left": null
          }
        },
        "fe509e0da274497da3a0e49819754f24": {
          "model_module": "@jupyter-widgets/controls",
          "model_name": "FloatProgressModel",
          "state": {
            "_view_name": "ProgressView",
            "style": "IPY_MODEL_316ccd46f87d43f08835814170415c64",
            "_dom_classes": [],
            "description": "100%",
            "_model_name": "FloatProgressModel",
            "bar_style": "success",
            "max": 116262275,
            "_view_module": "@jupyter-widgets/controls",
            "_model_module_version": "1.5.0",
            "value": 116262275,
            "_view_count": null,
            "_view_module_version": "1.5.0",
            "orientation": "horizontal",
            "min": 0,
            "description_tooltip": null,
            "_model_module": "@jupyter-widgets/controls",
            "layout": "IPY_MODEL_238259cd8d0647f2a71030e89a61fef8"
          }
        },
        "d511ea9e7c3343939d0c375227dfad69": {
          "model_module": "@jupyter-widgets/controls",
          "model_name": "HTMLModel",
          "state": {
            "_view_name": "HTMLView",
            "style": "IPY_MODEL_b7b021dbf6fe41b79c15d2508d325454",
            "_dom_classes": [],
            "description": "",
            "_model_name": "HTMLModel",
            "placeholder": "​",
            "_view_module": "@jupyter-widgets/controls",
            "_model_module_version": "1.5.0",
            "value": " 111M/111M [00:03&lt;00:00, 31.5MB/s]",
            "_view_count": null,
            "_view_module_version": "1.5.0",
            "description_tooltip": null,
            "_model_module": "@jupyter-widgets/controls",
            "layout": "IPY_MODEL_1c93baf061c342fe9c3cd9ded4d2b6db"
          }
        },
        "316ccd46f87d43f08835814170415c64": {
          "model_module": "@jupyter-widgets/controls",
          "model_name": "ProgressStyleModel",
          "state": {
            "_view_name": "StyleView",
            "_model_name": "ProgressStyleModel",
            "description_width": "initial",
            "_view_module": "@jupyter-widgets/base",
            "_model_module_version": "1.5.0",
            "_view_count": null,
            "_view_module_version": "1.2.0",
            "bar_color": null,
            "_model_module": "@jupyter-widgets/controls"
          }
        },
        "238259cd8d0647f2a71030e89a61fef8": {
          "model_module": "@jupyter-widgets/base",
          "model_name": "LayoutModel",
          "state": {
            "_view_name": "LayoutView",
            "grid_template_rows": null,
            "right": null,
            "justify_content": null,
            "_view_module": "@jupyter-widgets/base",
            "overflow": null,
            "_model_module_version": "1.2.0",
            "_view_count": null,
            "flex_flow": null,
            "width": null,
            "min_width": null,
            "border": null,
            "align_items": null,
            "bottom": null,
            "_model_module": "@jupyter-widgets/base",
            "top": null,
            "grid_column": null,
            "overflow_y": null,
            "overflow_x": null,
            "grid_auto_flow": null,
            "grid_area": null,
            "grid_template_columns": null,
            "flex": null,
            "_model_name": "LayoutModel",
            "justify_items": null,
            "grid_row": null,
            "max_height": null,
            "align_content": null,
            "visibility": null,
            "align_self": null,
            "height": null,
            "min_height": null,
            "padding": null,
            "grid_auto_rows": null,
            "grid_gap": null,
            "max_width": null,
            "order": null,
            "_view_module_version": "1.2.0",
            "grid_template_areas": null,
            "object_position": null,
            "object_fit": null,
            "grid_auto_columns": null,
            "margin": null,
            "display": null,
            "left": null
          }
        },
        "b7b021dbf6fe41b79c15d2508d325454": {
          "model_module": "@jupyter-widgets/controls",
          "model_name": "DescriptionStyleModel",
          "state": {
            "_view_name": "StyleView",
            "_model_name": "DescriptionStyleModel",
            "description_width": "",
            "_view_module": "@jupyter-widgets/base",
            "_model_module_version": "1.5.0",
            "_view_count": null,
            "_view_module_version": "1.2.0",
            "_model_module": "@jupyter-widgets/controls"
          }
        },
        "1c93baf061c342fe9c3cd9ded4d2b6db": {
          "model_module": "@jupyter-widgets/base",
          "model_name": "LayoutModel",
          "state": {
            "_view_name": "LayoutView",
            "grid_template_rows": null,
            "right": null,
            "justify_content": null,
            "_view_module": "@jupyter-widgets/base",
            "overflow": null,
            "_model_module_version": "1.2.0",
            "_view_count": null,
            "flex_flow": null,
            "width": null,
            "min_width": null,
            "border": null,
            "align_items": null,
            "bottom": null,
            "_model_module": "@jupyter-widgets/base",
            "top": null,
            "grid_column": null,
            "overflow_y": null,
            "overflow_x": null,
            "grid_auto_flow": null,
            "grid_area": null,
            "grid_template_columns": null,
            "flex": null,
            "_model_name": "LayoutModel",
            "justify_items": null,
            "grid_row": null,
            "max_height": null,
            "align_content": null,
            "visibility": null,
            "align_self": null,
            "height": null,
            "min_height": null,
            "padding": null,
            "grid_auto_rows": null,
            "grid_gap": null,
            "max_width": null,
            "order": null,
            "_view_module_version": "1.2.0",
            "grid_template_areas": null,
            "object_position": null,
            "object_fit": null,
            "grid_auto_columns": null,
            "margin": null,
            "display": null,
            "left": null
          }
        }
      }
    }
  },
  "cells": [
    {
      "cell_type": "markdown",
      "metadata": {
        "id": "view-in-github",
        "colab_type": "text"
      },
      "source": [
        "<a href=\"https://colab.research.google.com/github/alexjercan/depth-estimation/blob/master/tutorial.ipynb\" target=\"_parent\"><img src=\"https://colab.research.google.com/assets/colab-badge.svg\" alt=\"Open In Colab\"/></a>"
      ]
    },
    {
      "cell_type": "code",
      "metadata": {
        "colab": {
          "base_uri": "https://localhost:8080/",
          "height": 390
        },
        "id": "siz-VkAr2P8g",
        "outputId": "75efe8b5-757d-4e4e-ac28-068c89064ab4"
      },
      "source": [
        "!pip install matplotlib==3.3.3"
      ],
      "execution_count": 1,
      "outputs": [
        {
          "output_type": "stream",
          "text": [
            "Collecting matplotlib==3.3.3\n",
            "\u001b[?25l  Downloading https://files.pythonhosted.org/packages/30/f2/10c822cb0ca5ebec58bd1892187bc3e3db64a867ac26531c6204663fc218/matplotlib-3.3.3-cp37-cp37m-manylinux1_x86_64.whl (11.6MB)\n",
            "\u001b[K     |████████████████████████████████| 11.6MB 26.5MB/s \n",
            "\u001b[?25hRequirement already satisfied: cycler>=0.10 in /usr/local/lib/python3.7/dist-packages (from matplotlib==3.3.3) (0.10.0)\n",
            "Requirement already satisfied: python-dateutil>=2.1 in /usr/local/lib/python3.7/dist-packages (from matplotlib==3.3.3) (2.8.1)\n",
            "Requirement already satisfied: numpy>=1.15 in /usr/local/lib/python3.7/dist-packages (from matplotlib==3.3.3) (1.19.5)\n",
            "Requirement already satisfied: pyparsing!=2.0.4,!=2.1.2,!=2.1.6,>=2.0.3 in /usr/local/lib/python3.7/dist-packages (from matplotlib==3.3.3) (2.4.7)\n",
            "Requirement already satisfied: kiwisolver>=1.0.1 in /usr/local/lib/python3.7/dist-packages (from matplotlib==3.3.3) (1.3.1)\n",
            "Requirement already satisfied: pillow>=6.2.0 in /usr/local/lib/python3.7/dist-packages (from matplotlib==3.3.3) (7.1.2)\n",
            "Requirement already satisfied: six in /usr/local/lib/python3.7/dist-packages (from cycler>=0.10->matplotlib==3.3.3) (1.15.0)\n",
            "\u001b[31mERROR: albumentations 0.1.12 has requirement imgaug<0.2.7,>=0.2.5, but you'll have imgaug 0.2.9 which is incompatible.\u001b[0m\n",
            "Installing collected packages: matplotlib\n",
            "  Found existing installation: matplotlib 3.2.2\n",
            "    Uninstalling matplotlib-3.2.2:\n",
            "      Successfully uninstalled matplotlib-3.2.2\n",
            "Successfully installed matplotlib-3.3.3\n"
          ],
          "name": "stdout"
        },
        {
          "output_type": "display_data",
          "data": {
            "application/vnd.colab-display-data+json": {
              "pip_warning": {
                "packages": [
                  "matplotlib",
                  "mpl_toolkits"
                ]
              }
            }
          },
          "metadata": {
            "tags": []
          }
        }
      ]
    },
    {
      "cell_type": "code",
      "metadata": {
        "colab": {
          "base_uri": "https://localhost:8080/"
        },
        "id": "Bgiit0eg0glA",
        "outputId": "4f7248df-cfc2-452f-dd67-743b8af9e8d6"
      },
      "source": [
        "!git clone https://github.com/alexjercan/depth-estimation.git\n",
        "%cd depth-estimation\n",
        "\n",
        "import torch\n",
        "from IPython.display import clear_output\n",
        "\n",
        "clear_output()\n",
        "print('Setup complete. Using torch %s %s' % (torch.__version__, torch.cuda.get_device_properties(0) if torch.cuda.is_available() else 'CPU'))"
      ],
      "execution_count": 1,
      "outputs": [
        {
          "output_type": "stream",
          "text": [
            "Setup complete. Using torch 1.8.1+cu101 _CudaDeviceProperties(name='Tesla T4', major=7, minor=5, total_memory=15109MB, multi_processor_count=40)\n"
          ],
          "name": "stdout"
        }
      ]
    },
    {
      "cell_type": "code",
      "metadata": {
        "colab": {
          "base_uri": "https://localhost:8080/",
          "height": 66,
          "referenced_widgets": [
            "1dac3e278d8048f3a3df8ebb7212006b",
            "66791f0331d8472da0a924757e801053",
            "fe509e0da274497da3a0e49819754f24",
            "d511ea9e7c3343939d0c375227dfad69",
            "316ccd46f87d43f08835814170415c64",
            "238259cd8d0647f2a71030e89a61fef8",
            "b7b021dbf6fe41b79c15d2508d325454",
            "1c93baf061c342fe9c3cd9ded4d2b6db"
          ]
        },
        "id": "kSQMVSwG05lO",
        "outputId": "59c247c0-5183-45b2-ade9-71f286701a89"
      },
      "source": [
        "# Download bdataset\n",
        "torch.hub.download_url_to_file('https://github.com/alexjercan/depth-estimation/releases/download/v1.0/bdataset_stereo.zip', 'tmp.zip')\n",
        "!unzip -q tmp.zip -d ../ && rm tmp.zip"
      ],
      "execution_count": 2,
      "outputs": [
        {
          "output_type": "display_data",
          "data": {
            "application/vnd.jupyter.widget-view+json": {
              "model_id": "1dac3e278d8048f3a3df8ebb7212006b",
              "version_minor": 0,
              "version_major": 2
            },
            "text/plain": [
              "HBox(children=(FloatProgress(value=0.0, max=116262275.0), HTML(value='')))"
            ]
          },
          "metadata": {
            "tags": []
          }
        },
        {
          "output_type": "stream",
          "text": [
            "\n"
          ],
          "name": "stdout"
        }
      ]
    },
    {
      "cell_type": "code",
      "metadata": {
        "id": "wCPfprXL1KIe"
      },
      "source": [
        "torch.hub.download_url_to_file('https://github.com/alexjercan/mesh-pose-reconstruction/releases/download/v1.0/normal.pth', 'normal.pth')"
      ],
      "execution_count": null,
      "outputs": []
    },
    {
      "cell_type": "code",
      "metadata": {
        "id": "Bn0aaWnu3OfX"
      },
      "source": [
        "from attr_dict import AttrDict\n",
        "\n",
        "config_train = AttrDict()\n",
        "\n",
        "config_train.DATASET_ROOT = \"../bdataset_stereo\"\n",
        "config_train.JSON_PATH = \"train.json\"\n",
        "config_train.BATCH_SIZE = 8\n",
        "config_train.IMAGE_SIZE = 256\n",
        "config_train.WORKERS = 8\n",
        "config_train.PIN_MEMORY = True\n",
        "config_train.SHUFFLE = True\n",
        "\n",
        "config_train.LEARNING_RATE = 0.01\n",
        "config_train.BETAS = [0.9, 0.999]\n",
        "config_train.EPS = 0.00000001\n",
        "config_train.WEIGHT_DECAY = 0.0001\n",
        "\n",
        "config_train.MILESTONES = [10,20,30]\n",
        "config_train.GAMMA = 0.2\n",
        "\n",
        "config_train.NUM_EPOCHS = 40\n",
        "config_train.TEST = True\n",
        "config_train.OUT_PATH =\"./runs\"\n",
        "config_train.LOAD_MODEL = False\n",
        "config_train.SAVE_MODEL = False\n",
        "config_train.CHECKPOINT_FILE = \"normal.pth\"\n",
        "\n",
        "config_test = AttrDict()\n",
        "\n",
        "config_test.DATASET_ROOT = \"../bdataset_stereo\"\n",
        "config_test.JSON_PATH = \"test.json\"\n",
        "config_test.BATCH_SIZE = 8\n",
        "config_test.IMAGE_SIZE = 256\n",
        "config_test.WORKERS = 8\n",
        "config_test.PIN_MEMORY = True\n",
        "config_test.SHUFFLE = False\n",
        "\n",
        "config_test.OUT_PATH = \"./runs\"\n",
        "config_test.LOAD_MODEL = True\n",
        "config_test.CHECKPOINT_FILE = \"normal.pth\"\n",
        "\n",
        "config_detect = AttrDict()\n",
        "\n",
        "config_detect.JSON = [{\"imageL\": \"data/left.png\", \"imageR\": \"data/right.png\", \"output\": \"data/output.exr\"}]\n",
        "config_detect.IMAGE_SIZE = 256\n",
        "config_detect.CHECKPOINT_FILE = \"normal.pth\""
      ],
      "execution_count": 8,
      "outputs": []
    },
    {
      "cell_type": "code",
      "metadata": {
        "id": "OqqSLt629xOl",
        "colab": {
          "base_uri": "https://localhost:8080/"
        },
        "outputId": "251162a1-c846-46dc-c56c-d132a2cb87cd"
      },
      "source": [
        "from train import train\n",
        "train(config_train, config_test)"
      ],
      "execution_count": 9,
      "outputs": [
        {
          "output_type": "stream",
          "text": [
            "100%|██████████| 27/27 [00:12<00:00,  2.21it/s, epoch=0, loss=(total:0.8084 depth:0.4874 normal:0.3210)]\n",
            "100%|██████████| 14/14 [00:02<00:00,  5.36it/s, loss=(total:76.8657 depth:69.9858 normal:6.8799)]\n",
            "  0%|          | 0/27 [00:00<?, ?it/s]"
          ],
          "name": "stderr"
        },
        {
          "output_type": "stream",
          "text": [
            "eval_avg_error ===>\n",
            "                  Epoch: 0, step: 0, loss=(total:76.8657 depth:69.9858 normal:6.8799)\n",
            "                  MSE=21715.0410\tRMSE=135.7527\tMAE=69.7663\tABS_REL=152.8776\n",
            "                  DELTA1.02=0.8235\tDELTA1.05=0.8327\tDELTA1.10=0.8479\n",
            "                  DELTA1.25=0.8725\tDELTA1.25^2=0.9127\tDELTA1.25^3=0.9547\n",
            "\n"
          ],
          "name": "stdout"
        },
        {
          "output_type": "stream",
          "text": [
            "100%|██████████| 27/27 [00:12<00:00,  2.16it/s, epoch=1, loss=(total:0.6150 depth:0.3820 normal:0.2331)]\n",
            "100%|██████████| 14/14 [00:02<00:00,  5.21it/s, loss=(total:0.3251 depth:0.2208 normal:0.1043)]\n",
            "  0%|          | 0/27 [00:00<?, ?it/s]"
          ],
          "name": "stderr"
        },
        {
          "output_type": "stream",
          "text": [
            "eval_avg_error ===>\n",
            "                  Epoch: 0, step: 0, loss=(total:0.3251 depth:0.2208 normal:0.1043)\n",
            "                  MSE=0.1046\tRMSE=0.3117\tMAE=0.2191\tABS_REL=0.5074\n",
            "                  DELTA1.02=0.0086\tDELTA1.05=0.0317\tDELTA1.10=0.6199\n",
            "                  DELTA1.25=0.7022\tDELTA1.25^2=0.7175\tDELTA1.25^3=0.7594\n",
            "\n"
          ],
          "name": "stdout"
        },
        {
          "output_type": "stream",
          "text": [
            "100%|██████████| 27/27 [00:12<00:00,  2.16it/s, epoch=2, loss=(total:0.5250 depth:0.3370 normal:0.1881)]\n",
            "100%|██████████| 14/14 [00:02<00:00,  5.15it/s, loss=(total:0.2990 depth:0.2132 normal:0.0858)]\n",
            "  0%|          | 0/27 [00:00<?, ?it/s]"
          ],
          "name": "stderr"
        },
        {
          "output_type": "stream",
          "text": [
            "eval_avg_error ===>\n",
            "                  Epoch: 0, step: 0, loss=(total:0.2990 depth:0.2132 normal:0.0858)\n",
            "                  MSE=0.0920\tRMSE=0.2995\tMAE=0.2109\tABS_REL=0.5025\n",
            "                  DELTA1.02=0.0375\tDELTA1.05=0.0918\tDELTA1.10=0.6873\n",
            "                  DELTA1.25=0.7002\tDELTA1.25^2=0.7082\tDELTA1.25^3=0.7436\n",
            "\n"
          ],
          "name": "stdout"
        },
        {
          "output_type": "stream",
          "text": [
            "100%|██████████| 27/27 [00:12<00:00,  2.16it/s, epoch=3, loss=(total:0.4771 depth:0.3125 normal:0.1646)]\n",
            "100%|██████████| 14/14 [00:02<00:00,  5.22it/s, loss=(total:0.3062 depth:0.2068 normal:0.0994)]\n",
            "  0%|          | 0/27 [00:00<?, ?it/s]"
          ],
          "name": "stderr"
        },
        {
          "output_type": "stream",
          "text": [
            "eval_avg_error ===>\n",
            "                  Epoch: 0, step: 0, loss=(total:0.3062 depth:0.2068 normal:0.0994)\n",
            "                  MSE=0.0658\tRMSE=0.2565\tMAE=0.2073\tABS_REL=0.2753\n",
            "                  DELTA1.02=0.0140\tDELTA1.05=0.0375\tDELTA1.10=0.1292\n",
            "                  DELTA1.25=0.5060\tDELTA1.25^2=0.8006\tDELTA1.25^3=0.9134\n",
            "\n"
          ],
          "name": "stdout"
        },
        {
          "output_type": "stream",
          "text": [
            "100%|██████████| 27/27 [00:12<00:00,  2.19it/s, epoch=4, loss=(total:0.4333 depth:0.2834 normal:0.1499)]\n",
            "100%|██████████| 14/14 [00:02<00:00,  5.13it/s, loss=(total:0.2053 depth:0.1139 normal:0.0914)]\n",
            "  0%|          | 0/27 [00:00<?, ?it/s]"
          ],
          "name": "stderr"
        },
        {
          "output_type": "stream",
          "text": [
            "eval_avg_error ===>\n",
            "                  Epoch: 0, step: 0, loss=(total:0.2053 depth:0.1139 normal:0.0914)\n",
            "                  MSE=0.0467\tRMSE=0.2142\tMAE=0.1126\tABS_REL=0.2845\n",
            "                  DELTA1.02=0.5536\tDELTA1.05=0.6480\tDELTA1.10=0.6861\n",
            "                  DELTA1.25=0.7390\tDELTA1.25^2=0.8048\tDELTA1.25^3=0.8726\n",
            "\n"
          ],
          "name": "stdout"
        },
        {
          "output_type": "stream",
          "text": [
            "100%|██████████| 27/27 [00:12<00:00,  2.20it/s, epoch=5, loss=(total:0.3964 depth:0.2572 normal:0.1392)]\n",
            "100%|██████████| 14/14 [00:02<00:00,  5.30it/s, loss=(total:0.2616 depth:0.1818 normal:0.0798)]\n",
            "  0%|          | 0/27 [00:00<?, ?it/s]"
          ],
          "name": "stderr"
        },
        {
          "output_type": "stream",
          "text": [
            "eval_avg_error ===>\n",
            "                  Epoch: 0, step: 0, loss=(total:0.2616 depth:0.1818 normal:0.0798)\n",
            "                  MSE=0.0642\tRMSE=0.2519\tMAE=0.1801\tABS_REL=0.4074\n",
            "                  DELTA1.02=0.0005\tDELTA1.05=0.0018\tDELTA1.10=0.6795\n",
            "                  DELTA1.25=0.7125\tDELTA1.25^2=0.7372\tDELTA1.25^3=0.8034\n",
            "\n"
          ],
          "name": "stdout"
        },
        {
          "output_type": "stream",
          "text": [
            "100%|██████████| 27/27 [00:12<00:00,  2.18it/s, epoch=6, loss=(total:0.3715 depth:0.2379 normal:0.1336)]\n",
            "100%|██████████| 14/14 [00:02<00:00,  5.24it/s, loss=(total:0.2265 depth:0.1425 normal:0.0840)]\n",
            "  0%|          | 0/27 [00:00<?, ?it/s]"
          ],
          "name": "stderr"
        },
        {
          "output_type": "stream",
          "text": [
            "eval_avg_error ===>\n",
            "                  Epoch: 0, step: 0, loss=(total:0.2265 depth:0.1425 normal:0.0840)\n",
            "                  MSE=0.0668\tRMSE=0.2560\tMAE=0.1401\tABS_REL=0.3693\n",
            "                  DELTA1.02=0.6209\tDELTA1.05=0.6939\tDELTA1.10=0.7024\n",
            "                  DELTA1.25=0.7138\tDELTA1.25^2=0.7413\tDELTA1.25^3=0.8049\n",
            "\n"
          ],
          "name": "stdout"
        },
        {
          "output_type": "stream",
          "text": [
            "100%|██████████| 27/27 [00:12<00:00,  2.17it/s, epoch=7, loss=(total:0.3509 depth:0.2221 normal:0.1289)]\n",
            "100%|██████████| 14/14 [00:02<00:00,  5.24it/s, loss=(total:0.1944 depth:0.1084 normal:0.0860)]\n",
            "  0%|          | 0/27 [00:00<?, ?it/s]"
          ],
          "name": "stderr"
        },
        {
          "output_type": "stream",
          "text": [
            "eval_avg_error ===>\n",
            "                  Epoch: 0, step: 0, loss=(total:0.1944 depth:0.1084 normal:0.0860)\n",
            "                  MSE=0.0308\tRMSE=0.1750\tMAE=0.1079\tABS_REL=0.2171\n",
            "                  DELTA1.02=0.0484\tDELTA1.05=0.2897\tDELTA1.10=0.7059\n",
            "                  DELTA1.25=0.7736\tDELTA1.25^2=0.8644\tDELTA1.25^3=0.9299\n",
            "\n"
          ],
          "name": "stdout"
        },
        {
          "output_type": "stream",
          "text": [
            "100%|██████████| 27/27 [00:12<00:00,  2.16it/s, epoch=8, loss=(total:0.3319 depth:0.2081 normal:0.1239)]\n",
            "100%|██████████| 14/14 [00:02<00:00,  5.24it/s, loss=(total:0.3568 depth:0.2699 normal:0.0868)]\n",
            "  0%|          | 0/27 [00:00<?, ?it/s]"
          ],
          "name": "stderr"
        },
        {
          "output_type": "stream",
          "text": [
            "eval_avg_error ===>\n",
            "                  Epoch: 0, step: 0, loss=(total:0.3568 depth:0.2699 normal:0.0868)\n",
            "                  MSE=0.1452\tRMSE=0.3751\tMAE=0.2669\tABS_REL=0.6292\n",
            "                  DELTA1.02=0.0044\tDELTA1.05=0.0218\tDELTA1.10=0.2004\n",
            "                  DELTA1.25=0.7072\tDELTA1.25^2=0.7107\tDELTA1.25^3=0.7249\n",
            "\n"
          ],
          "name": "stdout"
        },
        {
          "output_type": "stream",
          "text": [
            "100%|██████████| 27/27 [00:12<00:00,  2.18it/s, epoch=9, loss=(total:0.3193 depth:0.1999 normal:0.1194)]\n",
            "100%|██████████| 14/14 [00:02<00:00,  5.16it/s, loss=(total:0.3278 depth:0.2472 normal:0.0806)]\n",
            "  0%|          | 0/27 [00:00<?, ?it/s]"
          ],
          "name": "stderr"
        },
        {
          "output_type": "stream",
          "text": [
            "eval_avg_error ===>\n",
            "                  Epoch: 0, step: 0, loss=(total:0.3278 depth:0.2472 normal:0.0806)\n",
            "                  MSE=0.2455\tRMSE=0.4581\tMAE=0.2445\tABS_REL=0.4067\n",
            "                  DELTA1.02=0.0109\tDELTA1.05=0.0270\tDELTA1.10=0.0765\n",
            "                  DELTA1.25=0.6336\tDELTA1.25^2=0.7560\tDELTA1.25^3=0.8410\n",
            "\n"
          ],
          "name": "stdout"
        },
        {
          "output_type": "stream",
          "text": [
            "100%|██████████| 27/27 [00:12<00:00,  2.19it/s, epoch=10, loss=(total:0.3049 depth:0.1896 normal:0.1153)]\n",
            "100%|██████████| 14/14 [00:02<00:00,  5.35it/s, loss=(total:0.1603 depth:0.0804 normal:0.0799)]\n",
            "  0%|          | 0/27 [00:00<?, ?it/s]"
          ],
          "name": "stderr"
        },
        {
          "output_type": "stream",
          "text": [
            "eval_avg_error ===>\n",
            "                  Epoch: 0, step: 0, loss=(total:0.1603 depth:0.0804 normal:0.0799)\n",
            "                  MSE=0.0254\tRMSE=0.1589\tMAE=0.0798\tABS_REL=0.1769\n",
            "                  DELTA1.02=0.1149\tDELTA1.05=0.6973\tDELTA1.10=0.7395\n",
            "                  DELTA1.25=0.8175\tDELTA1.25^2=0.8953\tDELTA1.25^3=0.9337\n",
            "\n"
          ],
          "name": "stdout"
        },
        {
          "output_type": "stream",
          "text": [
            "100%|██████████| 27/27 [00:12<00:00,  2.18it/s, epoch=11, loss=(total:0.2910 depth:0.1794 normal:0.1116)]\n",
            "100%|██████████| 14/14 [00:02<00:00,  5.19it/s, loss=(total:1.2952 depth:1.2158 normal:0.0794)]\n",
            "  0%|          | 0/27 [00:00<?, ?it/s]"
          ],
          "name": "stderr"
        },
        {
          "output_type": "stream",
          "text": [
            "eval_avg_error ===>\n",
            "                  Epoch: 0, step: 0, loss=(total:1.2952 depth:1.2158 normal:0.0794)\n",
            "                  MSE=3.4371\tRMSE=1.8214\tMAE=1.2173\tABS_REL=1.9931\n",
            "                  DELTA1.02=0.0724\tDELTA1.05=0.1233\tDELTA1.10=0.1720\n",
            "                  DELTA1.25=0.2604\tDELTA1.25^2=0.3623\tDELTA1.25^3=0.4520\n",
            "\n"
          ],
          "name": "stdout"
        },
        {
          "output_type": "stream",
          "text": [
            "100%|██████████| 27/27 [00:12<00:00,  2.18it/s, epoch=12, loss=(total:0.2797 depth:0.1711 normal:0.1086)]\n",
            "100%|██████████| 14/14 [00:02<00:00,  5.15it/s, loss=(total:0.1622 depth:0.0872 normal:0.0750)]\n",
            "  0%|          | 0/27 [00:00<?, ?it/s]"
          ],
          "name": "stderr"
        },
        {
          "output_type": "stream",
          "text": [
            "eval_avg_error ===>\n",
            "                  Epoch: 0, step: 0, loss=(total:0.1622 depth:0.0872 normal:0.0750)\n",
            "                  MSE=0.0365\tRMSE=0.1900\tMAE=0.0863\tABS_REL=0.2244\n",
            "                  DELTA1.02=0.6945\tDELTA1.05=0.7158\tDELTA1.10=0.7434\n",
            "                  DELTA1.25=0.7956\tDELTA1.25^2=0.8532\tDELTA1.25^3=0.9017\n",
            "\n"
          ],
          "name": "stdout"
        },
        {
          "output_type": "stream",
          "text": [
            "100%|██████████| 27/27 [00:12<00:00,  2.18it/s, epoch=13, loss=(total:0.2690 depth:0.1631 normal:0.1059)]\n",
            "100%|██████████| 14/14 [00:02<00:00,  5.16it/s, loss=(total:0.1347 depth:0.0600 normal:0.0748)]\n",
            "  0%|          | 0/27 [00:00<?, ?it/s]"
          ],
          "name": "stderr"
        },
        {
          "output_type": "stream",
          "text": [
            "eval_avg_error ===>\n",
            "                  Epoch: 0, step: 0, loss=(total:0.1347 depth:0.0600 normal:0.0748)\n",
            "                  MSE=0.0187\tRMSE=0.1365\tMAE=0.0595\tABS_REL=0.1339\n",
            "                  DELTA1.02=0.6794\tDELTA1.05=0.7090\tDELTA1.10=0.7516\n",
            "                  DELTA1.25=0.8429\tDELTA1.25^2=0.9252\tDELTA1.25^3=0.9545\n",
            "\n"
          ],
          "name": "stdout"
        },
        {
          "output_type": "stream",
          "text": [
            "100%|██████████| 27/27 [00:12<00:00,  2.17it/s, epoch=14, loss=(total:0.2601 depth:0.1563 normal:0.1037)]\n",
            "100%|██████████| 14/14 [00:02<00:00,  5.10it/s, loss=(total:0.1440 depth:0.0636 normal:0.0804)]\n",
            "  0%|          | 0/27 [00:00<?, ?it/s]"
          ],
          "name": "stderr"
        },
        {
          "output_type": "stream",
          "text": [
            "eval_avg_error ===>\n",
            "                  Epoch: 0, step: 0, loss=(total:0.1440 depth:0.0636 normal:0.0804)\n",
            "                  MSE=0.0250\tRMSE=0.1578\tMAE=0.0631\tABS_REL=0.1608\n",
            "                  DELTA1.02=0.6964\tDELTA1.05=0.7234\tDELTA1.10=0.7561\n",
            "                  DELTA1.25=0.8305\tDELTA1.25^2=0.8997\tDELTA1.25^3=0.9338\n",
            "\n"
          ],
          "name": "stdout"
        },
        {
          "output_type": "stream",
          "text": [
            "100%|██████████| 27/27 [00:12<00:00,  2.17it/s, epoch=15, loss=(total:0.2522 depth:0.1504 normal:0.1018)]\n",
            "100%|██████████| 14/14 [00:02<00:00,  5.24it/s, loss=(total:0.1321 depth:0.0560 normal:0.0761)]\n",
            "  0%|          | 0/27 [00:00<?, ?it/s]"
          ],
          "name": "stderr"
        },
        {
          "output_type": "stream",
          "text": [
            "eval_avg_error ===>\n",
            "                  Epoch: 0, step: 0, loss=(total:0.1321 depth:0.0560 normal:0.0761)\n",
            "                  MSE=0.0157\tRMSE=0.1250\tMAE=0.0556\tABS_REL=0.1231\n",
            "                  DELTA1.02=0.6642\tDELTA1.05=0.7066\tDELTA1.10=0.7574\n",
            "                  DELTA1.25=0.8506\tDELTA1.25^2=0.9333\tDELTA1.25^3=0.9636\n",
            "\n"
          ],
          "name": "stdout"
        },
        {
          "output_type": "stream",
          "text": [
            "100%|██████████| 27/27 [00:12<00:00,  2.18it/s, epoch=16, loss=(total:0.2450 depth:0.1449 normal:0.1002)]\n",
            "100%|██████████| 14/14 [00:02<00:00,  5.33it/s, loss=(total:0.1334 depth:0.0573 normal:0.0761)]\n",
            "  0%|          | 0/27 [00:00<?, ?it/s]"
          ],
          "name": "stderr"
        },
        {
          "output_type": "stream",
          "text": [
            "eval_avg_error ===>\n",
            "                  Epoch: 0, step: 0, loss=(total:0.1334 depth:0.0573 normal:0.0761)\n",
            "                  MSE=0.0163\tRMSE=0.1274\tMAE=0.0568\tABS_REL=0.1252\n",
            "                  DELTA1.02=0.6730\tDELTA1.05=0.7108\tDELTA1.10=0.7594\n",
            "                  DELTA1.25=0.8500\tDELTA1.25^2=0.9306\tDELTA1.25^3=0.9606\n",
            "\n"
          ],
          "name": "stdout"
        },
        {
          "output_type": "stream",
          "text": [
            "100%|██████████| 27/27 [00:12<00:00,  2.17it/s, epoch=17, loss=(total:0.2385 depth:0.1400 normal:0.0986)]\n",
            "100%|██████████| 14/14 [00:02<00:00,  5.22it/s, loss=(total:0.1414 depth:0.0639 normal:0.0776)]\n",
            "  0%|          | 0/27 [00:00<?, ?it/s]"
          ],
          "name": "stderr"
        },
        {
          "output_type": "stream",
          "text": [
            "eval_avg_error ===>\n",
            "                  Epoch: 0, step: 0, loss=(total:0.1414 depth:0.0639 normal:0.0776)\n",
            "                  MSE=0.0173\tRMSE=0.1316\tMAE=0.0637\tABS_REL=0.1298\n",
            "                  DELTA1.02=0.5465\tDELTA1.05=0.6839\tDELTA1.10=0.7460\n",
            "                  DELTA1.25=0.8460\tDELTA1.25^2=0.9325\tDELTA1.25^3=0.9627\n",
            "\n"
          ],
          "name": "stdout"
        },
        {
          "output_type": "stream",
          "text": [
            "100%|██████████| 27/27 [00:12<00:00,  2.18it/s, epoch=18, loss=(total:0.2328 depth:0.1356 normal:0.0972)]\n",
            "100%|██████████| 14/14 [00:02<00:00,  5.33it/s, loss=(total:0.1354 depth:0.0547 normal:0.0807)]\n",
            "  0%|          | 0/27 [00:00<?, ?it/s]"
          ],
          "name": "stderr"
        },
        {
          "output_type": "stream",
          "text": [
            "eval_avg_error ===>\n",
            "                  Epoch: 0, step: 0, loss=(total:0.1354 depth:0.0547 normal:0.0807)\n",
            "                  MSE=0.0207\tRMSE=0.1415\tMAE=0.0544\tABS_REL=0.1178\n",
            "                  DELTA1.02=0.6380\tDELTA1.05=0.6909\tDELTA1.10=0.7501\n",
            "                  DELTA1.25=0.8511\tDELTA1.25^2=0.9388\tDELTA1.25^3=0.9666\n",
            "\n"
          ],
          "name": "stdout"
        },
        {
          "output_type": "stream",
          "text": [
            "100%|██████████| 27/27 [00:12<00:00,  2.17it/s, epoch=19, loss=(total:0.2278 depth:0.1317 normal:0.0961)]\n",
            "100%|██████████| 14/14 [00:02<00:00,  5.29it/s, loss=(total:0.1353 depth:0.0592 normal:0.0761)]\n",
            "  0%|          | 0/27 [00:00<?, ?it/s]"
          ],
          "name": "stderr"
        },
        {
          "output_type": "stream",
          "text": [
            "eval_avg_error ===>\n",
            "                  Epoch: 0, step: 0, loss=(total:0.1353 depth:0.0592 normal:0.0761)\n",
            "                  MSE=0.0143\tRMSE=0.1195\tMAE=0.0587\tABS_REL=0.1213\n",
            "                  DELTA1.02=0.4333\tDELTA1.05=0.7018\tDELTA1.10=0.7560\n",
            "                  DELTA1.25=0.8533\tDELTA1.25^2=0.9383\tDELTA1.25^3=0.9683\n",
            "\n"
          ],
          "name": "stdout"
        },
        {
          "output_type": "stream",
          "text": [
            "100%|██████████| 27/27 [00:12<00:00,  2.17it/s, epoch=20, loss=(total:0.2227 depth:0.1279 normal:0.0948)]\n",
            "100%|██████████| 14/14 [00:02<00:00,  5.28it/s, loss=(total:0.1198 depth:0.0432 normal:0.0766)]\n",
            "  0%|          | 0/27 [00:00<?, ?it/s]"
          ],
          "name": "stderr"
        },
        {
          "output_type": "stream",
          "text": [
            "eval_avg_error ===>\n",
            "                  Epoch: 0, step: 0, loss=(total:0.1198 depth:0.0432 normal:0.0766)\n",
            "                  MSE=0.0116\tRMSE=0.1074\tMAE=0.0428\tABS_REL=0.0997\n",
            "                  DELTA1.02=0.6756\tDELTA1.05=0.7172\tDELTA1.10=0.7684\n",
            "                  DELTA1.25=0.8630\tDELTA1.25^2=0.9490\tDELTA1.25^3=0.9750\n",
            "\n"
          ],
          "name": "stdout"
        },
        {
          "output_type": "stream",
          "text": [
            "100%|██████████| 27/27 [00:12<00:00,  2.17it/s, epoch=21, loss=(total:0.2179 depth:0.1242 normal:0.0937)]\n",
            "100%|██████████| 14/14 [00:02<00:00,  5.08it/s, loss=(total:0.1160 depth:0.0424 normal:0.0736)]\n",
            "  0%|          | 0/27 [00:00<?, ?it/s]"
          ],
          "name": "stderr"
        },
        {
          "output_type": "stream",
          "text": [
            "eval_avg_error ===>\n",
            "                  Epoch: 0, step: 0, loss=(total:0.1160 depth:0.0424 normal:0.0736)\n",
            "                  MSE=0.0112\tRMSE=0.1056\tMAE=0.0420\tABS_REL=0.0960\n",
            "                  DELTA1.02=0.6646\tDELTA1.05=0.7126\tDELTA1.10=0.7691\n",
            "                  DELTA1.25=0.8677\tDELTA1.25^2=0.9509\tDELTA1.25^3=0.9761\n",
            "\n"
          ],
          "name": "stdout"
        },
        {
          "output_type": "stream",
          "text": [
            "100%|██████████| 27/27 [00:12<00:00,  2.17it/s, epoch=22, loss=(total:0.2133 depth:0.1207 normal:0.0926)]\n",
            "100%|██████████| 14/14 [00:02<00:00,  5.11it/s, loss=(total:0.1170 depth:0.0434 normal:0.0736)]\n",
            "  0%|          | 0/27 [00:00<?, ?it/s]"
          ],
          "name": "stderr"
        },
        {
          "output_type": "stream",
          "text": [
            "eval_avg_error ===>\n",
            "                  Epoch: 0, step: 0, loss=(total:0.1170 depth:0.0434 normal:0.0736)\n",
            "                  MSE=0.0106\tRMSE=0.1026\tMAE=0.0430\tABS_REL=0.0952\n",
            "                  DELTA1.02=0.6828\tDELTA1.05=0.7274\tDELTA1.10=0.7816\n",
            "                  DELTA1.25=0.8794\tDELTA1.25^2=0.9543\tDELTA1.25^3=0.9774\n",
            "\n"
          ],
          "name": "stdout"
        },
        {
          "output_type": "stream",
          "text": [
            "100%|██████████| 27/27 [00:12<00:00,  2.18it/s, epoch=23, loss=(total:0.2091 depth:0.1174 normal:0.0917)]\n",
            "100%|██████████| 14/14 [00:02<00:00,  5.24it/s, loss=(total:0.1183 depth:0.0429 normal:0.0753)]\n",
            "  0%|          | 0/27 [00:00<?, ?it/s]"
          ],
          "name": "stderr"
        },
        {
          "output_type": "stream",
          "text": [
            "eval_avg_error ===>\n",
            "                  Epoch: 0, step: 0, loss=(total:0.1183 depth:0.0429 normal:0.0753)\n",
            "                  MSE=0.0109\tRMSE=0.1042\tMAE=0.0425\tABS_REL=0.0949\n",
            "                  DELTA1.02=0.6797\tDELTA1.05=0.7239\tDELTA1.10=0.7784\n",
            "                  DELTA1.25=0.8774\tDELTA1.25^2=0.9524\tDELTA1.25^3=0.9766\n",
            "\n"
          ],
          "name": "stdout"
        },
        {
          "output_type": "stream",
          "text": [
            "100%|██████████| 27/27 [00:12<00:00,  2.18it/s, epoch=24, loss=(total:0.2053 depth:0.1145 normal:0.0908)]\n",
            "100%|██████████| 14/14 [00:02<00:00,  5.20it/s, loss=(total:0.1198 depth:0.0457 normal:0.0741)]\n",
            "  0%|          | 0/27 [00:00<?, ?it/s]"
          ],
          "name": "stderr"
        },
        {
          "output_type": "stream",
          "text": [
            "eval_avg_error ===>\n",
            "                  Epoch: 0, step: 0, loss=(total:0.1198 depth:0.0457 normal:0.0741)\n",
            "                  MSE=0.0104\tRMSE=0.1018\tMAE=0.0454\tABS_REL=0.0947\n",
            "                  DELTA1.02=0.6788\tDELTA1.05=0.7259\tDELTA1.10=0.7826\n",
            "                  DELTA1.25=0.8836\tDELTA1.25^2=0.9554\tDELTA1.25^3=0.9779\n",
            "\n"
          ],
          "name": "stdout"
        },
        {
          "output_type": "stream",
          "text": [
            "100%|██████████| 27/27 [00:12<00:00,  2.18it/s, epoch=25, loss=(total:0.2017 depth:0.1118 normal:0.0899)]\n",
            "100%|██████████| 14/14 [00:02<00:00,  5.26it/s, loss=(total:0.1114 depth:0.0381 normal:0.0734)]\n",
            "  0%|          | 0/27 [00:00<?, ?it/s]"
          ],
          "name": "stderr"
        },
        {
          "output_type": "stream",
          "text": [
            "eval_avg_error ===>\n",
            "                  Epoch: 0, step: 0, loss=(total:0.1114 depth:0.0381 normal:0.0734)\n",
            "                  MSE=0.0101\tRMSE=0.1003\tMAE=0.0377\tABS_REL=0.0862\n",
            "                  DELTA1.02=0.6827\tDELTA1.05=0.7289\tDELTA1.10=0.7855\n",
            "                  DELTA1.25=0.8847\tDELTA1.25^2=0.9579\tDELTA1.25^3=0.9787\n",
            "\n"
          ],
          "name": "stdout"
        },
        {
          "output_type": "stream",
          "text": [
            "100%|██████████| 27/27 [00:12<00:00,  2.17it/s, epoch=26, loss=(total:0.1983 depth:0.1091 normal:0.0892)]\n",
            "100%|██████████| 14/14 [00:02<00:00,  5.16it/s, loss=(total:0.1151 depth:0.0411 normal:0.0740)]\n",
            "  0%|          | 0/27 [00:00<?, ?it/s]"
          ],
          "name": "stderr"
        },
        {
          "output_type": "stream",
          "text": [
            "eval_avg_error ===>\n",
            "                  Epoch: 0, step: 0, loss=(total:0.1151 depth:0.0411 normal:0.0740)\n",
            "                  MSE=0.0095\tRMSE=0.0972\tMAE=0.0408\tABS_REL=0.0842\n",
            "                  DELTA1.02=0.6848\tDELTA1.05=0.7283\tDELTA1.10=0.7845\n",
            "                  DELTA1.25=0.8890\tDELTA1.25^2=0.9615\tDELTA1.25^3=0.9812\n",
            "\n"
          ],
          "name": "stdout"
        },
        {
          "output_type": "stream",
          "text": [
            "100%|██████████| 27/27 [00:12<00:00,  2.17it/s, epoch=27, loss=(total:0.1951 depth:0.1066 normal:0.0884)]\n",
            "100%|██████████| 14/14 [00:02<00:00,  5.19it/s, loss=(total:0.1121 depth:0.0384 normal:0.0737)]\n",
            "  0%|          | 0/27 [00:00<?, ?it/s]"
          ],
          "name": "stderr"
        },
        {
          "output_type": "stream",
          "text": [
            "eval_avg_error ===>\n",
            "                  Epoch: 0, step: 0, loss=(total:0.1121 depth:0.0384 normal:0.0737)\n",
            "                  MSE=0.0093\tRMSE=0.0962\tMAE=0.0381\tABS_REL=0.0791\n",
            "                  DELTA1.02=0.6805\tDELTA1.05=0.7295\tDELTA1.10=0.7903\n",
            "                  DELTA1.25=0.8947\tDELTA1.25^2=0.9621\tDELTA1.25^3=0.9820\n",
            "\n"
          ],
          "name": "stdout"
        },
        {
          "output_type": "stream",
          "text": [
            "100%|██████████| 27/27 [00:12<00:00,  2.18it/s, epoch=28, loss=(total:0.1921 depth:0.1043 normal:0.0878)]\n",
            "100%|██████████| 14/14 [00:02<00:00,  5.23it/s, loss=(total:0.1147 depth:0.0399 normal:0.0749)]\n",
            "  0%|          | 0/27 [00:00<?, ?it/s]"
          ],
          "name": "stderr"
        },
        {
          "output_type": "stream",
          "text": [
            "eval_avg_error ===>\n",
            "                  Epoch: 0, step: 0, loss=(total:0.1147 depth:0.0399 normal:0.0749)\n",
            "                  MSE=0.0106\tRMSE=0.1029\tMAE=0.0395\tABS_REL=0.0853\n",
            "                  DELTA1.02=0.6805\tDELTA1.05=0.7252\tDELTA1.10=0.7805\n",
            "                  DELTA1.25=0.8859\tDELTA1.25^2=0.9552\tDELTA1.25^3=0.9778\n",
            "\n"
          ],
          "name": "stdout"
        },
        {
          "output_type": "stream",
          "text": [
            "100%|██████████| 27/27 [00:12<00:00,  2.18it/s, epoch=29, loss=(total:0.1893 depth:0.1021 normal:0.0872)]\n",
            "100%|██████████| 14/14 [00:02<00:00,  5.22it/s, loss=(total:0.1118 depth:0.0365 normal:0.0753)]\n",
            "  0%|          | 0/27 [00:00<?, ?it/s]"
          ],
          "name": "stderr"
        },
        {
          "output_type": "stream",
          "text": [
            "eval_avg_error ===>\n",
            "                  Epoch: 0, step: 0, loss=(total:0.1118 depth:0.0365 normal:0.0753)\n",
            "                  MSE=0.0091\tRMSE=0.0949\tMAE=0.0361\tABS_REL=0.0764\n",
            "                  DELTA1.02=0.6821\tDELTA1.05=0.7281\tDELTA1.10=0.7891\n",
            "                  DELTA1.25=0.8947\tDELTA1.25^2=0.9628\tDELTA1.25^3=0.9830\n",
            "\n"
          ],
          "name": "stdout"
        },
        {
          "output_type": "stream",
          "text": [
            "100%|██████████| 27/27 [00:12<00:00,  2.17it/s, epoch=30, loss=(total:0.1866 depth:0.1000 normal:0.0866)]\n",
            "100%|██████████| 14/14 [00:02<00:00,  5.26it/s, loss=(total:0.1098 depth:0.0365 normal:0.0733)]\n",
            "  0%|          | 0/27 [00:00<?, ?it/s]"
          ],
          "name": "stderr"
        },
        {
          "output_type": "stream",
          "text": [
            "eval_avg_error ===>\n",
            "                  Epoch: 0, step: 0, loss=(total:0.1098 depth:0.0365 normal:0.0733)\n",
            "                  MSE=0.0089\tRMSE=0.0942\tMAE=0.0362\tABS_REL=0.0782\n",
            "                  DELTA1.02=0.6898\tDELTA1.05=0.7366\tDELTA1.10=0.7959\n",
            "                  DELTA1.25=0.8960\tDELTA1.25^2=0.9619\tDELTA1.25^3=0.9821\n",
            "\n"
          ],
          "name": "stdout"
        },
        {
          "output_type": "stream",
          "text": [
            "100%|██████████| 27/27 [00:12<00:00,  2.18it/s, epoch=31, loss=(total:0.1840 depth:0.0980 normal:0.0860)]\n",
            "100%|██████████| 14/14 [00:02<00:00,  5.34it/s, loss=(total:0.1089 depth:0.0346 normal:0.0742)]\n",
            "  0%|          | 0/27 [00:00<?, ?it/s]"
          ],
          "name": "stderr"
        },
        {
          "output_type": "stream",
          "text": [
            "eval_avg_error ===>\n",
            "                  Epoch: 0, step: 0, loss=(total:0.1089 depth:0.0346 normal:0.0742)\n",
            "                  MSE=0.0084\tRMSE=0.0913\tMAE=0.0343\tABS_REL=0.0748\n",
            "                  DELTA1.02=0.6833\tDELTA1.05=0.7298\tDELTA1.10=0.7925\n",
            "                  DELTA1.25=0.8992\tDELTA1.25^2=0.9658\tDELTA1.25^3=0.9843\n",
            "\n"
          ],
          "name": "stdout"
        },
        {
          "output_type": "stream",
          "text": [
            "100%|██████████| 27/27 [00:12<00:00,  2.18it/s, epoch=32, loss=(total:0.1816 depth:0.0961 normal:0.0855)]\n",
            "100%|██████████| 14/14 [00:02<00:00,  5.31it/s, loss=(total:0.1086 depth:0.0352 normal:0.0734)]\n",
            "  0%|          | 0/27 [00:00<?, ?it/s]"
          ],
          "name": "stderr"
        },
        {
          "output_type": "stream",
          "text": [
            "eval_avg_error ===>\n",
            "                  Epoch: 0, step: 0, loss=(total:0.1086 depth:0.0352 normal:0.0734)\n",
            "                  MSE=0.0083\tRMSE=0.0906\tMAE=0.0349\tABS_REL=0.0754\n",
            "                  DELTA1.02=0.6810\tDELTA1.05=0.7266\tDELTA1.10=0.7880\n",
            "                  DELTA1.25=0.9015\tDELTA1.25^2=0.9668\tDELTA1.25^3=0.9847\n",
            "\n"
          ],
          "name": "stdout"
        },
        {
          "output_type": "stream",
          "text": [
            "100%|██████████| 27/27 [00:12<00:00,  2.17it/s, epoch=33, loss=(total:0.1793 depth:0.0943 normal:0.0850)]\n",
            "100%|██████████| 14/14 [00:02<00:00,  5.26it/s, loss=(total:0.1091 depth:0.0356 normal:0.0735)]\n",
            "  0%|          | 0/27 [00:00<?, ?it/s]"
          ],
          "name": "stderr"
        },
        {
          "output_type": "stream",
          "text": [
            "eval_avg_error ===>\n",
            "                  Epoch: 0, step: 0, loss=(total:0.1091 depth:0.0356 normal:0.0735)\n",
            "                  MSE=0.0082\tRMSE=0.0900\tMAE=0.0353\tABS_REL=0.0744\n",
            "                  DELTA1.02=0.6807\tDELTA1.05=0.7283\tDELTA1.10=0.7923\n",
            "                  DELTA1.25=0.9037\tDELTA1.25^2=0.9671\tDELTA1.25^3=0.9851\n",
            "\n"
          ],
          "name": "stdout"
        },
        {
          "output_type": "stream",
          "text": [
            "100%|██████████| 27/27 [00:12<00:00,  2.18it/s, epoch=34, loss=(total:0.1772 depth:0.0926 normal:0.0846)]\n",
            "100%|██████████| 14/14 [00:02<00:00,  5.20it/s, loss=(total:0.1082 depth:0.0342 normal:0.0740)]\n",
            "  0%|          | 0/27 [00:00<?, ?it/s]"
          ],
          "name": "stderr"
        },
        {
          "output_type": "stream",
          "text": [
            "eval_avg_error ===>\n",
            "                  Epoch: 0, step: 0, loss=(total:0.1082 depth:0.0342 normal:0.0740)\n",
            "                  MSE=0.0082\tRMSE=0.0902\tMAE=0.0340\tABS_REL=0.0717\n",
            "                  DELTA1.02=0.6852\tDELTA1.05=0.7326\tDELTA1.10=0.7955\n",
            "                  DELTA1.25=0.9020\tDELTA1.25^2=0.9662\tDELTA1.25^3=0.9851\n",
            "\n"
          ],
          "name": "stdout"
        },
        {
          "output_type": "stream",
          "text": [
            "100%|██████████| 27/27 [00:12<00:00,  2.17it/s, epoch=35, loss=(total:0.1751 depth:0.0910 normal:0.0841)]\n",
            "100%|██████████| 14/14 [00:02<00:00,  5.22it/s, loss=(total:0.1067 depth:0.0335 normal:0.0732)]\n",
            "  0%|          | 0/27 [00:00<?, ?it/s]"
          ],
          "name": "stderr"
        },
        {
          "output_type": "stream",
          "text": [
            "eval_avg_error ===>\n",
            "                  Epoch: 0, step: 0, loss=(total:0.1067 depth:0.0335 normal:0.0732)\n",
            "                  MSE=0.0081\tRMSE=0.0899\tMAE=0.0332\tABS_REL=0.0731\n",
            "                  DELTA1.02=0.6858\tDELTA1.05=0.7321\tDELTA1.10=0.7952\n",
            "                  DELTA1.25=0.9077\tDELTA1.25^2=0.9666\tDELTA1.25^3=0.9844\n",
            "\n"
          ],
          "name": "stdout"
        },
        {
          "output_type": "stream",
          "text": [
            "100%|██████████| 27/27 [00:12<00:00,  2.17it/s, epoch=36, loss=(total:0.1731 depth:0.0894 normal:0.0837)]\n",
            "100%|██████████| 14/14 [00:02<00:00,  5.28it/s, loss=(total:0.1085 depth:0.0351 normal:0.0734)]\n",
            "  0%|          | 0/27 [00:00<?, ?it/s]"
          ],
          "name": "stderr"
        },
        {
          "output_type": "stream",
          "text": [
            "eval_avg_error ===>\n",
            "                  Epoch: 0, step: 0, loss=(total:0.1085 depth:0.0351 normal:0.0734)\n",
            "                  MSE=0.0079\tRMSE=0.0886\tMAE=0.0348\tABS_REL=0.0732\n",
            "                  DELTA1.02=0.6805\tDELTA1.05=0.7262\tDELTA1.10=0.7879\n",
            "                  DELTA1.25=0.9045\tDELTA1.25^2=0.9698\tDELTA1.25^3=0.9859\n",
            "\n"
          ],
          "name": "stdout"
        },
        {
          "output_type": "stream",
          "text": [
            "100%|██████████| 27/27 [00:12<00:00,  2.17it/s, epoch=37, loss=(total:0.1712 depth:0.0879 normal:0.0833)]\n",
            "100%|██████████| 14/14 [00:02<00:00,  5.28it/s, loss=(total:0.1094 depth:0.0359 normal:0.0735)]\n",
            "  0%|          | 0/27 [00:00<?, ?it/s]"
          ],
          "name": "stderr"
        },
        {
          "output_type": "stream",
          "text": [
            "eval_avg_error ===>\n",
            "                  Epoch: 0, step: 0, loss=(total:0.1094 depth:0.0359 normal:0.0735)\n",
            "                  MSE=0.0081\tRMSE=0.0897\tMAE=0.0357\tABS_REL=0.0688\n",
            "                  DELTA1.02=0.6786\tDELTA1.05=0.7292\tDELTA1.10=0.7945\n",
            "                  DELTA1.25=0.9037\tDELTA1.25^2=0.9686\tDELTA1.25^3=0.9867\n",
            "\n"
          ],
          "name": "stdout"
        },
        {
          "output_type": "stream",
          "text": [
            "100%|██████████| 27/27 [00:12<00:00,  2.17it/s, epoch=38, loss=(total:0.1695 depth:0.0865 normal:0.0830)]\n",
            "100%|██████████| 14/14 [00:02<00:00,  5.13it/s, loss=(total:0.1062 depth:0.0331 normal:0.0731)]\n",
            "  0%|          | 0/27 [00:00<?, ?it/s]"
          ],
          "name": "stderr"
        },
        {
          "output_type": "stream",
          "text": [
            "eval_avg_error ===>\n",
            "                  Epoch: 0, step: 0, loss=(total:0.1062 depth:0.0331 normal:0.0731)\n",
            "                  MSE=0.0080\tRMSE=0.0889\tMAE=0.0327\tABS_REL=0.0701\n",
            "                  DELTA1.02=0.6865\tDELTA1.05=0.7348\tDELTA1.10=0.7990\n",
            "                  DELTA1.25=0.9119\tDELTA1.25^2=0.9681\tDELTA1.25^3=0.9850\n",
            "\n"
          ],
          "name": "stdout"
        },
        {
          "output_type": "stream",
          "text": [
            "100%|██████████| 27/27 [00:12<00:00,  2.17it/s, epoch=39, loss=(total:0.1678 depth:0.0852 normal:0.0826)]\n",
            "100%|██████████| 14/14 [00:02<00:00,  5.27it/s, loss=(total:0.1080 depth:0.0349 normal:0.0731)]\n"
          ],
          "name": "stderr"
        },
        {
          "output_type": "stream",
          "text": [
            "eval_avg_error ===>\n",
            "                  Epoch: 0, step: 0, loss=(total:0.1080 depth:0.0349 normal:0.0731)\n",
            "                  MSE=0.0079\tRMSE=0.0888\tMAE=0.0345\tABS_REL=0.0762\n",
            "                  DELTA1.02=0.6757\tDELTA1.05=0.7186\tDELTA1.10=0.7780\n",
            "                  DELTA1.25=0.8981\tDELTA1.25^2=0.9684\tDELTA1.25^3=0.9856\n",
            "\n"
          ],
          "name": "stdout"
        }
      ]
    },
    {
      "cell_type": "code",
      "metadata": {
        "id": "N5p16UFd3FpN",
        "colab": {
          "base_uri": "https://localhost:8080/"
        },
        "outputId": "7450e4bf-b3de-4577-84d5-9e59afdb4658"
      },
      "source": [
        "from test import test\n",
        "test(config=config_test)"
      ],
      "execution_count": 5,
      "outputs": [
        {
          "output_type": "stream",
          "text": [
            "100%|██████████| 14/14 [00:02<00:00,  5.31it/s, loss=(total:0.1043 depth:0.0314 normal:0.0729)]"
          ],
          "name": "stderr"
        },
        {
          "output_type": "stream",
          "text": [
            "eval_avg_error ===>\n",
            "                  Epoch: 40, step: 0, loss=(total:0.1043 depth:0.0314 normal:0.0729)\n",
            "                  MSE=0.0078\tRMSE=0.0881\tMAE=0.0310\tABS_REL=0.0694\n",
            "                  DELTA1.02=0.7026\tDELTA1.05=0.7494\tDELTA1.10=0.8103\n",
            "                  DELTA1.25=0.9112\tDELTA1.25^2=0.9679\tDELTA1.25^3=0.9845\n",
            "\n"
          ],
          "name": "stdout"
        },
        {
          "output_type": "stream",
          "text": [
            "\n"
          ],
          "name": "stderr"
        }
      ]
    },
    {
      "cell_type": "code",
      "metadata": {
        "id": "_LQXgZbw32a2",
        "colab": {
          "base_uri": "https://localhost:8080/",
          "height": 269
        },
        "outputId": "f60e3ab4-222b-45f5-c9c4-bb4a79082a81"
      },
      "source": [
        "from detect import detect\n",
        "detect(config=config_detect)"
      ],
      "execution_count": 10,
      "outputs": [
        {
          "output_type": "display_data",
          "data": {
            "image/png": "[encoded data removed]",
            "text/plain": [
              "<Figure size 432x288 with 1 Axes>"
            ]
          },
          "metadata": {
            "tags": [],
            "needs_background": "light"
          }
        }
      ]
    },
    {
      "cell_type": "code",
      "metadata": {
        "colab": {
          "base_uri": "https://localhost:8080/"
        },
        "id": "kYeXOXtJvhb9",
        "outputId": "e6e8665c-9dad-4832-acd0-9c3962b66f3f"
      },
      "source": [
        "!git pull\n",
        "!python dataset.py\n",
        "!python model.py"
      ],
      "execution_count": 7,
      "outputs": [
        {
          "output_type": "stream",
          "text": [
            "remote: Enumerating objects: 9, done.\u001b[K\n",
            "remote: Counting objects:  11% (1/9)\u001b[K\rremote: Counting objects:  22% (2/9)\u001b[K\rremote: Counting objects:  33% (3/9)\u001b[K\rremote: Counting objects:  44% (4/9)\u001b[K\rremote: Counting objects:  55% (5/9)\u001b[K\rremote: Counting objects:  66% (6/9)\u001b[K\rremote: Counting objects:  77% (7/9)\u001b[K\rremote: Counting objects:  88% (8/9)\u001b[K\rremote: Counting objects: 100% (9/9)\u001b[K\rremote: Counting objects: 100% (9/9), done.\u001b[K\n",
            "remote: Compressing objects: 100% (1/1)\u001b[K\rremote: Compressing objects: 100% (1/1), done.\u001b[K\n",
            "remote: Total 5 (delta 4), reused 5 (delta 4), pack-reused 0\u001b[K\n",
            "Unpacking objects:  20% (1/5)   \rUnpacking objects:  40% (2/5)   \rUnpacking objects:  60% (3/5)   \rUnpacking objects:  80% (4/5)   \rUnpacking objects: 100% (5/5)   \rUnpacking objects: 100% (5/5), done.\n",
            "From https://github.com/alexjercan/depth-estimation\n",
            "   8f1787a..0b96c4d  master     -> origin/master\n",
            "Updating 8f1787a..0b96c4d\n",
            "Fast-forward\n",
            " model.py | 4 \u001b[32m++\u001b[m\u001b[31m--\u001b[m\n",
            " test.py  | 3 \u001b[32m+\u001b[m\u001b[31m--\u001b[m\n",
            " train.py | 2 \u001b[32m+\u001b[m\u001b[31m-\u001b[m\n",
            " 3 files changed, 4 insertions(+), 5 deletions(-)\n",
            "dataset ok\n",
            "model ok\n"
          ],
          "name": "stdout"
        }
      ]
    }
  ]
}