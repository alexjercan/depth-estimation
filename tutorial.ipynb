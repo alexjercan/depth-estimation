{
  "nbformat": 4,
  "nbformat_minor": 0,
  "metadata": {
    "colab": {
      "name": "Untitled4.ipynb",
      "provenance": [],
      "collapsed_sections": [],
      "authorship_tag": "ABX9TyPI49KZdF1YJiSTuFzPFee2",
      "include_colab_link": true
    },
    "kernelspec": {
      "name": "python3",
      "display_name": "Python 3"
    },
    "language_info": {
      "name": "python"
    },
    "accelerator": "GPU",
    "widgets": {
      "application/vnd.jupyter.widget-state+json": {
        "a6cb3989830a4087994385e97e5349fd": {
          "model_module": "@jupyter-widgets/controls",
          "model_name": "HBoxModel",
          "state": {
            "_view_name": "HBoxView",
            "_dom_classes": [],
            "_model_name": "HBoxModel",
            "_view_module": "@jupyter-widgets/controls",
            "_model_module_version": "1.5.0",
            "_view_count": null,
            "_view_module_version": "1.5.0",
            "box_style": "",
            "layout": "IPY_MODEL_e29205ad69d646e7bcc26d1c0c9c25a9",
            "_model_module": "@jupyter-widgets/controls",
            "children": [
              "IPY_MODEL_642f87e82edc4531a2f451ac50e2eaa3",
              "IPY_MODEL_7f4f794faaea433192ad444996935306"
            ]
          }
        },
        "e29205ad69d646e7bcc26d1c0c9c25a9": {
          "model_module": "@jupyter-widgets/base",
          "model_name": "LayoutModel",
          "state": {
            "_view_name": "LayoutView",
            "grid_template_rows": null,
            "right": null,
            "justify_content": null,
            "_view_module": "@jupyter-widgets/base",
            "overflow": null,
            "_model_module_version": "1.2.0",
            "_view_count": null,
            "flex_flow": null,
            "width": null,
            "min_width": null,
            "border": null,
            "align_items": null,
            "bottom": null,
            "_model_module": "@jupyter-widgets/base",
            "top": null,
            "grid_column": null,
            "overflow_y": null,
            "overflow_x": null,
            "grid_auto_flow": null,
            "grid_area": null,
            "grid_template_columns": null,
            "flex": null,
            "_model_name": "LayoutModel",
            "justify_items": null,
            "grid_row": null,
            "max_height": null,
            "align_content": null,
            "visibility": null,
            "align_self": null,
            "height": null,
            "min_height": null,
            "padding": null,
            "grid_auto_rows": null,
            "grid_gap": null,
            "max_width": null,
            "order": null,
            "_view_module_version": "1.2.0",
            "grid_template_areas": null,
            "object_position": null,
            "object_fit": null,
            "grid_auto_columns": null,
            "margin": null,
            "display": null,
            "left": null
          }
        },
        "642f87e82edc4531a2f451ac50e2eaa3": {
          "model_module": "@jupyter-widgets/controls",
          "model_name": "FloatProgressModel",
          "state": {
            "_view_name": "ProgressView",
            "style": "IPY_MODEL_4673d06dd8c9463ab2207d115f6d70bd",
            "_dom_classes": [],
            "description": "100%",
            "_model_name": "FloatProgressModel",
            "bar_style": "success",
            "max": 116262275,
            "_view_module": "@jupyter-widgets/controls",
            "_model_module_version": "1.5.0",
            "value": 116262275,
            "_view_count": null,
            "_view_module_version": "1.5.0",
            "orientation": "horizontal",
            "min": 0,
            "description_tooltip": null,
            "_model_module": "@jupyter-widgets/controls",
            "layout": "IPY_MODEL_422bca6027404e79ab442dac5bd4e801"
          }
        },
        "7f4f794faaea433192ad444996935306": {
          "model_module": "@jupyter-widgets/controls",
          "model_name": "HTMLModel",
          "state": {
            "_view_name": "HTMLView",
            "style": "IPY_MODEL_0fa084f5b90a43168b412bcfe8a1f8ad",
            "_dom_classes": [],
            "description": "",
            "_model_name": "HTMLModel",
            "placeholder": "​",
            "_view_module": "@jupyter-widgets/controls",
            "_model_module_version": "1.5.0",
            "value": " 111M/111M [00:30&lt;00:00, 3.83MB/s]",
            "_view_count": null,
            "_view_module_version": "1.5.0",
            "description_tooltip": null,
            "_model_module": "@jupyter-widgets/controls",
            "layout": "IPY_MODEL_2551c0a293b6476f91d39536175a7d83"
          }
        },
        "4673d06dd8c9463ab2207d115f6d70bd": {
          "model_module": "@jupyter-widgets/controls",
          "model_name": "ProgressStyleModel",
          "state": {
            "_view_name": "StyleView",
            "_model_name": "ProgressStyleModel",
            "description_width": "initial",
            "_view_module": "@jupyter-widgets/base",
            "_model_module_version": "1.5.0",
            "_view_count": null,
            "_view_module_version": "1.2.0",
            "bar_color": null,
            "_model_module": "@jupyter-widgets/controls"
          }
        },
        "422bca6027404e79ab442dac5bd4e801": {
          "model_module": "@jupyter-widgets/base",
          "model_name": "LayoutModel",
          "state": {
            "_view_name": "LayoutView",
            "grid_template_rows": null,
            "right": null,
            "justify_content": null,
            "_view_module": "@jupyter-widgets/base",
            "overflow": null,
            "_model_module_version": "1.2.0",
            "_view_count": null,
            "flex_flow": null,
            "width": null,
            "min_width": null,
            "border": null,
            "align_items": null,
            "bottom": null,
            "_model_module": "@jupyter-widgets/base",
            "top": null,
            "grid_column": null,
            "overflow_y": null,
            "overflow_x": null,
            "grid_auto_flow": null,
            "grid_area": null,
            "grid_template_columns": null,
            "flex": null,
            "_model_name": "LayoutModel",
            "justify_items": null,
            "grid_row": null,
            "max_height": null,
            "align_content": null,
            "visibility": null,
            "align_self": null,
            "height": null,
            "min_height": null,
            "padding": null,
            "grid_auto_rows": null,
            "grid_gap": null,
            "max_width": null,
            "order": null,
            "_view_module_version": "1.2.0",
            "grid_template_areas": null,
            "object_position": null,
            "object_fit": null,
            "grid_auto_columns": null,
            "margin": null,
            "display": null,
            "left": null
          }
        },
        "0fa084f5b90a43168b412bcfe8a1f8ad": {
          "model_module": "@jupyter-widgets/controls",
          "model_name": "DescriptionStyleModel",
          "state": {
            "_view_name": "StyleView",
            "_model_name": "DescriptionStyleModel",
            "description_width": "",
            "_view_module": "@jupyter-widgets/base",
            "_model_module_version": "1.5.0",
            "_view_count": null,
            "_view_module_version": "1.2.0",
            "_model_module": "@jupyter-widgets/controls"
          }
        },
        "2551c0a293b6476f91d39536175a7d83": {
          "model_module": "@jupyter-widgets/base",
          "model_name": "LayoutModel",
          "state": {
            "_view_name": "LayoutView",
            "grid_template_rows": null,
            "right": null,
            "justify_content": null,
            "_view_module": "@jupyter-widgets/base",
            "overflow": null,
            "_model_module_version": "1.2.0",
            "_view_count": null,
            "flex_flow": null,
            "width": null,
            "min_width": null,
            "border": null,
            "align_items": null,
            "bottom": null,
            "_model_module": "@jupyter-widgets/base",
            "top": null,
            "grid_column": null,
            "overflow_y": null,
            "overflow_x": null,
            "grid_auto_flow": null,
            "grid_area": null,
            "grid_template_columns": null,
            "flex": null,
            "_model_name": "LayoutModel",
            "justify_items": null,
            "grid_row": null,
            "max_height": null,
            "align_content": null,
            "visibility": null,
            "align_self": null,
            "height": null,
            "min_height": null,
            "padding": null,
            "grid_auto_rows": null,
            "grid_gap": null,
            "max_width": null,
            "order": null,
            "_view_module_version": "1.2.0",
            "grid_template_areas": null,
            "object_position": null,
            "object_fit": null,
            "grid_auto_columns": null,
            "margin": null,
            "display": null,
            "left": null
          }
        }
      }
    }
  },
  "cells": [
    {
      "cell_type": "markdown",
      "metadata": {
        "id": "view-in-github",
        "colab_type": "text"
      },
      "source": [
        "<a href=\"https://colab.research.google.com/github/alexjercan/depth-estimation/blob/master/tutorial.ipynb\" target=\"_parent\"><img src=\"https://colab.research.google.com/assets/colab-badge.svg\" alt=\"Open In Colab\"/></a>"
      ]
    },
    {
      "cell_type": "code",
      "metadata": {
        "colab": {
          "base_uri": "https://localhost:8080/",
          "height": 777
        },
        "id": "siz-VkAr2P8g",
        "outputId": "f1d2b498-636d-4a15-d20e-37b5ee2976d1"
      },
      "source": [
        "!pip install matplotlib==3.3.3 albumentations==0.5.2"
      ],
      "execution_count": 1,
      "outputs": [
        {
          "output_type": "stream",
          "text": [
            "Collecting matplotlib==3.3.3\n",
            "\u001b[?25l  Downloading https://files.pythonhosted.org/packages/30/f2/10c822cb0ca5ebec58bd1892187bc3e3db64a867ac26531c6204663fc218/matplotlib-3.3.3-cp37-cp37m-manylinux1_x86_64.whl (11.6MB)\n",
            "\u001b[K     |████████████████████████████████| 11.6MB 229kB/s \n",
            "\u001b[?25hCollecting albumentations==0.5.2\n",
            "\u001b[?25l  Downloading https://files.pythonhosted.org/packages/03/58/63fb1d742dc42d9ba2800ea741de1f2bc6bb05548d8724aa84794042eaf2/albumentations-0.5.2-py3-none-any.whl (72kB)\n",
            "\u001b[K     |████████████████████████████████| 81kB 8.6MB/s \n",
            "\u001b[?25hRequirement already satisfied: pillow>=6.2.0 in /usr/local/lib/python3.7/dist-packages (from matplotlib==3.3.3) (7.1.2)\n",
            "Requirement already satisfied: pyparsing!=2.0.4,!=2.1.2,!=2.1.6,>=2.0.3 in /usr/local/lib/python3.7/dist-packages (from matplotlib==3.3.3) (2.4.7)\n",
            "Requirement already satisfied: cycler>=0.10 in /usr/local/lib/python3.7/dist-packages (from matplotlib==3.3.3) (0.10.0)\n",
            "Requirement already satisfied: kiwisolver>=1.0.1 in /usr/local/lib/python3.7/dist-packages (from matplotlib==3.3.3) (1.3.1)\n",
            "Requirement already satisfied: python-dateutil>=2.1 in /usr/local/lib/python3.7/dist-packages (from matplotlib==3.3.3) (2.8.1)\n",
            "Requirement already satisfied: numpy>=1.15 in /usr/local/lib/python3.7/dist-packages (from matplotlib==3.3.3) (1.19.5)\n",
            "Requirement already satisfied: PyYAML in /usr/local/lib/python3.7/dist-packages (from albumentations==0.5.2) (3.13)\n",
            "Collecting opencv-python-headless>=4.1.1\n",
            "\u001b[?25l  Downloading https://files.pythonhosted.org/packages/6d/6d/92f377bece9b0ec9c893081dbe073a65b38d7ac12ef572b8f70554d08760/opencv_python_headless-4.5.1.48-cp37-cp37m-manylinux2014_x86_64.whl (37.6MB)\n",
            "\u001b[K     |████████████████████████████████| 37.6MB 79kB/s \n",
            "\u001b[?25hRequirement already satisfied: scikit-image>=0.16.1 in /usr/local/lib/python3.7/dist-packages (from albumentations==0.5.2) (0.16.2)\n",
            "Requirement already satisfied: scipy in /usr/local/lib/python3.7/dist-packages (from albumentations==0.5.2) (1.4.1)\n",
            "Collecting imgaug>=0.4.0\n",
            "\u001b[?25l  Downloading https://files.pythonhosted.org/packages/66/b1/af3142c4a85cba6da9f4ebb5ff4e21e2616309552caca5e8acefe9840622/imgaug-0.4.0-py2.py3-none-any.whl (948kB)\n",
            "\u001b[K     |████████████████████████████████| 952kB 35.4MB/s \n",
            "\u001b[?25hRequirement already satisfied: six in /usr/local/lib/python3.7/dist-packages (from cycler>=0.10->matplotlib==3.3.3) (1.15.0)\n",
            "Requirement already satisfied: networkx>=2.0 in /usr/local/lib/python3.7/dist-packages (from scikit-image>=0.16.1->albumentations==0.5.2) (2.5.1)\n",
            "Requirement already satisfied: imageio>=2.3.0 in /usr/local/lib/python3.7/dist-packages (from scikit-image>=0.16.1->albumentations==0.5.2) (2.4.1)\n",
            "Requirement already satisfied: PyWavelets>=0.4.0 in /usr/local/lib/python3.7/dist-packages (from scikit-image>=0.16.1->albumentations==0.5.2) (1.1.1)\n",
            "Requirement already satisfied: Shapely in /usr/local/lib/python3.7/dist-packages (from imgaug>=0.4.0->albumentations==0.5.2) (1.7.1)\n",
            "Requirement already satisfied: opencv-python in /usr/local/lib/python3.7/dist-packages (from imgaug>=0.4.0->albumentations==0.5.2) (4.1.2.30)\n",
            "Requirement already satisfied: decorator<5,>=4.3 in /usr/local/lib/python3.7/dist-packages (from networkx>=2.0->scikit-image>=0.16.1->albumentations==0.5.2) (4.4.2)\n",
            "Installing collected packages: matplotlib, opencv-python-headless, imgaug, albumentations\n",
            "  Found existing installation: matplotlib 3.2.2\n",
            "    Uninstalling matplotlib-3.2.2:\n",
            "      Successfully uninstalled matplotlib-3.2.2\n",
            "  Found existing installation: imgaug 0.2.9\n",
            "    Uninstalling imgaug-0.2.9:\n",
            "      Successfully uninstalled imgaug-0.2.9\n",
            "  Found existing installation: albumentations 0.1.12\n",
            "    Uninstalling albumentations-0.1.12:\n",
            "      Successfully uninstalled albumentations-0.1.12\n",
            "Successfully installed albumentations-0.5.2 imgaug-0.4.0 matplotlib-3.3.3 opencv-python-headless-4.5.1.48\n"
          ],
          "name": "stdout"
        },
        {
          "output_type": "display_data",
          "data": {
            "application/vnd.colab-display-data+json": {
              "pip_warning": {
                "packages": [
                  "matplotlib",
                  "mpl_toolkits"
                ]
              }
            }
          },
          "metadata": {
            "tags": []
          }
        }
      ]
    },
    {
      "cell_type": "code",
      "metadata": {
        "colab": {
          "base_uri": "https://localhost:8080/"
        },
        "id": "Bgiit0eg0glA",
        "outputId": "1b7f3f62-96a5-4103-9787-7dc9631f0c72"
      },
      "source": [
        "!git clone https://github.com/alexjercan/depth-estimation.git\n",
        "%cd depth-estimation\n",
        "\n",
        "import torch\n",
        "from IPython.display import clear_output\n",
        "\n",
        "clear_output()\n",
        "print('Setup complete. Using torch %s %s' % (torch.__version__, torch.cuda.get_device_properties(0) if torch.cuda.is_available() else 'CPU'))"
      ],
      "execution_count": 1,
      "outputs": [
        {
          "output_type": "stream",
          "text": [
            "Setup complete. Using torch 1.8.1+cu101 _CudaDeviceProperties(name='Tesla K80', major=3, minor=7, total_memory=11441MB, multi_processor_count=13)\n"
          ],
          "name": "stdout"
        }
      ]
    },
    {
      "cell_type": "code",
      "metadata": {
        "colab": {
          "base_uri": "https://localhost:8080/",
          "height": 66,
          "referenced_widgets": [
            "a6cb3989830a4087994385e97e5349fd",
            "e29205ad69d646e7bcc26d1c0c9c25a9",
            "642f87e82edc4531a2f451ac50e2eaa3",
            "7f4f794faaea433192ad444996935306",
            "4673d06dd8c9463ab2207d115f6d70bd",
            "422bca6027404e79ab442dac5bd4e801",
            "0fa084f5b90a43168b412bcfe8a1f8ad",
            "2551c0a293b6476f91d39536175a7d83"
          ]
        },
        "id": "kSQMVSwG05lO",
        "outputId": "87b393f8-75db-419c-b8a7-cf9734230468"
      },
      "source": [
        "# Download bdataset\n",
        "torch.hub.download_url_to_file('https://github.com/alexjercan/depth-estimation/releases/download/v1.0/bdataset_stereo.zip', 'tmp.zip')\n",
        "!unzip -q tmp.zip -d ../ && rm tmp.zip"
      ],
      "execution_count": 2,
      "outputs": [
        {
          "output_type": "display_data",
          "data": {
            "application/vnd.jupyter.widget-view+json": {
              "model_id": "a6cb3989830a4087994385e97e5349fd",
              "version_minor": 0,
              "version_major": 2
            },
            "text/plain": [
              "HBox(children=(FloatProgress(value=0.0, max=116262275.0), HTML(value='')))"
            ]
          },
          "metadata": {
            "tags": []
          }
        },
        {
          "output_type": "stream",
          "text": [
            "\n"
          ],
          "name": "stdout"
        }
      ]
    },
    {
      "cell_type": "code",
      "metadata": {
        "colab": {
          "base_uri": "https://localhost:8080/"
        },
        "id": "kYeXOXtJvhb9",
        "outputId": "5852489e-a484-4cf1-bb1c-3ef389a8fc53"
      },
      "source": [
        "!git pull\n",
        "!python dataset.py\n",
        "!python model.py"
      ],
      "execution_count": 3,
      "outputs": [
        {
          "output_type": "stream",
          "text": [
            "Already up to date.\n",
            "<Figure size 1000x1000 with 1 Axes>\n",
            "<Figure size 1000x1000 with 1 Axes>\n",
            "<Figure size 1000x1000 with 1 Axes>\n",
            "dataset ok\n",
            "model ok\n"
          ],
          "name": "stdout"
        }
      ]
    },
    {
      "cell_type": "code",
      "metadata": {
        "id": "LaaBznBbV8HN"
      },
      "source": [
        "import os\n",
        "import re\n",
        "import torch\n",
        "import torch.optim\n",
        "import albumentations as A\n",
        "import my_albumentations as M\n",
        "\n",
        "from datetime import datetime as dt\n",
        "from config import DEVICE\n",
        "from model import Model, LossFunction\n",
        "from general import init_weights, load_checkpoint, save_checkpoint\n",
        "from dataset import create_dataloader\n",
        "from metrics import MetricFunction, print_single_error\n",
        "from detect import generatePredictions\n",
        "from train import train_one_epoch\n",
        "from test import run_test\n",
        "from util import save_predictions, plot_predictions\n",
        "from dataset import LoadImages\n",
        "from attr_dict import AttrDict\n",
        "\n",
        "config_train = AttrDict()\n",
        "\n",
        "config_train.DATASET_ROOT = \"../bdataset_stereo\"\n",
        "config_train.JSON_PATH = \"train.json\"\n",
        "config_train.BATCH_SIZE = 8\n",
        "config_train.IMAGE_SIZE = 256\n",
        "config_train.WORKERS = 8\n",
        "config_train.PIN_MEMORY = True\n",
        "config_train.SHUFFLE = True\n",
        "\n",
        "config_train.LEARNING_RATE = 0.01\n",
        "config_train.BETAS = [0.9, 0.999]\n",
        "config_train.EPS = 0.00000001\n",
        "config_train.WEIGHT_DECAY = 0.0001\n",
        "\n",
        "config_train.MILESTONES = [10,20,30]\n",
        "config_train.GAMMA = 0.2\n",
        "\n",
        "config_train.NUM_EPOCHS = 40\n",
        "config_train.TEST = True\n",
        "config_train.OUT_PATH =\"./runs\"\n",
        "config_train.LOAD_MODEL = False\n",
        "config_train.SAVE_MODEL = False\n",
        "config_train.CHECKPOINT_FILE = \"normal.pth\"\n",
        "\n",
        "config_test = AttrDict()\n",
        "\n",
        "config_test.DATASET_ROOT = \"../bdataset_stereo\"\n",
        "config_test.JSON_PATH = \"test.json\"\n",
        "config_test.BATCH_SIZE = 8\n",
        "config_test.IMAGE_SIZE = 256\n",
        "config_test.WORKERS = 8\n",
        "config_test.PIN_MEMORY = True\n",
        "config_test.SHUFFLE = False\n",
        "\n",
        "config_test.OUT_PATH = \"./runs\"\n",
        "config_test.LOAD_MODEL = True\n",
        "config_test.CHECKPOINT_FILE = \"normal.pth\"\n",
        "\n",
        "config_detect = AttrDict()\n",
        "\n",
        "config_detect.JSON = [{\"imageL\": \"data/left.png\", \"imageR\": \"data/right.png\", \"output\": \"data/output.exr\"}]\n",
        "config_detect.IMAGE_SIZE = 256\n",
        "config_detect.CHECKPOINT_FILE = \"normal.pth\"\n",
        "\n",
        "torch.backends.cudnn.benchmark = True"
      ],
      "execution_count": 15,
      "outputs": []
    },
    {
      "cell_type": "code",
      "metadata": {
        "id": "zc0ejoy2UWo_"
      },
      "source": [
        "train_transform = A.Compose(\n",
        "    [\n",
        "        M.MyRandomResizedCrop(width=config_train.IMAGE_SIZE, height=config_train.IMAGE_SIZE),\n",
        "        M.MyHorizontalFlip(p=0.5),\n",
        "        M.MyVerticalFlip(p=0.1),\n",
        "        A.OneOf([\n",
        "            A.MotionBlur(p=0.2),\n",
        "            A.MedianBlur(blur_limit=3, p=0.1),\n",
        "            A.Blur(blur_limit=3, p=0.1),\n",
        "        ], p=0.2),\n",
        "        A.OneOf([\n",
        "            M.MyOpticalDistortion(p=0.3),\n",
        "            M.MyGridDistortion(p=0.1),\n",
        "            M.MyIAAPiecewiseAffine(p=0.3),\n",
        "        ], p=0.2),\n",
        "        A.OneOf([\n",
        "            A.IAASharpen(),\n",
        "            A.IAAEmboss(),\n",
        "            A.RandomBrightnessContrast(),            \n",
        "        ], p=0.3),\n",
        "        A.HueSaturationValue(p=0.3),\n",
        "        M.MyToTensorV2(),\n",
        "    ],\n",
        "    additional_targets={\n",
        "        'right_img': 'image',\n",
        "        'left_depth': 'depth',\n",
        "        'right_depth': 'depth',\n",
        "        'left_normal': 'normal',\n",
        "        'right_normal': 'normal',\n",
        "    }\n",
        ")\n",
        "\n",
        "test_transform = A.Compose(\n",
        "    [\n",
        "        M.MyToTensorV2(),\n",
        "    ],\n",
        "    additional_targets={\n",
        "        'right_img': 'image',\n",
        "        'left_depth': 'depth',\n",
        "        'right_depth': 'depth',\n",
        "        'left_normal': 'normal',\n",
        "        'right_normal': 'normal',\n",
        "    }\n",
        ")\n",
        "\n",
        "_, train_dataloader = create_dataloader(config_train.DATASET_ROOT, config_train.JSON_PATH, \n",
        "                                        batch_size=config_train.BATCH_SIZE, transform=train_transform, \n",
        "                                        workers=config_train.WORKERS, pin_memory=config_train.PIN_MEMORY, shuffle=config_train.SHUFFLE)\n",
        "\n",
        "_, test_dataloader = create_dataloader(config_test.DATASET_ROOT, config_test.JSON_PATH,\n",
        "                                       batch_size=config_test.BATCH_SIZE, transform=test_transform,\n",
        "                                       workers=config_test.WORKERS, pin_memory=config_test.PIN_MEMORY, shuffle=config_test.SHUFFLE)\n",
        "\n",
        "images = LoadImages(config_detect.JSON, img_size=config_detect.IMAGE_SIZE)\n"
      ],
      "execution_count": 6,
      "outputs": []
    },
    {
      "cell_type": "code",
      "metadata": {
        "id": "68DeiDrjVG1b"
      },
      "source": [
        "model = Model()\n",
        "model.apply(init_weights)\n",
        "solver = torch.optim.Adam(filter(lambda p: p.requires_grad, model.parameters()), \n",
        "                          lr=config_train.LEARNING_RATE, betas=config_train.BETAS, \n",
        "                          eps=config_train.EPS, weight_decay=config_train.WEIGHT_DECAY)\n",
        "# solver = torch.optim.SGD(filter(lambda p: p.requires_grad, model.parameters()), \n",
        "#                          lr=config.LEARNING_RATE, momentum=0.9,\n",
        "#                          dampening = 0.1, weight_decay=config.WEIGHT_DECAY)\n",
        "lr_scheduler = torch.optim.lr_scheduler.MultiStepLR(solver, milestones=config_train.MILESTONES, gamma=config_train.GAMMA)\n",
        "model = model.to(DEVICE)\n",
        "loss_fn = LossFunction()\n",
        "metric_fn = MetricFunction(config_test.BATCH_SIZE)\n",
        "\n",
        "epoch_idx = 0\n",
        "if config_train.CHECKPOINT_FILE and config_train.LOAD_MODEL:\n",
        "    epoch_idx, model = load_checkpoint(model, config_train.CHECKPOINT_FILE, DEVICE)"
      ],
      "execution_count": 7,
      "outputs": []
    },
    {
      "cell_type": "code",
      "metadata": {
        "colab": {
          "base_uri": "https://localhost:8080/"
        },
        "id": "GTJCokSBVQ_9",
        "outputId": "a9a038f3-b5c8-40f1-a77f-1452353f3acb"
      },
      "source": [
        "model.train()\n",
        "for epoch_idx in range(epoch_idx, config_train.NUM_EPOCHS):\n",
        "    train_one_epoch(model, train_dataloader, loss_fn, solver, epoch_idx)\n",
        "    lr_scheduler.step()"
      ],
      "execution_count": null,
      "outputs": [
        {
          "output_type": "stream",
          "text": [
            " 30%|██▉       | 8/27 [00:10<00:24,  1.27s/it, epoch=0, loss=(total:0.2823 depth:0.18731892108917236 normal:0.09502296894788742)]"
          ],
          "name": "stderr"
        }
      ]
    },
    {
      "cell_type": "code",
      "metadata": {
        "colab": {
          "base_uri": "https://localhost:8080/"
        },
        "id": "AkAu2sRnbvDm",
        "outputId": "9cef6b21-fb83-4d3f-f07a-ef0d9757eb9f"
      },
      "source": [
        "model.eval()\n",
        "run_test(model, test_dataloader, loss_fn, metric_fn)\n",
        "print_single_error(1, loss_fn.show(), metric_fn.show())"
      ],
      "execution_count": 9,
      "outputs": [
        {
          "output_type": "stream",
          "text": [
            "100%|██████████| 14/14 [00:08<00:00,  1.58it/s]"
          ],
          "name": "stderr"
        },
        {
          "output_type": "stream",
          "text": [
            "eval_avg_error\n",
            "Epoch: 1, loss=(total:0.2779 depth:0.15090462565422058 normal:0.12701115012168884)\n",
            "======DEPTH=======\n",
            "MSE=0.0284\tRMSE=0.1612\tMAE=0.1063\tABS_REL=0.2243\n",
            "DELTA1.02=0.1008\tDELTA1.05=0.3656\tDELTA1.10=0.6656\n",
            "DELTA1.25=0.7553\tDELTA1.25^2=0.8698\tDELTA1.25^3=0.9466\n",
            "======NORMALS=======\n",
            "MSE=0.4808\tRMSE=0.6926\tMAE=0.6551\tMME=0.6493\n",
            "TANGLE11.25=0.0601\tTANGLE22.5=0.0879\tTANGLE30.0=0.1023\n",
            "\n"
          ],
          "name": "stdout"
        },
        {
          "output_type": "stream",
          "text": [
            "\n"
          ],
          "name": "stderr"
        }
      ]
    },
    {
      "cell_type": "code",
      "metadata": {
        "colab": {
          "base_uri": "https://localhost:8080/",
          "height": 245
        },
        "id": "Q4rZ2bdIauXm",
        "outputId": "376dc423-a743-41e2-ded7-482c1498842f"
      },
      "source": [
        "model.eval()\n",
        "for predictions, path in generatePredictions(model, images):\n",
        "    plot_predictions(predictions, [path])"
      ],
      "execution_count": 13,
      "outputs": [
        {
          "output_type": "display_data",
          "data": {
            "image/png": "[encoded data removed]",
            "text/plain": [
              "<Figure size 432x288 with 2 Axes>"
            ]
          },
          "metadata": {
            "tags": [],
            "needs_background": "light"
          }
        }
      ]
    },
    {
      "cell_type": "code",
      "metadata": {
        "colab": {
          "base_uri": "https://localhost:8080/"
        },
        "id": "OyIyyXIbe-g1",
        "outputId": "05b25692-8fbc-44c0-aa19-7a12d0d505d3"
      },
      "source": [
        "output_dir = os.path.join(config_train.OUT_PATH, re.sub(\"[^0-9a-zA-Z]+\", \"-\", dt.now().isoformat()))\n",
        "\n",
        "save_checkpoint(epoch_idx, model, output_dir)\n",
        "\n",
        "print(model)"
      ],
      "execution_count": 17,
      "outputs": [
        {
          "output_type": "stream",
          "text": [
            "Model(\n",
            "  (feature): UNetFeature(\n",
            "    (down_block1): UNetBlock(\n",
            "      (conv1): Conv2d(3, 16, kernel_size=(3, 3), stride=(1, 1), padding=(1, 1))\n",
            "      (bn1): GroupNorm(8, 16, eps=1e-05, affine=True)\n",
            "      (conv2): Conv2d(16, 16, kernel_size=(3, 3), stride=(1, 1), padding=(1, 1))\n",
            "      (bn2): GroupNorm(8, 16, eps=1e-05, affine=True)\n",
            "      (conv3): Conv2d(16, 16, kernel_size=(3, 3), stride=(1, 1), padding=(1, 1))\n",
            "      (bn3): GroupNorm(8, 16, eps=1e-05, affine=True)\n",
            "      (max_pool): Identity()\n",
            "      (relu): LeakyReLU(negative_slope=0.2, inplace=True)\n",
            "    )\n",
            "    (down_block2): UNetBlock(\n",
            "      (conv1): Conv2d(16, 32, kernel_size=(3, 3), stride=(1, 1), padding=(1, 1))\n",
            "      (bn1): GroupNorm(8, 32, eps=1e-05, affine=True)\n",
            "      (conv2): Conv2d(32, 32, kernel_size=(3, 3), stride=(1, 1), padding=(1, 1))\n",
            "      (bn2): GroupNorm(8, 32, eps=1e-05, affine=True)\n",
            "      (conv3): Conv2d(32, 32, kernel_size=(3, 3), stride=(1, 1), padding=(1, 1))\n",
            "      (bn3): GroupNorm(8, 32, eps=1e-05, affine=True)\n",
            "      (max_pool): MaxPool2d(kernel_size=2, stride=2, padding=0, dilation=1, ceil_mode=False)\n",
            "      (relu): LeakyReLU(negative_slope=0.2, inplace=True)\n",
            "    )\n",
            "    (down_block3): UNetBlock(\n",
            "      (conv1): Conv2d(32, 64, kernel_size=(3, 3), stride=(1, 1), padding=(1, 1))\n",
            "      (bn1): GroupNorm(8, 64, eps=1e-05, affine=True)\n",
            "      (conv2): Conv2d(64, 64, kernel_size=(3, 3), stride=(1, 1), padding=(1, 1))\n",
            "      (bn2): GroupNorm(8, 64, eps=1e-05, affine=True)\n",
            "      (conv3): Conv2d(64, 64, kernel_size=(3, 3), stride=(1, 1), padding=(1, 1))\n",
            "      (bn3): GroupNorm(8, 64, eps=1e-05, affine=True)\n",
            "      (max_pool): MaxPool2d(kernel_size=2, stride=2, padding=0, dilation=1, ceil_mode=False)\n",
            "      (relu): LeakyReLU(negative_slope=0.2, inplace=True)\n",
            "    )\n",
            "    (down_block4): UNetBlock(\n",
            "      (conv1): Conv2d(64, 128, kernel_size=(3, 3), stride=(1, 1), padding=(1, 1))\n",
            "      (bn1): GroupNorm(8, 128, eps=1e-05, affine=True)\n",
            "      (conv2): Conv2d(128, 128, kernel_size=(3, 3), stride=(1, 1), padding=(1, 1))\n",
            "      (bn2): GroupNorm(8, 128, eps=1e-05, affine=True)\n",
            "      (conv3): Conv2d(128, 128, kernel_size=(3, 3), stride=(1, 1), padding=(1, 1))\n",
            "      (bn3): GroupNorm(8, 128, eps=1e-05, affine=True)\n",
            "      (max_pool): MaxPool2d(kernel_size=2, stride=2, padding=0, dilation=1, ceil_mode=False)\n",
            "      (relu): LeakyReLU(negative_slope=0.2, inplace=True)\n",
            "    )\n",
            "    (down_block5): UNetBlock(\n",
            "      (conv1): Conv2d(128, 256, kernel_size=(3, 3), stride=(1, 1), padding=(1, 1))\n",
            "      (bn1): GroupNorm(8, 256, eps=1e-05, affine=True)\n",
            "      (conv2): Conv2d(256, 256, kernel_size=(3, 3), stride=(1, 1), padding=(1, 1))\n",
            "      (bn2): GroupNorm(8, 256, eps=1e-05, affine=True)\n",
            "      (conv3): Conv2d(256, 256, kernel_size=(3, 3), stride=(1, 1), padding=(1, 1))\n",
            "      (bn3): GroupNorm(8, 256, eps=1e-05, affine=True)\n",
            "      (max_pool): MaxPool2d(kernel_size=2, stride=2, padding=0, dilation=1, ceil_mode=False)\n",
            "      (relu): LeakyReLU(negative_slope=0.2, inplace=True)\n",
            "    )\n",
            "    (down_block6): UNetBlock(\n",
            "      (conv1): Conv2d(256, 512, kernel_size=(3, 3), stride=(1, 1), padding=(1, 1))\n",
            "      (bn1): GroupNorm(8, 512, eps=1e-05, affine=True)\n",
            "      (conv2): Conv2d(512, 512, kernel_size=(3, 3), stride=(1, 1), padding=(1, 1))\n",
            "      (bn2): GroupNorm(8, 512, eps=1e-05, affine=True)\n",
            "      (conv3): Conv2d(512, 512, kernel_size=(3, 3), stride=(1, 1), padding=(1, 1))\n",
            "      (bn3): GroupNorm(8, 512, eps=1e-05, affine=True)\n",
            "      (max_pool): MaxPool2d(kernel_size=2, stride=2, padding=0, dilation=1, ceil_mode=False)\n",
            "      (relu): LeakyReLU(negative_slope=0.2, inplace=True)\n",
            "    )\n",
            "    (down_block7): UNetBlock(\n",
            "      (conv1): Conv2d(512, 1024, kernel_size=(3, 3), stride=(1, 1), padding=(1, 1))\n",
            "      (bn1): GroupNorm(8, 1024, eps=1e-05, affine=True)\n",
            "      (conv2): Conv2d(1024, 1024, kernel_size=(3, 3), stride=(1, 1), padding=(1, 1))\n",
            "      (bn2): GroupNorm(8, 1024, eps=1e-05, affine=True)\n",
            "      (conv3): Conv2d(1024, 1024, kernel_size=(3, 3), stride=(1, 1), padding=(1, 1))\n",
            "      (bn3): GroupNorm(8, 1024, eps=1e-05, affine=True)\n",
            "      (max_pool): MaxPool2d(kernel_size=2, stride=2, padding=0, dilation=1, ceil_mode=False)\n",
            "      (relu): LeakyReLU(negative_slope=0.2, inplace=True)\n",
            "    )\n",
            "    (mid_conv1): Conv2d(1024, 1024, kernel_size=(3, 3), stride=(1, 1), padding=(1, 1))\n",
            "    (bn1): GroupNorm(8, 1024, eps=1e-05, affine=True)\n",
            "    (mid_conv2): Conv2d(1024, 1024, kernel_size=(3, 3), stride=(1, 1), padding=(1, 1))\n",
            "    (bn2): GroupNorm(8, 1024, eps=1e-05, affine=True)\n",
            "    (mid_conv3): Conv2d(1024, 1024, kernel_size=(3, 3), stride=(1, 1), padding=(1, 1))\n",
            "    (bn3): GroupNorm(8, 1024, eps=1e-05, affine=True)\n",
            "    (relu): LeakyReLU(negative_slope=0.2, inplace=True)\n",
            "  )\n",
            "  (depthFCN): UNetFCN(\n",
            "    (up_block1): UNetBlockT(\n",
            "      (up_sampling): Upsample(scale_factor=2.0, mode=bilinear)\n",
            "      (conv1): Conv2d(3072, 512, kernel_size=(3, 3), stride=(1, 1), padding=(1, 1))\n",
            "      (bn1): GroupNorm(8, 512, eps=1e-05, affine=True)\n",
            "      (conv2): Conv2d(512, 512, kernel_size=(3, 3), stride=(1, 1), padding=(1, 1))\n",
            "      (bn2): GroupNorm(8, 512, eps=1e-05, affine=True)\n",
            "      (conv3): Conv2d(512, 512, kernel_size=(3, 3), stride=(1, 1), padding=(1, 1))\n",
            "      (bn3): GroupNorm(8, 512, eps=1e-05, affine=True)\n",
            "      (relu): LeakyReLU(negative_slope=0.2, inplace=True)\n",
            "    )\n",
            "    (up_block2): UNetBlockT(\n",
            "      (up_sampling): Upsample(scale_factor=2.0, mode=bilinear)\n",
            "      (conv1): Conv2d(1024, 256, kernel_size=(3, 3), stride=(1, 1), padding=(1, 1))\n",
            "      (bn1): GroupNorm(8, 256, eps=1e-05, affine=True)\n",
            "      (conv2): Conv2d(256, 256, kernel_size=(3, 3), stride=(1, 1), padding=(1, 1))\n",
            "      (bn2): GroupNorm(8, 256, eps=1e-05, affine=True)\n",
            "      (conv3): Conv2d(256, 256, kernel_size=(3, 3), stride=(1, 1), padding=(1, 1))\n",
            "      (bn3): GroupNorm(8, 256, eps=1e-05, affine=True)\n",
            "      (relu): LeakyReLU(negative_slope=0.2, inplace=True)\n",
            "    )\n",
            "    (up_block3): UNetBlockT(\n",
            "      (up_sampling): Upsample(scale_factor=2.0, mode=bilinear)\n",
            "      (conv1): Conv2d(512, 128, kernel_size=(3, 3), stride=(1, 1), padding=(1, 1))\n",
            "      (bn1): GroupNorm(8, 128, eps=1e-05, affine=True)\n",
            "      (conv2): Conv2d(128, 128, kernel_size=(3, 3), stride=(1, 1), padding=(1, 1))\n",
            "      (bn2): GroupNorm(8, 128, eps=1e-05, affine=True)\n",
            "      (conv3): Conv2d(128, 128, kernel_size=(3, 3), stride=(1, 1), padding=(1, 1))\n",
            "      (bn3): GroupNorm(8, 128, eps=1e-05, affine=True)\n",
            "      (relu): LeakyReLU(negative_slope=0.2, inplace=True)\n",
            "    )\n",
            "    (up_block4): UNetBlockT(\n",
            "      (up_sampling): Upsample(scale_factor=2.0, mode=bilinear)\n",
            "      (conv1): Conv2d(256, 64, kernel_size=(3, 3), stride=(1, 1), padding=(1, 1))\n",
            "      (bn1): GroupNorm(8, 64, eps=1e-05, affine=True)\n",
            "      (conv2): Conv2d(64, 64, kernel_size=(3, 3), stride=(1, 1), padding=(1, 1))\n",
            "      (bn2): GroupNorm(8, 64, eps=1e-05, affine=True)\n",
            "      (conv3): Conv2d(64, 64, kernel_size=(3, 3), stride=(1, 1), padding=(1, 1))\n",
            "      (bn3): GroupNorm(8, 64, eps=1e-05, affine=True)\n",
            "      (relu): LeakyReLU(negative_slope=0.2, inplace=True)\n",
            "    )\n",
            "    (up_block5): UNetBlockT(\n",
            "      (up_sampling): Upsample(scale_factor=2.0, mode=bilinear)\n",
            "      (conv1): Conv2d(128, 32, kernel_size=(3, 3), stride=(1, 1), padding=(1, 1))\n",
            "      (bn1): GroupNorm(8, 32, eps=1e-05, affine=True)\n",
            "      (conv2): Conv2d(32, 32, kernel_size=(3, 3), stride=(1, 1), padding=(1, 1))\n",
            "      (bn2): GroupNorm(8, 32, eps=1e-05, affine=True)\n",
            "      (conv3): Conv2d(32, 32, kernel_size=(3, 3), stride=(1, 1), padding=(1, 1))\n",
            "      (bn3): GroupNorm(8, 32, eps=1e-05, affine=True)\n",
            "      (relu): LeakyReLU(negative_slope=0.2, inplace=True)\n",
            "    )\n",
            "    (up_block6): UNetBlockT(\n",
            "      (up_sampling): Upsample(scale_factor=2.0, mode=bilinear)\n",
            "      (conv1): Conv2d(64, 16, kernel_size=(3, 3), stride=(1, 1), padding=(1, 1))\n",
            "      (bn1): GroupNorm(8, 16, eps=1e-05, affine=True)\n",
            "      (conv2): Conv2d(16, 16, kernel_size=(3, 3), stride=(1, 1), padding=(1, 1))\n",
            "      (bn2): GroupNorm(8, 16, eps=1e-05, affine=True)\n",
            "      (conv3): Conv2d(16, 16, kernel_size=(3, 3), stride=(1, 1), padding=(1, 1))\n",
            "      (bn3): GroupNorm(8, 16, eps=1e-05, affine=True)\n",
            "      (relu): LeakyReLU(negative_slope=0.2, inplace=True)\n",
            "    )\n",
            "    (last_conv1): Conv2d(16, 16, kernel_size=(3, 3), stride=(1, 1), padding=(1, 1))\n",
            "    (last_bn): GroupNorm(8, 16, eps=1e-05, affine=True)\n",
            "    (last_conv2): Conv2d(16, 1, kernel_size=(1, 1), stride=(1, 1))\n",
            "    (relu): LeakyReLU(negative_slope=0.2, inplace=True)\n",
            "  )\n",
            "  (normalsFCN): UNetFCN(\n",
            "    (up_block1): UNetBlockT(\n",
            "      (up_sampling): Upsample(scale_factor=2.0, mode=bilinear)\n",
            "      (conv1): Conv2d(3072, 512, kernel_size=(3, 3), stride=(1, 1), padding=(1, 1))\n",
            "      (bn1): GroupNorm(8, 512, eps=1e-05, affine=True)\n",
            "      (conv2): Conv2d(512, 512, kernel_size=(3, 3), stride=(1, 1), padding=(1, 1))\n",
            "      (bn2): GroupNorm(8, 512, eps=1e-05, affine=True)\n",
            "      (conv3): Conv2d(512, 512, kernel_size=(3, 3), stride=(1, 1), padding=(1, 1))\n",
            "      (bn3): GroupNorm(8, 512, eps=1e-05, affine=True)\n",
            "      (relu): LeakyReLU(negative_slope=0.2, inplace=True)\n",
            "    )\n",
            "    (up_block2): UNetBlockT(\n",
            "      (up_sampling): Upsample(scale_factor=2.0, mode=bilinear)\n",
            "      (conv1): Conv2d(1024, 256, kernel_size=(3, 3), stride=(1, 1), padding=(1, 1))\n",
            "      (bn1): GroupNorm(8, 256, eps=1e-05, affine=True)\n",
            "      (conv2): Conv2d(256, 256, kernel_size=(3, 3), stride=(1, 1), padding=(1, 1))\n",
            "      (bn2): GroupNorm(8, 256, eps=1e-05, affine=True)\n",
            "      (conv3): Conv2d(256, 256, kernel_size=(3, 3), stride=(1, 1), padding=(1, 1))\n",
            "      (bn3): GroupNorm(8, 256, eps=1e-05, affine=True)\n",
            "      (relu): LeakyReLU(negative_slope=0.2, inplace=True)\n",
            "    )\n",
            "    (up_block3): UNetBlockT(\n",
            "      (up_sampling): Upsample(scale_factor=2.0, mode=bilinear)\n",
            "      (conv1): Conv2d(512, 128, kernel_size=(3, 3), stride=(1, 1), padding=(1, 1))\n",
            "      (bn1): GroupNorm(8, 128, eps=1e-05, affine=True)\n",
            "      (conv2): Conv2d(128, 128, kernel_size=(3, 3), stride=(1, 1), padding=(1, 1))\n",
            "      (bn2): GroupNorm(8, 128, eps=1e-05, affine=True)\n",
            "      (conv3): Conv2d(128, 128, kernel_size=(3, 3), stride=(1, 1), padding=(1, 1))\n",
            "      (bn3): GroupNorm(8, 128, eps=1e-05, affine=True)\n",
            "      (relu): LeakyReLU(negative_slope=0.2, inplace=True)\n",
            "    )\n",
            "    (up_block4): UNetBlockT(\n",
            "      (up_sampling): Upsample(scale_factor=2.0, mode=bilinear)\n",
            "      (conv1): Conv2d(256, 64, kernel_size=(3, 3), stride=(1, 1), padding=(1, 1))\n",
            "      (bn1): GroupNorm(8, 64, eps=1e-05, affine=True)\n",
            "      (conv2): Conv2d(64, 64, kernel_size=(3, 3), stride=(1, 1), padding=(1, 1))\n",
            "      (bn2): GroupNorm(8, 64, eps=1e-05, affine=True)\n",
            "      (conv3): Conv2d(64, 64, kernel_size=(3, 3), stride=(1, 1), padding=(1, 1))\n",
            "      (bn3): GroupNorm(8, 64, eps=1e-05, affine=True)\n",
            "      (relu): LeakyReLU(negative_slope=0.2, inplace=True)\n",
            "    )\n",
            "    (up_block5): UNetBlockT(\n",
            "      (up_sampling): Upsample(scale_factor=2.0, mode=bilinear)\n",
            "      (conv1): Conv2d(128, 32, kernel_size=(3, 3), stride=(1, 1), padding=(1, 1))\n",
            "      (bn1): GroupNorm(8, 32, eps=1e-05, affine=True)\n",
            "      (conv2): Conv2d(32, 32, kernel_size=(3, 3), stride=(1, 1), padding=(1, 1))\n",
            "      (bn2): GroupNorm(8, 32, eps=1e-05, affine=True)\n",
            "      (conv3): Conv2d(32, 32, kernel_size=(3, 3), stride=(1, 1), padding=(1, 1))\n",
            "      (bn3): GroupNorm(8, 32, eps=1e-05, affine=True)\n",
            "      (relu): LeakyReLU(negative_slope=0.2, inplace=True)\n",
            "    )\n",
            "    (up_block6): UNetBlockT(\n",
            "      (up_sampling): Upsample(scale_factor=2.0, mode=bilinear)\n",
            "      (conv1): Conv2d(64, 16, kernel_size=(3, 3), stride=(1, 1), padding=(1, 1))\n",
            "      (bn1): GroupNorm(8, 16, eps=1e-05, affine=True)\n",
            "      (conv2): Conv2d(16, 16, kernel_size=(3, 3), stride=(1, 1), padding=(1, 1))\n",
            "      (bn2): GroupNorm(8, 16, eps=1e-05, affine=True)\n",
            "      (conv3): Conv2d(16, 16, kernel_size=(3, 3), stride=(1, 1), padding=(1, 1))\n",
            "      (bn3): GroupNorm(8, 16, eps=1e-05, affine=True)\n",
            "      (relu): LeakyReLU(negative_slope=0.2, inplace=True)\n",
            "    )\n",
            "    (last_conv1): Conv2d(16, 16, kernel_size=(3, 3), stride=(1, 1), padding=(1, 1))\n",
            "    (last_bn): GroupNorm(8, 16, eps=1e-05, affine=True)\n",
            "    (last_conv2): Conv2d(16, 3, kernel_size=(1, 1), stride=(1, 1))\n",
            "    (relu): LeakyReLU(negative_slope=0.2, inplace=True)\n",
            "  )\n",
            ")\n"
          ],
          "name": "stdout"
        }
      ]
    }
  ]
}